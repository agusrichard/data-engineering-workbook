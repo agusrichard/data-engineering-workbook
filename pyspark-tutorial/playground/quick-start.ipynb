{
 "cells": [
  {
   "cell_type": "markdown",
   "id": "556853a17d10f05",
   "metadata": {
    "collapsed": false
   },
   "source": [
    "# PySpark Tutorial"
   ]
  },
  {
   "cell_type": "markdown",
   "source": [
    "## PySpark Session"
   ],
   "metadata": {
    "collapsed": false
   },
   "id": "e5113c0f74268e01"
  },
  {
   "cell_type": "code",
   "outputs": [],
   "source": [
    "from pyspark.sql import SparkSession\n",
    "\n",
    "spark = SparkSession.builder.appName(\"tutorial\").getOrCreate()"
   ],
   "metadata": {
    "collapsed": false,
    "ExecuteTime": {
     "end_time": "2024-01-28T07:50:27.367822Z",
     "start_time": "2024-01-28T07:50:25.448318Z"
    }
   },
   "id": "e963253f70c514a7",
   "execution_count": 2
  },
  {
   "cell_type": "code",
   "outputs": [
    {
     "name": "stderr",
     "output_type": "stream",
     "text": [
      "                                                                                \r"
     ]
    },
    {
     "name": "stdout",
     "output_type": "stream",
     "text": [
      "+-------------------+---+--------+------+\n",
      "|               Name|Age|Nickname|Gender|\n",
      "+-------------------+---+--------+------+\n",
      "|       Agus Richard| 26| Richard|  Male|\n",
      "|Damara Astiningtyas| 23|     Ara|Female|\n",
      "+-------------------+---+--------+------+\n"
     ]
    }
   ],
   "source": [
    "data = [\n",
    "    (\"Agus Richard\", 26, \"Richard\", \"Male\"),\n",
    "    (\"Damara Astiningtyas\", 23, \"Ara\", \"Female\")\n",
    "]\n",
    "column = [\"Name\", \"Age\", \"Nickname\", \"Gender\"]\n",
    "\n",
    "df = spark.createDataFrame(data, column)\n",
    "df.show()"
   ],
   "metadata": {
    "collapsed": false,
    "ExecuteTime": {
     "end_time": "2024-01-28T07:52:52.599265Z",
     "start_time": "2024-01-28T07:52:45.538109Z"
    }
   },
   "id": "536a51f4e3f4db16",
   "execution_count": 3
  },
  {
   "cell_type": "code",
   "outputs": [
    {
     "name": "stdout",
     "output_type": "stream",
     "text": [
      "+-------------------+\n",
      "|               Name|\n",
      "+-------------------+\n",
      "|       Agus Richard|\n",
      "|Damara Astiningtyas|\n",
      "+-------------------+\n"
     ]
    }
   ],
   "source": [
    "df.createOrReplaceTempView(\"sample_table\")\n",
    "df2 = spark.sql(\"SELECT Name FROM sample_table\")\n",
    "df2.show()"
   ],
   "metadata": {
    "collapsed": false,
    "ExecuteTime": {
     "end_time": "2024-01-28T07:53:55.415256Z",
     "start_time": "2024-01-28T07:53:54.239006Z"
    }
   },
   "id": "79bfe439f8f89193",
   "execution_count": 4
  },
  {
   "cell_type": "code",
   "outputs": [
    {
     "name": "stderr",
     "output_type": "stream",
     "text": [
      "                                                                                \r"
     ]
    }
   ],
   "source": [
    "spark.table(\"sample_table\").write.saveAsTable(\"sample_hive_table\")"
   ],
   "metadata": {
    "collapsed": false,
    "ExecuteTime": {
     "end_time": "2024-01-28T07:54:55.499467Z",
     "start_time": "2024-01-28T07:54:51.737281Z"
    }
   },
   "id": "d48e50bbda86796d",
   "execution_count": 5
  },
  {
   "cell_type": "code",
   "outputs": [
    {
     "name": "stdout",
     "output_type": "stream",
     "text": [
      "+-------------------+---+--------+------+\n",
      "|               Name|Age|Nickname|Gender|\n",
      "+-------------------+---+--------+------+\n",
      "|Damara Astiningtyas| 23|     Ara|Female|\n",
      "|       Agus Richard| 26| Richard|  Male|\n",
      "+-------------------+---+--------+------+\n"
     ]
    }
   ],
   "source": [
    "df3 = spark.sql(\"SELECT * FROM sample_hive_table\")\n",
    "df3.show()"
   ],
   "metadata": {
    "collapsed": false,
    "ExecuteTime": {
     "end_time": "2024-01-28T07:55:10.578811Z",
     "start_time": "2024-01-28T07:55:09.526711Z"
    }
   },
   "id": "f0f68b0d6a1b68d0",
   "execution_count": 6
  },
  {
   "cell_type": "code",
   "outputs": [
    {
     "name": "stdout",
     "output_type": "stream",
     "text": [
      "[Database(name='default', catalog='spark_catalog', description='default database', locationUri='file:/Users/agusrichard/Documents/personal/workbook/data-engineering-workbook/pyspark-tutorial/playground/spark-warehouse')]\n"
     ]
    }
   ],
   "source": [
    "dbs = spark.catalog.listDatabases()\n",
    "print(dbs)"
   ],
   "metadata": {
    "collapsed": false,
    "ExecuteTime": {
     "end_time": "2024-01-28T07:55:31.346822Z",
     "start_time": "2024-01-28T07:55:30.216838Z"
    }
   },
   "id": "aef0f535d81ca63e",
   "execution_count": 7
  },
  {
   "cell_type": "code",
   "outputs": [
    {
     "name": "stdout",
     "output_type": "stream",
     "text": [
      "sample_hive_table\n",
      "sample_table\n"
     ]
    }
   ],
   "source": [
    "tables = spark.catalog.listTables()\n",
    "for table in tables:\n",
    "    print(table.name)"
   ],
   "metadata": {
    "collapsed": false,
    "ExecuteTime": {
     "end_time": "2024-01-28T07:56:01.259790Z",
     "start_time": "2024-01-28T07:56:00.977338Z"
    }
   },
   "id": "68e875c395d6695c",
   "execution_count": 9
  },
  {
   "cell_type": "code",
   "outputs": [],
   "source": [],
   "metadata": {
    "collapsed": false
   },
   "id": "decfb7c863c02946"
  }
 ],
 "metadata": {
  "kernelspec": {
   "display_name": "Python 3 (ipykernel)",
   "language": "python",
   "name": "python3"
  },
  "language_info": {
   "codemirror_mode": {
    "name": "ipython",
    "version": 3
   },
   "file_extension": ".py",
   "mimetype": "text/x-python",
   "name": "python",
   "nbconvert_exporter": "python",
   "pygments_lexer": "ipython3",
   "version": "3.11.6"
  }
 },
 "nbformat": 4,
 "nbformat_minor": 5
}
