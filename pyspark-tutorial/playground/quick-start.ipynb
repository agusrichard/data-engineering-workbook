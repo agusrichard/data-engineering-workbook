{
 "cells": [
  {
   "cell_type": "markdown",
   "id": "556853a17d10f05",
   "metadata": {
    "collapsed": false
   },
   "source": [
    "# PySpark Quick Start"
   ]
  },
  {
   "cell_type": "code",
   "execution_count": null,
   "id": "4a1920fba76a93e2",
   "metadata": {
    "collapsed": false,
    "is_executing": true
   },
   "outputs": [],
   "source": [
    "# import necessary libraries\n",
    "import pandas as pd \n",
    "import numpy\n",
    "import matplotlib.pyplot as plt \n",
    "from pyspark.sql import SparkSession\n",
    "\n",
    "# create sparksession\n",
    "spark = SparkSession \\\n",
    "    .builder \\\n",
    "    .appName(\"Pysparkexample\") \\\n",
    "    .config(\"spark.some.config.option\", \"some-value\") \\\n",
    "    .getOrCreate()"
   ]
  },
  {
   "cell_type": "code",
   "execution_count": 2,
   "id": "b5bd7f3f5b64e2b8",
   "metadata": {
    "ExecuteTime": {
     "end_time": "2024-01-24T14:11:30.347933Z",
     "start_time": "2024-01-24T14:11:27.770549Z"
    },
    "collapsed": false
   },
   "outputs": [
    {
     "data": {
      "text/plain": [
       "92"
      ]
     },
     "execution_count": 2,
     "metadata": {},
     "output_type": "execute_result"
    }
   ],
   "source": [
    "text_file = spark.read.text(\"README.md\")\n",
    "text_file.count()"
   ]
  },
  {
   "cell_type": "code",
   "execution_count": 3,
   "id": "1733b3248e02e213",
   "metadata": {
    "ExecuteTime": {
     "end_time": "2024-01-24T14:11:36.196869Z",
     "start_time": "2024-01-24T14:11:36.091773Z"
    },
    "collapsed": false
   },
   "outputs": [
    {
     "data": {
      "text/plain": [
       "Row(value='# PySpark Tutorial')"
      ]
     },
     "execution_count": 3,
     "metadata": {},
     "output_type": "execute_result"
    }
   ],
   "source": [
    "text_file.first()"
   ]
  },
  {
   "cell_type": "code",
   "execution_count": 2,
   "id": "4df5d3a6329792a3",
   "metadata": {
    "ExecuteTime": {
     "end_time": "2024-01-24T14:11:50.895179Z",
     "start_time": "2024-01-24T14:11:50.403883Z"
    },
    "collapsed": false
   },
   "outputs": [
    {
     "name": "stdout",
     "output_type": "stream",
     "text": [
      "/opt/conda/bin/python\n"
     ]
    }
   ],
   "source": [
    "!which python"
   ]
  },
  {
   "cell_type": "code",
   "execution_count": null,
   "id": "ffca3621bcd65c99",
   "metadata": {
    "collapsed": false
   },
   "outputs": [],
   "source": []
  }
 ],
 "metadata": {
  "kernelspec": {
   "display_name": "Python 3 (ipykernel)",
   "language": "python",
   "name": "python3"
  },
  "language_info": {
   "codemirror_mode": {
    "name": "ipython",
    "version": 3
   },
   "file_extension": ".py",
   "mimetype": "text/x-python",
   "name": "python",
   "nbconvert_exporter": "python",
   "pygments_lexer": "ipython3",
   "version": "3.11.6"
  }
 },
 "nbformat": 4,
 "nbformat_minor": 5
}
