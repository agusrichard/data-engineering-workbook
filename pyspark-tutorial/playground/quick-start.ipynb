{
 "cells": [
  {
   "cell_type": "markdown",
   "id": "556853a17d10f05",
   "metadata": {
    "collapsed": false
   },
   "source": [
    "# PySpark Quick Start"
   ]
  },
  {
   "cell_type": "code",
   "execution_count": 3,
   "id": "4a1920fba76a93e2",
   "metadata": {
    "collapsed": false,
    "ExecuteTime": {
     "end_time": "2024-01-26T15:13:19.641875Z",
     "start_time": "2024-01-26T15:13:15.691119Z"
    }
   },
   "outputs": [],
   "source": [
    "# import necessary libraries\n",
    "import pandas as pd \n",
    "import numpy\n",
    "import matplotlib.pyplot as plt \n",
    "from pyspark.sql import SparkSession\n",
    "\n",
    "# create sparksession\n",
    "spark = SparkSession \\\n",
    "    .builder \\\n",
    "    .appName(\"Pysparkexample\") \\\n",
    "    .config(\"spark.some.config.option\", \"some-value\") \\\n",
    "    .getOrCreate()"
   ]
  },
  {
   "cell_type": "code",
   "execution_count": 5,
   "id": "b5bd7f3f5b64e2b8",
   "metadata": {
    "collapsed": false,
    "ExecuteTime": {
     "end_time": "2024-01-26T15:15:48.880720Z",
     "start_time": "2024-01-26T15:15:46.846010Z"
    }
   },
   "outputs": [
    {
     "data": {
      "text/plain": "1"
     },
     "execution_count": 5,
     "metadata": {},
     "output_type": "execute_result"
    }
   ],
   "source": [
    "text_file = spark.read.text(\"example.txt\")\n",
    "text_file.count()"
   ]
  },
  {
   "cell_type": "code",
   "execution_count": 6,
   "id": "1733b3248e02e213",
   "metadata": {
    "collapsed": false,
    "ExecuteTime": {
     "end_time": "2024-01-26T15:15:49.871271Z",
     "start_time": "2024-01-26T15:15:49.718225Z"
    }
   },
   "outputs": [
    {
     "data": {
      "text/plain": "Row(value='Damara Astiningtyas')"
     },
     "execution_count": 6,
     "metadata": {},
     "output_type": "execute_result"
    }
   ],
   "source": [
    "text_file.first()"
   ]
  }
 ],
 "metadata": {
  "kernelspec": {
   "display_name": "Python 3 (ipykernel)",
   "language": "python",
   "name": "python3"
  },
  "language_info": {
   "codemirror_mode": {
    "name": "ipython",
    "version": 3
   },
   "file_extension": ".py",
   "mimetype": "text/x-python",
   "name": "python",
   "nbconvert_exporter": "python",
   "pygments_lexer": "ipython3",
   "version": "3.11.6"
  }
 },
 "nbformat": 4,
 "nbformat_minor": 5
}
