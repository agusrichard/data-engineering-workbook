{
 "cells": [
  {
   "cell_type": "markdown",
   "id": "556853a17d10f05",
   "metadata": {
    "collapsed": false
   },
   "source": [
    "# PySpark Tutorial"
   ]
  },
  {
   "cell_type": "markdown",
   "source": [
    "## PySpark Session"
   ],
   "metadata": {
    "collapsed": false
   },
   "id": "e5113c0f74268e01"
  },
  {
   "cell_type": "code",
   "outputs": [],
   "source": [
    "from pyspark.sql import SparkSession\n",
    "\n",
    "spark = SparkSession.builder.appName(\"tutorial\").getOrCreate()"
   ],
   "metadata": {
    "collapsed": false,
    "ExecuteTime": {
     "end_time": "2024-01-28T07:50:27.367822Z",
     "start_time": "2024-01-28T07:50:25.448318Z"
    }
   },
   "id": "e963253f70c514a7",
   "execution_count": 2
  },
  {
   "cell_type": "code",
   "outputs": [
    {
     "name": "stderr",
     "output_type": "stream",
     "text": [
      "                                                                                \r"
     ]
    },
    {
     "name": "stdout",
     "output_type": "stream",
     "text": [
      "+-------------------+---+--------+------+\n",
      "|               Name|Age|Nickname|Gender|\n",
      "+-------------------+---+--------+------+\n",
      "|       Agus Richard| 26| Richard|  Male|\n",
      "|Damara Astiningtyas| 23|     Ara|Female|\n",
      "+-------------------+---+--------+------+\n"
     ]
    }
   ],
   "source": [
    "data = [\n",
    "    (\"Agus Richard\", 26, \"Richard\", \"Male\"),\n",
    "    (\"Damara Astiningtyas\", 23, \"Ara\", \"Female\")\n",
    "]\n",
    "column = [\"Name\", \"Age\", \"Nickname\", \"Gender\"]\n",
    "\n",
    "df = spark.createDataFrame(data, column)\n",
    "df.show()"
   ],
   "metadata": {
    "collapsed": false,
    "ExecuteTime": {
     "end_time": "2024-01-28T07:52:52.599265Z",
     "start_time": "2024-01-28T07:52:45.538109Z"
    }
   },
   "id": "536a51f4e3f4db16",
   "execution_count": 3
  },
  {
   "cell_type": "code",
   "outputs": [
    {
     "name": "stdout",
     "output_type": "stream",
     "text": [
      "+-------------------+\n",
      "|               Name|\n",
      "+-------------------+\n",
      "|       Agus Richard|\n",
      "|Damara Astiningtyas|\n",
      "+-------------------+\n"
     ]
    }
   ],
   "source": [
    "df.createOrReplaceTempView(\"sample_table\")\n",
    "df2 = spark.sql(\"SELECT Name FROM sample_table\")\n",
    "df2.show()"
   ],
   "metadata": {
    "collapsed": false,
    "ExecuteTime": {
     "end_time": "2024-01-28T07:53:55.415256Z",
     "start_time": "2024-01-28T07:53:54.239006Z"
    }
   },
   "id": "79bfe439f8f89193",
   "execution_count": 4
  },
  {
   "cell_type": "code",
   "outputs": [
    {
     "name": "stderr",
     "output_type": "stream",
     "text": [
      "                                                                                \r"
     ]
    }
   ],
   "source": [
    "spark.table(\"sample_table\").write.saveAsTable(\"sample_hive_table\")"
   ],
   "metadata": {
    "collapsed": false,
    "ExecuteTime": {
     "end_time": "2024-01-28T07:54:55.499467Z",
     "start_time": "2024-01-28T07:54:51.737281Z"
    }
   },
   "id": "d48e50bbda86796d",
   "execution_count": 5
  },
  {
   "cell_type": "code",
   "outputs": [
    {
     "name": "stdout",
     "output_type": "stream",
     "text": [
      "+-------------------+---+--------+------+\n",
      "|               Name|Age|Nickname|Gender|\n",
      "+-------------------+---+--------+------+\n",
      "|Damara Astiningtyas| 23|     Ara|Female|\n",
      "|       Agus Richard| 26| Richard|  Male|\n",
      "+-------------------+---+--------+------+\n"
     ]
    }
   ],
   "source": [
    "df3 = spark.sql(\"SELECT * FROM sample_hive_table\")\n",
    "df3.show()"
   ],
   "metadata": {
    "collapsed": false,
    "ExecuteTime": {
     "end_time": "2024-01-28T07:55:10.578811Z",
     "start_time": "2024-01-28T07:55:09.526711Z"
    }
   },
   "id": "f0f68b0d6a1b68d0",
   "execution_count": 6
  },
  {
   "cell_type": "code",
   "outputs": [
    {
     "name": "stdout",
     "output_type": "stream",
     "text": [
      "[Database(name='default', catalog='spark_catalog', description='default database', locationUri='file:/Users/agusrichard/Documents/personal/workbook/data-engineering-workbook/pyspark-tutorial/playground/spark-warehouse')]\n"
     ]
    }
   ],
   "source": [
    "dbs = spark.catalog.listDatabases()\n",
    "print(dbs)"
   ],
   "metadata": {
    "collapsed": false,
    "ExecuteTime": {
     "end_time": "2024-01-28T07:55:31.346822Z",
     "start_time": "2024-01-28T07:55:30.216838Z"
    }
   },
   "id": "aef0f535d81ca63e",
   "execution_count": 7
  },
  {
   "cell_type": "code",
   "outputs": [
    {
     "name": "stdout",
     "output_type": "stream",
     "text": [
      "sample_hive_table\n",
      "sample_table\n"
     ]
    }
   ],
   "source": [
    "tables = spark.catalog.listTables()\n",
    "for table in tables:\n",
    "    print(table.name)"
   ],
   "metadata": {
    "collapsed": false,
    "ExecuteTime": {
     "end_time": "2024-01-28T07:56:01.259790Z",
     "start_time": "2024-01-28T07:56:00.977338Z"
    }
   },
   "id": "68e875c395d6695c",
   "execution_count": 9
  },
  {
   "cell_type": "markdown",
   "source": [
    "## PySpark RDD"
   ],
   "metadata": {
    "collapsed": false
   },
   "id": "d78a1db9b68dfd12"
  },
  {
   "cell_type": "code",
   "outputs": [
    {
     "name": "stderr",
     "output_type": "stream",
     "text": [
      "24/01/28 18:59:32 WARN SparkSession: Using an existing Spark session; only runtime SQL configurations will take effect.\n"
     ]
    }
   ],
   "source": [
    "spark = SparkSession.builder.appName(\"pyspark-rdd\").getOrCreate()"
   ],
   "metadata": {
    "collapsed": false,
    "ExecuteTime": {
     "end_time": "2024-01-28T11:59:32.017555Z",
     "start_time": "2024-01-28T11:59:31.943018Z"
    }
   },
   "id": "e139649bebde3c5e",
   "execution_count": 10
  },
  {
   "cell_type": "code",
   "outputs": [
    {
     "name": "stdout",
     "output_type": "stream",
     "text": [
      "[0, 1, 2, 3, 4, 5, 6, 7, 8, 9, 10, 11, 12, 13, 14, 15, 16, 17, 18, 19, 20, 21, 22, 23, 24, 25, 26, 27, 28, 29, 30, 31, 32, 33, 34, 35, 36, 37, 38, 39, 40, 41, 42, 43, 44, 45, 46, 47, 48, 49, 50, 51, 52, 53, 54, 55, 56, 57, 58, 59, 60, 61, 62, 63, 64, 65, 66, 67, 68, 69, 70, 71, 72, 73, 74, 75, 76, 77, 78, 79, 80, 81, 82, 83, 84, 85, 86, 87, 88, 89, 90, 91, 92, 93, 94, 95, 96, 97, 98, 99]\n"
     ]
    }
   ],
   "source": [
    "data = list(range(100))\n",
    "print(data)"
   ],
   "metadata": {
    "collapsed": false,
    "ExecuteTime": {
     "end_time": "2024-01-28T12:00:15.658661Z",
     "start_time": "2024-01-28T12:00:15.655561Z"
    }
   },
   "id": "2243cfe1f83ad12b",
   "execution_count": 12
  },
  {
   "cell_type": "code",
   "outputs": [],
   "source": [
    "rdd = spark.sparkContext.parallelize(data, 10)"
   ],
   "metadata": {
    "collapsed": false,
    "ExecuteTime": {
     "end_time": "2024-01-28T12:00:41.264784Z",
     "start_time": "2024-01-28T12:00:41.246988Z"
    }
   },
   "id": "5c3e67fc7298f4f",
   "execution_count": 14
  },
  {
   "cell_type": "code",
   "outputs": [
    {
     "data": {
      "text/plain": "10"
     },
     "execution_count": 15,
     "metadata": {},
     "output_type": "execute_result"
    }
   ],
   "source": [
    "rdd.getNumPartitions()"
   ],
   "metadata": {
    "collapsed": false,
    "ExecuteTime": {
     "end_time": "2024-01-28T12:01:30.644022Z",
     "start_time": "2024-01-28T12:01:30.631397Z"
    }
   },
   "id": "8771d9ae9f4888f7",
   "execution_count": 15
  },
  {
   "cell_type": "code",
   "outputs": [],
   "source": [
    "rdd = spark.sparkContext.textFile(\"./test.txt\")"
   ],
   "metadata": {
    "collapsed": false,
    "ExecuteTime": {
     "end_time": "2024-01-28T12:03:07.841136Z",
     "start_time": "2024-01-28T12:03:07.759099Z"
    }
   },
   "id": "ddeee52bf2d7cfcf",
   "execution_count": 16
  },
  {
   "cell_type": "code",
   "outputs": [
    {
     "name": "stderr",
     "output_type": "stream",
     "text": [
      "[Stage 20:>                                                         (0 + 2) / 2]\r"
     ]
    },
    {
     "name": "stdout",
     "output_type": "stream",
     "text": [
      "[(1, 'Project'), (1, 'Gutenberg’s'), (1, 'Alice’s'), (1, 'Adventures'), (1, 'in'), (1, 'Wonderland'), (1, 'by'), (1, 'Lewis'), (1, 'Carroll'), (1, 'This'), (1, 'eBook'), (1, 'is'), (1, 'for'), (1, 'the'), (1, 'use'), (1, 'of'), (1, 'anyone'), (1, 'anywhere'), (1, 'at'), (1, 'no'), (1, 'cost'), (1, 'and'), (1, 'with'), (1, 'Alice’s'), (1, 'Adventures'), (1, 'in'), (1, 'Wonderland'), (1, 'by'), (1, 'Lewis'), (1, 'Carroll'), (1, 'This'), (1, 'eBook'), (1, 'is'), (1, 'for'), (1, 'the'), (1, 'use'), (1, 'of'), (1, 'anyone'), (1, 'anywhere'), (1, 'at'), (1, 'no'), (1, 'cost'), (1, 'and'), (1, 'with'), (1, 'This'), (1, 'eBook'), (1, 'is'), (1, 'for'), (1, 'the'), (1, 'use'), (1, 'of'), (1, 'anyone'), (1, 'anywhere'), (1, 'at'), (1, 'no'), (1, 'cost'), (1, 'and'), (1, 'with'), (1, 'Project'), (1, 'Gutenberg’s'), (1, 'Alice’s'), (1, 'Adventures'), (1, 'in'), (1, 'Wonderland'), (1, 'by'), (1, 'Lewis'), (1, 'Carroll'), (1, 'This'), (1, 'eBook'), (1, 'is'), (1, 'for'), (1, 'the'), (1, 'use'), (1, 'of'), (1, 'anyone'), (1, 'anywhere'), (1, 'at'), (1, 'no'), (1, 'cost'), (1, 'and'), (1, 'with'), (1, 'Alice’s'), (1, 'Adventures'), (1, 'in'), (1, 'Wonderland'), (1, 'by'), (1, 'Lewis'), (1, 'Carroll'), (1, 'This'), (1, 'eBook'), (1, 'is'), (1, 'for'), (1, 'the'), (1, 'use'), (1, 'of'), (1, 'anyone'), (1, 'anywhere'), (1, 'at'), (1, 'no'), (1, 'cost'), (1, 'and'), (1, 'with'), (1, 'This'), (1, 'eBook'), (1, 'is'), (1, 'for'), (1, 'the'), (1, 'use'), (1, 'of'), (1, 'anyone'), (1, 'anywhere'), (1, 'at'), (1, 'no'), (1, 'cost'), (1, 'and'), (1, 'with'), (1, 'Project'), (1, 'Gutenberg’s'), (1, 'Alice’s'), (1, 'Adventures'), (1, 'in'), (1, 'Wonderland'), (1, 'by'), (1, 'Lewis'), (1, 'Carroll'), (1, 'This'), (1, 'eBook'), (1, 'is'), (1, 'for'), (1, 'the'), (1, 'use'), (1, 'of'), (1, 'anyone'), (1, 'anywhere'), (1, 'at'), (1, 'no'), (1, 'cost'), (1, 'and'), (1, 'with'), (1, 'Alice’s'), (1, 'Adventures'), (1, 'in'), (1, 'Wonderland'), (1, 'by'), (1, 'Lewis'), (1, 'Carroll'), (1, 'This'), (1, 'eBook'), (1, 'is'), (1, 'for'), (1, 'the'), (1, 'use'), (1, 'of'), (1, 'anyone'), (1, 'anywhere'), (1, 'at'), (1, 'no'), (1, 'cost'), (1, 'and'), (1, 'with'), (1, 'This'), (1, 'eBook'), (1, 'is'), (1, 'for'), (1, 'the'), (1, 'use'), (1, 'of'), (1, 'anyone'), (1, 'anywhere'), (1, 'at'), (1, 'no'), (1, 'cost'), (1, 'and'), (1, 'with'), (1, 'Project'), (1, 'Gutenberg’s'), (1, 'Alice’s'), (1, 'Adventures'), (1, 'in'), (1, 'Wonderland'), (1, 'by'), (1, 'Lewis'), (1, 'Carroll'), (1, 'This'), (1, 'eBook'), (1, 'is'), (1, 'for'), (1, 'the'), (1, 'use'), (1, 'of'), (1, 'anyone'), (1, 'anywhere'), (1, 'at'), (1, 'no'), (1, 'cost'), (1, 'and'), (1, 'with'), (1, 'Alice’s'), (1, 'Adventures'), (1, 'in'), (1, 'Wonderland'), (1, 'by'), (1, 'Lewis'), (1, 'Carroll'), (1, 'This'), (1, 'eBook'), (1, 'is'), (1, 'for'), (1, 'the'), (1, 'use'), (1, 'of'), (1, 'anyone'), (1, 'anywhere'), (1, 'at'), (1, 'no'), (1, 'cost'), (1, 'and'), (1, 'with'), (1, 'This'), (1, 'eBook'), (1, 'is'), (1, 'for'), (1, 'the'), (1, 'use'), (1, 'of'), (1, 'anyone'), (1, 'anywhere'), (1, 'at'), (1, 'no'), (1, 'cost'), (1, 'and'), (1, 'with'), (1, 'Project'), (1, 'Gutenberg’s'), (1, 'Alice’s'), (1, 'Adventures'), (1, 'in'), (1, 'Wonderland'), (1, 'by'), (1, 'Lewis'), (1, 'Carroll'), (1, 'This'), (1, 'eBook'), (1, 'is'), (1, 'for'), (1, 'the'), (1, 'use'), (1, 'of'), (1, 'anyone'), (1, 'anywhere'), (1, 'at'), (1, 'no'), (1, 'cost'), (1, 'and'), (1, 'with'), (1, 'Alice’s'), (1, 'Adventures'), (1, 'in'), (1, 'Wonderland'), (1, 'by'), (1, 'Lewis'), (1, 'Carroll'), (1, 'This'), (1, 'eBook'), (1, 'is'), (1, 'for'), (1, 'the'), (1, 'use'), (1, 'of'), (1, 'anyone'), (1, 'anywhere'), (1, 'at'), (1, 'no'), (1, 'cost'), (1, 'and'), (1, 'with'), (1, 'This'), (1, 'eBook'), (1, 'is'), (1, 'for'), (1, 'the'), (1, 'use'), (1, 'of'), (1, 'anyone'), (1, 'anywhere'), (1, 'at'), (1, 'no'), (1, 'cost'), (1, 'and'), (1, 'with'), (1, 'Project'), (1, 'Gutenberg’s'), (1, 'Alice’s'), (1, 'Adventures'), (1, 'in'), (1, 'Wonderland'), (1, 'by'), (1, 'Lewis'), (1, 'Carroll'), (1, 'This'), (1, 'eBook'), (1, 'is'), (1, 'for'), (1, 'the'), (1, 'use'), (1, 'of'), (1, 'anyone'), (1, 'anywhere'), (1, 'at'), (1, 'no'), (1, 'cost'), (1, 'and'), (1, 'with'), (1, 'Alice’s'), (1, 'Adventures'), (1, 'in'), (1, 'Wonderland'), (1, 'by'), (1, 'Lewis'), (1, 'Carroll'), (1, 'This'), (1, 'eBook'), (1, 'is'), (1, 'for'), (1, 'the'), (1, 'use'), (1, 'of'), (1, 'anyone'), (1, 'anywhere'), (1, 'at'), (1, 'no'), (1, 'cost'), (1, 'and'), (1, 'with'), (1, 'This'), (1, 'eBook'), (1, 'is'), (1, 'for'), (1, 'the'), (1, 'use'), (1, 'of'), (1, 'anyone'), (1, 'anywhere'), (1, 'at'), (1, 'no'), (1, 'cost'), (1, 'and'), (1, 'with'), (1, 'Project'), (1, 'Gutenberg’s'), (1, 'Alice’s'), (1, 'Adventures'), (1, 'in'), (1, 'Wonderland'), (1, 'by'), (1, 'Lewis'), (1, 'Carroll'), (1, 'This'), (1, 'eBook'), (1, 'is'), (1, 'for'), (1, 'the'), (1, 'use'), (1, 'of'), (1, 'anyone'), (1, 'anywhere'), (1, 'at'), (1, 'no'), (1, 'cost'), (1, 'and'), (1, 'with'), (1, 'Alice’s'), (1, 'Adventures'), (1, 'in'), (1, 'Wonderland'), (1, 'by'), (1, 'Lewis'), (1, 'Carroll'), (1, 'This'), (1, 'eBook'), (1, 'is'), (1, 'for'), (1, 'the'), (1, 'use'), (1, 'of'), (1, 'anyone'), (1, 'anywhere'), (1, 'at'), (1, 'no'), (1, 'cost'), (1, 'and'), (1, 'with'), (1, 'This'), (1, 'eBook'), (1, 'is'), (1, 'for'), (1, 'the'), (1, 'use'), (1, 'of'), (1, 'anyone'), (1, 'anywhere'), (1, 'at'), (1, 'no'), (1, 'cost'), (1, 'and'), (1, 'with'), (1, 'Project'), (1, 'Gutenberg’s'), (1, 'Alice’s'), (1, 'Adventures'), (1, 'in'), (1, 'Wonderland'), (1, 'by'), (1, 'Lewis'), (1, 'Carroll'), (1, 'This'), (1, 'eBook'), (1, 'is'), (1, 'for'), (1, 'the'), (1, 'use'), (1, 'of'), (1, 'anyone'), (1, 'anywhere'), (1, 'at'), (1, 'no'), (1, 'cost'), (1, 'and'), (1, 'with'), (1, 'Alice’s'), (1, 'Adventures'), (1, 'in'), (1, 'Wonderland'), (1, 'by'), (1, 'Lewis'), (1, 'Carroll'), (1, 'This'), (1, 'eBook'), (1, 'is'), (1, 'for'), (1, 'the'), (1, 'use'), (1, 'of'), (1, 'anyone'), (1, 'anywhere'), (1, 'at'), (1, 'no'), (1, 'cost'), (1, 'and'), (1, 'with'), (1, 'This'), (1, 'eBook'), (1, 'is'), (1, 'for'), (1, 'the'), (1, 'use'), (1, 'of'), (1, 'anyone'), (1, 'anywhere'), (1, 'at'), (1, 'no'), (1, 'cost'), (1, 'and'), (1, 'with'), (1, 'Project'), (1, 'Gutenberg’s'), (1, 'Alice’s'), (1, 'Adventures'), (1, 'in'), (1, 'Wonderland'), (1, 'by'), (1, 'Lewis'), (1, 'Carroll'), (1, 'This'), (1, 'eBook'), (1, 'is'), (1, 'for'), (1, 'the'), (1, 'use'), (1, 'of'), (1, 'anyone'), (1, 'anywhere'), (1, 'at'), (1, 'no'), (1, 'cost'), (1, 'and'), (1, 'with'), (1, 'Alice’s'), (1, 'Adventures'), (1, 'in'), (1, 'Wonderland'), (1, 'by'), (1, 'Lewis'), (1, 'Carroll'), (1, 'This'), (1, 'eBook'), (1, 'is'), (1, 'for'), (1, 'the'), (1, 'use'), (1, 'of'), (1, 'anyone'), (1, 'anywhere'), (1, 'at'), (1, 'no'), (1, 'cost'), (1, 'and'), (1, 'with'), (1, 'This'), (1, 'eBook'), (1, 'is'), (1, 'for'), (1, 'the'), (1, 'use'), (1, 'of'), (1, 'anyone'), (1, 'anywhere'), (1, 'at'), (1, 'no'), (1, 'cost'), (1, 'and'), (1, 'with')]\n"
     ]
    },
    {
     "name": "stderr",
     "output_type": "stream",
     "text": [
      "                                                                                \r"
     ]
    }
   ],
   "source": [
    "rdd2 = rdd.flatMap(lambda line: line.split(\" \"))\n",
    "rdd3 = rdd2.map(lambda x: (x, 1))\n",
    "rdd4 = rdd3.map(lambda x: (x[1], x[0])).sortByKey()\n",
    "print(rdd4.collect())"
   ],
   "metadata": {
    "collapsed": false,
    "ExecuteTime": {
     "end_time": "2024-01-28T12:05:08.244520Z",
     "start_time": "2024-01-28T12:05:06.660871Z"
    }
   },
   "id": "b467d827e2d431a",
   "execution_count": 17
  },
  {
   "cell_type": "code",
   "outputs": [],
   "source": [
    "rdd4.saveAsTextFile(\"result_test\")\n",
    "# somethihgn"
   ],
   "metadata": {
    "collapsed": false,
    "ExecuteTime": {
     "end_time": "2024-01-28T12:06:31.650023Z",
     "start_time": "2024-01-28T12:06:31.343273Z"
    }
   },
   "id": "c4d33268fcdb37bd",
   "execution_count": 19
  }
 ],
 "metadata": {
  "kernelspec": {
   "display_name": "Python 3 (ipykernel)",
   "language": "python",
   "name": "python3"
  },
  "language_info": {
   "codemirror_mode": {
    "name": "ipython",
    "version": 3
   },
   "file_extension": ".py",
   "mimetype": "text/x-python",
   "name": "python",
   "nbconvert_exporter": "python",
   "pygments_lexer": "ipython3",
   "version": "3.11.6"
  }
 },
 "nbformat": 4,
 "nbformat_minor": 5
}
