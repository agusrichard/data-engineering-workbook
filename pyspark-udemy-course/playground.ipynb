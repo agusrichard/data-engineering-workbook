{
 "cells": [
  {
   "cell_type": "markdown",
   "id": "1536b53f-fa75-4e14-80a2-39a8b09c98f9",
   "metadata": {},
   "source": [
    "# Spark and PySpark Udemy Course"
   ]
  },
  {
   "cell_type": "code",
   "execution_count": 1,
   "id": "c04fd163-d924-4a0d-a0ca-7cb9cf332d14",
   "metadata": {
    "editable": true,
    "slideshow": {
     "slide_type": ""
    },
    "tags": []
   },
   "outputs": [],
   "source": [
    "from pyspark.sql import SparkSession"
   ]
  },
  {
   "cell_type": "code",
   "execution_count": 2,
   "id": "70dc773d-3c3a-4f10-b5a4-f1a8b52fa344",
   "metadata": {},
   "outputs": [],
   "source": [
    "spark = SparkSession.builder.appName(\"basics\").getOrCreate()"
   ]
  },
  {
   "cell_type": "code",
   "execution_count": 5,
   "id": "028d2d26-67d8-414a-8b79-5ea0837d0b8f",
   "metadata": {},
   "outputs": [],
   "source": [
    "df = spark.read.csv(\"./files/mydata.csv\", header='true')"
   ]
  },
  {
   "cell_type": "code",
   "execution_count": 6,
   "id": "da32eb3c-c570-42b7-9092-04e14642b3be",
   "metadata": {},
   "outputs": [
    {
     "name": "stdout",
     "output_type": "stream",
     "text": [
      "+-----+-----+\n",
      "| name|sales|\n",
      "+-----+-----+\n",
      "| John|  100|\n",
      "|Cindy|   86|\n",
      "| Carl|  230|\n",
      "+-----+-----+\n",
      "\n"
     ]
    }
   ],
   "source": [
    "df.show()"
   ]
  },
  {
   "cell_type": "code",
   "execution_count": 7,
   "id": "3d1ce17f-551e-47d5-a65a-60c45c36ad9c",
   "metadata": {},
   "outputs": [
    {
     "name": "stdout",
     "output_type": "stream",
     "text": [
      "root\n",
      " |-- name: string (nullable = true)\n",
      " |-- sales: string (nullable = true)\n",
      "\n"
     ]
    }
   ],
   "source": [
    "df.printSchema()"
   ]
  },
  {
   "cell_type": "code",
   "execution_count": 8,
   "id": "64b288f1-6e39-4848-8485-1912336a1e81",
   "metadata": {},
   "outputs": [
    {
     "name": "stdout",
     "output_type": "stream",
     "text": [
      "+-------+----+------------------+\n",
      "|summary|name|             sales|\n",
      "+-------+----+------------------+\n",
      "|  count|   3|                 3|\n",
      "|   mean|NULL|138.66666666666666|\n",
      "| stddev|NULL| 79.40612906654835|\n",
      "|    min|Carl|               100|\n",
      "|    max|John|                86|\n",
      "+-------+----+------------------+\n",
      "\n"
     ]
    }
   ],
   "source": [
    "df.describe().show()"
   ]
  },
  {
   "cell_type": "code",
   "execution_count": 10,
   "id": "38735758-514d-45b5-80dd-63292db67010",
   "metadata": {},
   "outputs": [],
   "source": [
    "from pyspark.sql.types import (\n",
    "    StructType, StructField,\n",
    "    StringType, IntegerType\n",
    ")"
   ]
  },
  {
   "cell_type": "code",
   "execution_count": 13,
   "id": "0cf1e72e-0883-443d-8132-bf4d257556f2",
   "metadata": {},
   "outputs": [],
   "source": [
    "columns_schema = [\n",
    "    StructField('name', StringType(), True),\n",
    "    StructField('sales', IntegerType(), True)\n",
    "]"
   ]
  },
  {
   "cell_type": "code",
   "execution_count": 14,
   "id": "5b47d60f-f55b-4f8a-a4cc-6d245f00a89c",
   "metadata": {},
   "outputs": [],
   "source": [
    "schema = StructType(fields=columns_schema)"
   ]
  },
  {
   "cell_type": "code",
   "execution_count": 15,
   "id": "772bcc22-08e9-4e4e-be28-00ae6881335a",
   "metadata": {},
   "outputs": [],
   "source": [
    "df = spark.read.csv(\"./files/mydata.csv\", header=True, schema=schema)"
   ]
  },
  {
   "cell_type": "code",
   "execution_count": 16,
   "id": "75698113-67cb-4b7b-a229-874fab0eef91",
   "metadata": {},
   "outputs": [
    {
     "name": "stdout",
     "output_type": "stream",
     "text": [
      "+-----+-----+\n",
      "| name|sales|\n",
      "+-----+-----+\n",
      "| John|  100|\n",
      "|Cindy|   86|\n",
      "| Carl|  230|\n",
      "+-----+-----+\n",
      "\n"
     ]
    }
   ],
   "source": [
    "df.show()"
   ]
  },
  {
   "cell_type": "code",
   "execution_count": null,
   "id": "5c031e92-9e71-4c1f-b32f-a26cce6c48d7",
   "metadata": {},
   "outputs": [],
   "source": []
  }
 ],
 "metadata": {
  "kernelspec": {
   "display_name": "Python 3 (ipykernel)",
   "language": "python",
   "name": "python3"
  },
  "language_info": {
   "codemirror_mode": {
    "name": "ipython",
    "version": 3
   },
   "file_extension": ".py",
   "mimetype": "text/x-python",
   "name": "python",
   "nbconvert_exporter": "python",
   "pygments_lexer": "ipython3",
   "version": "3.11.9"
  }
 },
 "nbformat": 4,
 "nbformat_minor": 5
}
