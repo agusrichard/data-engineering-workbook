{
 "cells": [
  {
   "cell_type": "markdown",
   "id": "1536b53f-fa75-4e14-80a2-39a8b09c98f9",
   "metadata": {},
   "source": [
    "# Spark and PySpark Udemy Course"
   ]
  },
  {
   "cell_type": "code",
   "execution_count": 1,
   "id": "c04fd163-d924-4a0d-a0ca-7cb9cf332d14",
   "metadata": {
    "editable": true,
    "slideshow": {
     "slide_type": ""
    },
    "tags": [],
    "ExecuteTime": {
     "end_time": "2024-06-04T15:30:51.177552Z",
     "start_time": "2024-06-04T15:30:51.130344Z"
    }
   },
   "outputs": [],
   "source": [
    "from pyspark.sql import SparkSession"
   ]
  },
  {
   "cell_type": "code",
   "execution_count": 2,
   "id": "70dc773d-3c3a-4f10-b5a4-f1a8b52fa344",
   "metadata": {
    "ExecuteTime": {
     "end_time": "2024-06-04T15:31:00.150598Z",
     "start_time": "2024-06-04T15:30:52.747145Z"
    }
   },
   "outputs": [
    {
     "name": "stderr",
     "output_type": "stream",
     "text": [
      "24/06/04 22:30:56 WARN Utils: Your hostname, agusrichard.local resolves to a loopback address: 127.0.0.1; using 192.168.0.107 instead (on interface en0)\n",
      "24/06/04 22:30:56 WARN Utils: Set SPARK_LOCAL_IP if you need to bind to another address\n",
      "Setting default log level to \"WARN\".\n",
      "To adjust logging level use sc.setLogLevel(newLevel). For SparkR, use setLogLevel(newLevel).\n",
      "24/06/04 22:30:57 WARN NativeCodeLoader: Unable to load native-hadoop library for your platform... using builtin-java classes where applicable\n"
     ]
    }
   ],
   "source": [
    "spark = SparkSession.builder.appName(\"basics\").getOrCreate()"
   ]
  },
  {
   "cell_type": "code",
   "execution_count": 3,
   "id": "028d2d26-67d8-414a-8b79-5ea0837d0b8f",
   "metadata": {
    "ExecuteTime": {
     "end_time": "2024-06-04T15:31:09.410963Z",
     "start_time": "2024-06-04T15:31:01.721737Z"
    }
   },
   "outputs": [
    {
     "name": "stderr",
     "output_type": "stream",
     "text": [
      "                                                                                \r"
     ]
    }
   ],
   "source": [
    "df = spark.read.csv(\"./files/mydata.csv\", header='true')"
   ]
  },
  {
   "cell_type": "code",
   "execution_count": 6,
   "id": "da32eb3c-c570-42b7-9092-04e14642b3be",
   "metadata": {},
   "outputs": [
    {
     "name": "stdout",
     "output_type": "stream",
     "text": [
      "+-----+-----+\n",
      "| name|sales|\n",
      "+-----+-----+\n",
      "| John|  100|\n",
      "|Cindy|   86|\n",
      "| Carl|  230|\n",
      "+-----+-----+\n"
     ]
    }
   ],
   "source": [
    "df.show()"
   ]
  },
  {
   "cell_type": "code",
   "execution_count": 7,
   "id": "3d1ce17f-551e-47d5-a65a-60c45c36ad9c",
   "metadata": {},
   "outputs": [
    {
     "name": "stdout",
     "output_type": "stream",
     "text": [
      "root\n",
      " |-- name: string (nullable = true)\n",
      " |-- sales: string (nullable = true)\n"
     ]
    }
   ],
   "source": [
    "df.printSchema()"
   ]
  },
  {
   "cell_type": "code",
   "execution_count": 8,
   "id": "64b288f1-6e39-4848-8485-1912336a1e81",
   "metadata": {},
   "outputs": [
    {
     "name": "stdout",
     "output_type": "stream",
     "text": [
      "+-------+----+------------------+\n",
      "|summary|name|             sales|\n",
      "+-------+----+------------------+\n",
      "|  count|   3|                 3|\n",
      "|   mean|NULL|138.66666666666666|\n",
      "| stddev|NULL| 79.40612906654835|\n",
      "|    min|Carl|               100|\n",
      "|    max|John|                86|\n",
      "+-------+----+------------------+\n"
     ]
    }
   ],
   "source": [
    "df.describe().show()"
   ]
  },
  {
   "cell_type": "code",
   "execution_count": 10,
   "id": "38735758-514d-45b5-80dd-63292db67010",
   "metadata": {},
   "outputs": [],
   "source": [
    "from pyspark.sql.types import (\n",
    "    StructType, StructField,\n",
    "    StringType, IntegerType\n",
    ")"
   ]
  },
  {
   "cell_type": "code",
   "execution_count": 13,
   "id": "0cf1e72e-0883-443d-8132-bf4d257556f2",
   "metadata": {},
   "outputs": [],
   "source": [
    "columns_schema = [\n",
    "    StructField('name', StringType(), True),\n",
    "    StructField('sales', IntegerType(), True)\n",
    "]"
   ]
  },
  {
   "cell_type": "code",
   "execution_count": 14,
   "id": "5b47d60f-f55b-4f8a-a4cc-6d245f00a89c",
   "metadata": {},
   "outputs": [],
   "source": [
    "schema = StructType(fields=columns_schema)"
   ]
  },
  {
   "cell_type": "code",
   "execution_count": 15,
   "id": "772bcc22-08e9-4e4e-be28-00ae6881335a",
   "metadata": {},
   "outputs": [],
   "source": [
    "df = spark.read.csv(\"./files/mydata.csv\", header=True, schema=schema)"
   ]
  },
  {
   "cell_type": "code",
   "execution_count": 16,
   "id": "75698113-67cb-4b7b-a229-874fab0eef91",
   "metadata": {},
   "outputs": [
    {
     "name": "stdout",
     "output_type": "stream",
     "text": [
      "+-----+-----+\n",
      "| name|sales|\n",
      "+-----+-----+\n",
      "| John|  100|\n",
      "|Cindy|   86|\n",
      "| Carl|  230|\n",
      "+-----+-----+\n"
     ]
    }
   ],
   "source": [
    "df.show()"
   ]
  },
  {
   "cell_type": "code",
   "execution_count": null,
   "id": "5c031e92-9e71-4c1f-b32f-a26cce6c48d7",
   "metadata": {},
   "outputs": [],
   "source": []
  }
 ],
 "metadata": {
  "kernelspec": {
   "display_name": "Python 3 (ipykernel)",
   "language": "python",
   "name": "python3"
  },
  "language_info": {
   "codemirror_mode": {
    "name": "ipython",
    "version": 3
   },
   "file_extension": ".py",
   "mimetype": "text/x-python",
   "name": "python",
   "nbconvert_exporter": "python",
   "pygments_lexer": "ipython3",
   "version": "3.11.9"
  }
 },
 "nbformat": 4,
 "nbformat_minor": 5
}
