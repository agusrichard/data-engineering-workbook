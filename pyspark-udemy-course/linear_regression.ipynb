{
 "cells": [
  {
   "cell_type": "markdown",
   "source": [
    "# PySpark MLlib: Linear Regression"
   ],
   "metadata": {
    "collapsed": false
   },
   "id": "cf07461c5c037ed6"
  },
  {
   "cell_type": "markdown",
   "source": [
    "## Basic"
   ],
   "metadata": {
    "collapsed": false
   },
   "id": "53ea312b122326aa"
  },
  {
   "cell_type": "code",
   "execution_count": 1,
   "outputs": [],
   "source": [
    "from pyspark.sql import SparkSession"
   ],
   "metadata": {
    "collapsed": false,
    "ExecuteTime": {
     "end_time": "2024-06-09T13:38:51.898553Z",
     "start_time": "2024-06-09T13:38:51.830632Z"
    }
   },
   "id": "fe0e4ec841a21c68"
  },
  {
   "cell_type": "code",
   "execution_count": 2,
   "outputs": [
    {
     "name": "stderr",
     "output_type": "stream",
     "text": [
      "24/06/09 20:39:13 WARN Utils: Your hostname, agusrichard.local resolves to a loopback address: 127.0.0.1; using 192.168.0.104 instead (on interface en0)\n",
      "24/06/09 20:39:13 WARN Utils: Set SPARK_LOCAL_IP if you need to bind to another address\n",
      "Setting default log level to \"WARN\".\n",
      "To adjust logging level use sc.setLogLevel(newLevel). For SparkR, use setLogLevel(newLevel).\n",
      "24/06/09 20:39:14 WARN NativeCodeLoader: Unable to load native-hadoop library for your platform... using builtin-java classes where applicable\n"
     ]
    }
   ],
   "source": [
    "spark = SparkSession.builder.appName(\"linreg\").getOrCreate()"
   ],
   "metadata": {
    "collapsed": false,
    "ExecuteTime": {
     "end_time": "2024-06-09T13:39:16.359349Z",
     "start_time": "2024-06-09T13:39:09.558043Z"
    }
   },
   "id": "20fd1944cf0ff03d"
  },
  {
   "cell_type": "code",
   "execution_count": 3,
   "outputs": [
    {
     "name": "stderr",
     "output_type": "stream",
     "text": [
      "24/06/09 20:40:29 WARN LibSVMFileFormat: 'numFeatures' option not specified, determining the number of features by going though the input. If you know the number in advance, please specify it via 'numFeatures' option to avoid the extra scan.\n",
      "                                                                                \r"
     ]
    },
    {
     "name": "stdout",
     "output_type": "stream",
     "text": [
      "+-------------------+--------------------+\n",
      "|              label|            features|\n",
      "+-------------------+--------------------+\n",
      "| -9.490009878824548|(10,[0,1,2,3,4,5,...|\n",
      "| 0.2577820163584905|(10,[0,1,2,3,4,5,...|\n",
      "| -4.438869807456516|(10,[0,1,2,3,4,5,...|\n",
      "|-19.782762789614537|(10,[0,1,2,3,4,5,...|\n",
      "| -7.966593841555266|(10,[0,1,2,3,4,5,...|\n",
      "| -7.896274316726144|(10,[0,1,2,3,4,5,...|\n",
      "| -8.464803554195287|(10,[0,1,2,3,4,5,...|\n",
      "| 2.1214592666251364|(10,[0,1,2,3,4,5,...|\n",
      "| 1.0720117616524107|(10,[0,1,2,3,4,5,...|\n",
      "|-13.772441561702871|(10,[0,1,2,3,4,5,...|\n",
      "| -5.082010756207233|(10,[0,1,2,3,4,5,...|\n",
      "|  7.887786536531237|(10,[0,1,2,3,4,5,...|\n",
      "| 14.323146365332388|(10,[0,1,2,3,4,5,...|\n",
      "|-20.057482615789212|(10,[0,1,2,3,4,5,...|\n",
      "|-0.8995693247765151|(10,[0,1,2,3,4,5,...|\n",
      "| -19.16829262296376|(10,[0,1,2,3,4,5,...|\n",
      "|  5.601801561245534|(10,[0,1,2,3,4,5,...|\n",
      "|-3.2256352187273354|(10,[0,1,2,3,4,5,...|\n",
      "| 1.5299675726687754|(10,[0,1,2,3,4,5,...|\n",
      "| -0.250102447941961|(10,[0,1,2,3,4,5,...|\n",
      "+-------------------+--------------------+\n"
     ]
    }
   ],
   "source": [
    "df = spark.read.format(\"libsvm\").load(\"./files/sample_linear_regression_data.txt\")\n",
    "df.show()"
   ],
   "metadata": {
    "collapsed": false,
    "ExecuteTime": {
     "end_time": "2024-06-09T13:40:36.560999Z",
     "start_time": "2024-06-09T13:40:27.601749Z"
    }
   },
   "id": "c48485dc785538be"
  },
  {
   "cell_type": "code",
   "execution_count": 4,
   "outputs": [],
   "source": [
    "train_df, test_df = df.randomSplit([0.7, 0.3])"
   ],
   "metadata": {
    "collapsed": false,
    "ExecuteTime": {
     "end_time": "2024-06-09T13:41:19.165386Z",
     "start_time": "2024-06-09T13:41:19.120097Z"
    }
   },
   "id": "21f337da57d7532d"
  },
  {
   "cell_type": "code",
   "execution_count": 5,
   "outputs": [
    {
     "name": "stdout",
     "output_type": "stream",
     "text": [
      "+-------+--------------------+\n",
      "|summary|               label|\n",
      "+-------+--------------------+\n",
      "|  count|                 357|\n",
      "|   mean|-0.07763567996945892|\n",
      "| stddev|   10.51016656614689|\n",
      "|    min| -28.571478869743427|\n",
      "|    max|   27.78383192005107|\n",
      "+-------+--------------------+\n"
     ]
    }
   ],
   "source": [
    "train_df.describe().show()"
   ],
   "metadata": {
    "collapsed": false,
    "ExecuteTime": {
     "end_time": "2024-06-09T13:41:31.461066Z",
     "start_time": "2024-06-09T13:41:29.508094Z"
    }
   },
   "id": "33faf71459ce466b"
  },
  {
   "cell_type": "code",
   "execution_count": 6,
   "outputs": [
    {
     "name": "stdout",
     "output_type": "stream",
     "text": [
      "+-------+-------------------+\n",
      "|summary|              label|\n",
      "+-------+-------------------+\n",
      "|  count|                144|\n",
      "|   mean|  1.086230817144352|\n",
      "| stddev|  9.811270936017236|\n",
      "|    min|-28.046018037776633|\n",
      "|    max| 27.111027963108548|\n",
      "+-------+-------------------+\n"
     ]
    }
   ],
   "source": [
    "test_df.describe().show()"
   ],
   "metadata": {
    "collapsed": false,
    "ExecuteTime": {
     "end_time": "2024-06-09T13:41:41.592573Z",
     "start_time": "2024-06-09T13:41:40.618637Z"
    }
   },
   "id": "f9701a56c8b5f569"
  },
  {
   "cell_type": "code",
   "execution_count": 8,
   "outputs": [
    {
     "name": "stdout",
     "output_type": "stream",
     "text": [
      "Collecting numpy\r\n",
      "  Using cached numpy-1.26.4-cp39-cp39-macosx_11_0_arm64.whl.metadata (61 kB)\r\n",
      "Using cached numpy-1.26.4-cp39-cp39-macosx_11_0_arm64.whl (14.0 MB)\r\n",
      "Installing collected packages: numpy\r\n",
      "Successfully installed numpy-1.26.4\r\n"
     ]
    }
   ],
   "source": [
    "!pip install numpy"
   ],
   "metadata": {
    "collapsed": false,
    "ExecuteTime": {
     "end_time": "2024-06-09T13:42:56.035850Z",
     "start_time": "2024-06-09T13:42:53.037842Z"
    }
   },
   "id": "ebd8c5579d81e5f0"
  },
  {
   "cell_type": "code",
   "execution_count": 9,
   "outputs": [],
   "source": [
    "from pyspark.ml.regression import LinearRegression"
   ],
   "metadata": {
    "collapsed": false,
    "ExecuteTime": {
     "end_time": "2024-06-09T13:42:57.913431Z",
     "start_time": "2024-06-09T13:42:57.910231Z"
    }
   },
   "id": "aec68bc092b454bf"
  },
  {
   "cell_type": "code",
   "execution_count": 12,
   "outputs": [],
   "source": [
    "model = LinearRegression(featuresCol=\"features\", labelCol=\"label\", predictionCol=\"prediction\")"
   ],
   "metadata": {
    "collapsed": false,
    "ExecuteTime": {
     "end_time": "2024-06-09T13:45:42.228437Z",
     "start_time": "2024-06-09T13:45:42.218183Z"
    }
   },
   "id": "fed059243023716"
  },
  {
   "cell_type": "code",
   "execution_count": 13,
   "outputs": [
    {
     "name": "stderr",
     "output_type": "stream",
     "text": [
      "24/06/09 20:45:47 WARN Instrumentation: [12678e15] regParam is zero, which might cause numerical instability and overfitting.\n"
     ]
    }
   ],
   "source": [
    "fitted_model = model.fit(train_df)"
   ],
   "metadata": {
    "collapsed": false,
    "ExecuteTime": {
     "end_time": "2024-06-09T13:45:48.561936Z",
     "start_time": "2024-06-09T13:45:47.718331Z"
    }
   },
   "id": "85ab3aac2879d756"
  },
  {
   "cell_type": "code",
   "execution_count": 15,
   "outputs": [
    {
     "data": {
      "text/plain": "DenseVector([-1.1687, 1.2786, -0.8491, 0.9672, 0.9713, 1.0932, -0.3845, -0.404, -1.4362, 0.2242])"
     },
     "execution_count": 15,
     "metadata": {},
     "output_type": "execute_result"
    }
   ],
   "source": [
    "fitted_model.coefficients"
   ],
   "metadata": {
    "collapsed": false,
    "ExecuteTime": {
     "end_time": "2024-06-09T13:46:19.233994Z",
     "start_time": "2024-06-09T13:46:19.220452Z"
    }
   },
   "id": "e492a379fe5f0df8"
  },
  {
   "cell_type": "code",
   "execution_count": 18,
   "outputs": [
    {
     "data": {
      "text/plain": "-0.08413902846189886"
     },
     "execution_count": 18,
     "metadata": {},
     "output_type": "execute_result"
    }
   ],
   "source": [
    "fitted_model.intercept"
   ],
   "metadata": {
    "collapsed": false,
    "ExecuteTime": {
     "end_time": "2024-06-09T13:47:22.767791Z",
     "start_time": "2024-06-09T13:47:22.761760Z"
    }
   },
   "id": "b6dbca9bdf5e82e6"
  },
  {
   "cell_type": "code",
   "execution_count": 20,
   "outputs": [
    {
     "name": "stdout",
     "output_type": "stream",
     "text": [
      "+-------------------+\n",
      "|          residuals|\n",
      "+-------------------+\n",
      "|-28.534016675785942|\n",
      "|-24.792409883220454|\n",
      "| -25.07826198918433|\n",
      "|-22.644720400640814|\n",
      "| -24.32624950301568|\n",
      "| -20.23765290671922|\n",
      "|-18.498223070427823|\n",
      "|-21.576982585490068|\n",
      "| -18.72155480384377|\n",
      "|-19.645215664475135|\n",
      "|-19.317118778492365|\n",
      "|-17.926696373465088|\n",
      "|-15.520515877417797|\n",
      "|-20.366784096630415|\n",
      "|-15.521931849388428|\n",
      "| -16.21985395517928|\n",
      "|  -18.0037412583512|\n",
      "| -16.83734752280589|\n",
      "| -16.97352385284288|\n",
      "|-14.434464598184345|\n",
      "+-------------------+\n"
     ]
    }
   ],
   "source": [
    "fitted_model.summary.residuals.show()"
   ],
   "metadata": {
    "collapsed": false,
    "ExecuteTime": {
     "end_time": "2024-06-09T13:48:09.244625Z",
     "start_time": "2024-06-09T13:48:08.932714Z"
    }
   },
   "id": "3b60847baf6c167d"
  },
  {
   "cell_type": "code",
   "execution_count": 21,
   "outputs": [
    {
     "data": {
      "text/plain": "10.356470291946756"
     },
     "execution_count": 21,
     "metadata": {},
     "output_type": "execute_result"
    }
   ],
   "source": [
    "fitted_model.summary.rootMeanSquaredError"
   ],
   "metadata": {
    "collapsed": false,
    "ExecuteTime": {
     "end_time": "2024-06-09T13:48:26.925820Z",
     "start_time": "2024-06-09T13:48:26.909454Z"
    }
   },
   "id": "561576adc5a73d0c"
  },
  {
   "cell_type": "code",
   "execution_count": 22,
   "outputs": [
    {
     "name": "stdout",
     "output_type": "stream",
     "text": [
      "+--------------------+\n",
      "|            features|\n",
      "+--------------------+\n",
      "|(10,[0,1,2,3,4,5,...|\n",
      "|(10,[0,1,2,3,4,5,...|\n",
      "|(10,[0,1,2,3,4,5,...|\n",
      "|(10,[0,1,2,3,4,5,...|\n",
      "|(10,[0,1,2,3,4,5,...|\n",
      "|(10,[0,1,2,3,4,5,...|\n",
      "|(10,[0,1,2,3,4,5,...|\n",
      "|(10,[0,1,2,3,4,5,...|\n",
      "|(10,[0,1,2,3,4,5,...|\n",
      "|(10,[0,1,2,3,4,5,...|\n",
      "|(10,[0,1,2,3,4,5,...|\n",
      "|(10,[0,1,2,3,4,5,...|\n",
      "|(10,[0,1,2,3,4,5,...|\n",
      "|(10,[0,1,2,3,4,5,...|\n",
      "|(10,[0,1,2,3,4,5,...|\n",
      "|(10,[0,1,2,3,4,5,...|\n",
      "|(10,[0,1,2,3,4,5,...|\n",
      "|(10,[0,1,2,3,4,5,...|\n",
      "|(10,[0,1,2,3,4,5,...|\n",
      "|(10,[0,1,2,3,4,5,...|\n",
      "+--------------------+\n"
     ]
    }
   ],
   "source": [
    "unlabeled_data = test_df.select([\"features\"])\n",
    "unlabeled_data.show()"
   ],
   "metadata": {
    "collapsed": false,
    "ExecuteTime": {
     "end_time": "2024-06-09T13:49:24.960819Z",
     "start_time": "2024-06-09T13:49:24.243373Z"
    }
   },
   "id": "4fcb9e76ec776664"
  },
  {
   "cell_type": "code",
   "execution_count": 27,
   "outputs": [],
   "source": [
    "predictions = fitted_model.transform(unlabeled_data)"
   ],
   "metadata": {
    "collapsed": false,
    "ExecuteTime": {
     "end_time": "2024-06-09T13:53:06.684980Z",
     "start_time": "2024-06-09T13:53:06.637969Z"
    }
   },
   "id": "727a13ca385d4276"
  },
  {
   "cell_type": "code",
   "execution_count": 28,
   "outputs": [
    {
     "name": "stdout",
     "output_type": "stream",
     "text": [
      "+--------------------+-------------------+\n",
      "|            features|         prediction|\n",
      "+--------------------+-------------------+\n",
      "|(10,[0,1,2,3,4,5,...|-2.5251685010985123|\n",
      "|(10,[0,1,2,3,4,5,...| 0.8072814362914444|\n",
      "|(10,[0,1,2,3,4,5,...| 1.2370905300996191|\n",
      "|(10,[0,1,2,3,4,5,...|-1.2939283160735788|\n",
      "|(10,[0,1,2,3,4,5,...| 1.1437080247632876|\n",
      "|(10,[0,1,2,3,4,5,...|  1.035863436625075|\n",
      "|(10,[0,1,2,3,4,5,...| 0.5900970858697474|\n",
      "|(10,[0,1,2,3,4,5,...|-1.2894366384228835|\n",
      "|(10,[0,1,2,3,4,5,...| 0.6564263412122748|\n",
      "|(10,[0,1,2,3,4,5,...|-1.3995039369083064|\n",
      "|(10,[0,1,2,3,4,5,...|  2.496622461727185|\n",
      "|(10,[0,1,2,3,4,5,...|-2.1603481509477374|\n",
      "|(10,[0,1,2,3,4,5,...|-2.4369810169432844|\n",
      "|(10,[0,1,2,3,4,5,...| 2.5312648055984885|\n",
      "|(10,[0,1,2,3,4,5,...| 0.6106534513946493|\n",
      "|(10,[0,1,2,3,4,5,...|  0.999008144606899|\n",
      "|(10,[0,1,2,3,4,5,...| -2.408961561556007|\n",
      "|(10,[0,1,2,3,4,5,...| 1.4629839841862406|\n",
      "|(10,[0,1,2,3,4,5,...|  0.529165852499554|\n",
      "|(10,[0,1,2,3,4,5,...|-0.7104832125918854|\n",
      "+--------------------+-------------------+\n"
     ]
    }
   ],
   "source": [
    "predictions.show()"
   ],
   "metadata": {
    "collapsed": false,
    "ExecuteTime": {
     "end_time": "2024-06-09T13:53:10.005518Z",
     "start_time": "2024-06-09T13:53:09.619132Z"
    }
   },
   "id": "b9f9f73badac8347"
  },
  {
   "cell_type": "markdown",
   "source": [
    "## Real Data"
   ],
   "metadata": {
    "collapsed": false
   },
   "id": "736c068e5ef1df73"
  },
  {
   "cell_type": "code",
   "execution_count": 29,
   "outputs": [
    {
     "name": "stderr",
     "output_type": "stream",
     "text": [
      "24/06/09 20:58:53 WARN SparkSession: Using an existing Spark session; only runtime SQL configurations will take effect.\n"
     ]
    }
   ],
   "source": [
    "spark = SparkSession.builder.appName(\"lr_real\").getOrCreate()"
   ],
   "metadata": {
    "collapsed": false,
    "ExecuteTime": {
     "end_time": "2024-06-09T13:58:53.295448Z",
     "start_time": "2024-06-09T13:58:53.279993Z"
    }
   },
   "id": "42a0913a23b6d7b5"
  },
  {
   "cell_type": "code",
   "execution_count": 30,
   "outputs": [
    {
     "name": "stdout",
     "output_type": "stream",
     "text": [
      "+--------------------+--------------------+----------------+------------------+------------------+------------------+--------------------+-------------------+\n",
      "|               Email|             Address|          Avatar|Avg Session Length|       Time on App|   Time on Website|Length of Membership|Yearly Amount Spent|\n",
      "+--------------------+--------------------+----------------+------------------+------------------+------------------+--------------------+-------------------+\n",
      "|mstephenson@ferna...|835 Frank TunnelW...|          Violet| 34.49726772511229| 12.65565114916675| 39.57766801952616|  4.0826206329529615|  587.9510539684005|\n",
      "|   hduke@hotmail.com|4547 Archer Commo...|       DarkGreen| 31.92627202636016|11.109460728682564|37.268958868297744|    2.66403418213262|  392.2049334443264|\n",
      "|    pallen@yahoo.com|24645 Valerie Uni...|          Bisque|33.000914755642675|11.330278057777512|37.110597442120856|   4.104543202376424| 487.54750486747207|\n",
      "|riverarebecca@gma...|1414 David Throug...|     SaddleBrown| 34.30555662975554|13.717513665142507| 36.72128267790313|   3.120178782748092|  581.8523440352177|\n",
      "|mstephens@davidso...|14023 Rodriguez P...|MediumAquaMarine| 33.33067252364639|12.795188551078114| 37.53665330059473|   4.446308318351434|  599.4060920457634|\n",
      "|alvareznancy@luca...|645 Martha Park A...|     FloralWhite|33.871037879341976|12.026925339755056| 34.47687762925054|   5.493507201364199|   637.102447915074|\n",
      "|katherine20@yahoo...|68388 Reyes Light...|   DarkSlateBlue| 32.02159550138701|11.366348309710526| 36.68377615286961|   4.685017246570912|  521.5721747578274|\n",
      "|  awatkins@yahoo.com|Unit 6538 Box 898...|            Aqua|32.739142938380326| 12.35195897300293| 37.37335885854755|  4.4342734348999375|  549.9041461052942|\n",
      "|vchurch@walter-ma...|860 Lee KeyWest D...|          Salmon| 33.98777289568564|13.386235275676436|37.534497341555735|  3.2734335777477144|  570.2004089636196|\n",
      "|    bonnie69@lin.biz|PSC 2734, Box 525...|           Brown|31.936548618448917|11.814128294972196| 37.14516822352819|   3.202806071553459|  427.1993848953282|\n",
      "|andrew06@peterson...|26104 Alexander G...|          Tomato|33.992572774953736|13.338975447662113| 37.22580613162114|   2.482607770510596|  492.6060127179966|\n",
      "|ryanwerner@freema...|Unit 2413 Box 034...|          Tomato| 33.87936082480498|11.584782999535266| 37.08792607098381|    3.71320920294043|  522.3374046069357|\n",
      "|   knelson@gmail.com|6705 Miller Orcha...|       RoyalBlue|29.532428967057943|10.961298400154098| 37.42021557502538|   4.046423164299585|  408.6403510726275|\n",
      "|wrightpeter@yahoo...|05302 Dunlap Ferr...|          Bisque| 33.19033404372265|12.959226091609382|36.144666700041924|   3.918541839158999|  573.4158673313865|\n",
      "|taylormason@gmail...|7773 Powell Sprin...|        DarkBlue|32.387975853153876|13.148725692056516| 36.61995708279922|   2.494543646659249|  470.4527333009554|\n",
      "| jstark@anderson.com|49558 Ramirez Roa...|            Peru|30.737720372628182|12.636606052000127|36.213763093698624|  3.3578468423262944|  461.7807421962299|\n",
      "| wjennings@gmail.com|6362 Wilson Mount...|      PowderBlue| 32.12538689728784|11.733861690857394|  34.8940927514398|  3.1361327164897803| 457.84769594494855|\n",
      "|rebecca45@hale-ba...|8982 Burton RowWi...|       OliveDrab|32.338899323067196|12.013194694014402| 38.38513659413844|   2.420806160901484| 407.70454754954415|\n",
      "|alejandro75@hotma...|64475 Andre Club ...|            Cyan|32.187812045932155|  14.7153875441565| 38.24411459434352|   1.516575580831944|  452.3156754800354|\n",
      "|samuel46@love-wes...|544 Alexander Hei...|   LightSeaGreen| 32.61785606282345|13.989592555825254|37.190503800397956|   4.064548550437977|   605.061038804892|\n",
      "+--------------------+--------------------+----------------+------------------+------------------+------------------+--------------------+-------------------+\n"
     ]
    },
    {
     "name": "stderr",
     "output_type": "stream",
     "text": [
      "                                                                                \r"
     ]
    }
   ],
   "source": [
    "df = spark.read.csv(\"./files/Ecommerce_Customers.csv\", header=True, inferSchema=True)\n",
    "df.show()"
   ],
   "metadata": {
    "collapsed": false,
    "ExecuteTime": {
     "end_time": "2024-06-09T13:59:41.150347Z",
     "start_time": "2024-06-09T13:59:39.332778Z"
    }
   },
   "id": "7f448bbfc8678a2d"
  },
  {
   "cell_type": "code",
   "execution_count": 31,
   "outputs": [
    {
     "data": {
      "text/plain": "['Email',\n 'Address',\n 'Avatar',\n 'Avg Session Length',\n 'Time on App',\n 'Time on Website',\n 'Length of Membership',\n 'Yearly Amount Spent']"
     },
     "execution_count": 31,
     "metadata": {},
     "output_type": "execute_result"
    }
   ],
   "source": [
    "df.columns"
   ],
   "metadata": {
    "collapsed": false,
    "ExecuteTime": {
     "end_time": "2024-06-09T14:00:01.481921Z",
     "start_time": "2024-06-09T14:00:01.469114Z"
    }
   },
   "id": "111d88afd88e0e02"
  },
  {
   "cell_type": "code",
   "execution_count": 32,
   "outputs": [],
   "source": [
    "from pyspark.ml.feature import VectorAssembler"
   ],
   "metadata": {
    "collapsed": false,
    "ExecuteTime": {
     "end_time": "2024-06-09T14:00:55.137035Z",
     "start_time": "2024-06-09T14:00:55.120658Z"
    }
   },
   "id": "edafbd62d020e61f"
  },
  {
   "cell_type": "code",
   "execution_count": 33,
   "outputs": [],
   "source": [
    "assembler = VectorAssembler(\n",
    "    inputCols=['Avg Session Length', 'Time on App', 'Time on Website', 'Length of Membership'],\n",
    "    outputCol=\"features\"\n",
    ")\n",
    "result = assembler.transform(df)"
   ],
   "metadata": {
    "collapsed": false,
    "ExecuteTime": {
     "end_time": "2024-06-09T14:02:46.154719Z",
     "start_time": "2024-06-09T14:02:45.699812Z"
    }
   },
   "id": "72d077ed964ab64e"
  },
  {
   "cell_type": "code",
   "execution_count": 35,
   "outputs": [],
   "source": [
    "result = result.withColumnRenamed(\"Yearly Amount Spent\", \"label\")"
   ],
   "metadata": {
    "collapsed": false,
    "ExecuteTime": {
     "end_time": "2024-06-09T14:05:00.561612Z",
     "start_time": "2024-06-09T14:05:00.537298Z"
    }
   },
   "id": "cbdd6224537047b3"
  },
  {
   "cell_type": "code",
   "execution_count": 36,
   "outputs": [
    {
     "name": "stdout",
     "output_type": "stream",
     "text": [
      "+--------------------+--------------------+----------------+------------------+------------------+------------------+--------------------+------------------+--------------------+\n",
      "|               Email|             Address|          Avatar|Avg Session Length|       Time on App|   Time on Website|Length of Membership|             label|            features|\n",
      "+--------------------+--------------------+----------------+------------------+------------------+------------------+--------------------+------------------+--------------------+\n",
      "|mstephenson@ferna...|835 Frank TunnelW...|          Violet| 34.49726772511229| 12.65565114916675| 39.57766801952616|  4.0826206329529615| 587.9510539684005|[34.4972677251122...|\n",
      "|   hduke@hotmail.com|4547 Archer Commo...|       DarkGreen| 31.92627202636016|11.109460728682564|37.268958868297744|    2.66403418213262| 392.2049334443264|[31.9262720263601...|\n",
      "|    pallen@yahoo.com|24645 Valerie Uni...|          Bisque|33.000914755642675|11.330278057777512|37.110597442120856|   4.104543202376424|487.54750486747207|[33.0009147556426...|\n",
      "|riverarebecca@gma...|1414 David Throug...|     SaddleBrown| 34.30555662975554|13.717513665142507| 36.72128267790313|   3.120178782748092| 581.8523440352177|[34.3055566297555...|\n",
      "|mstephens@davidso...|14023 Rodriguez P...|MediumAquaMarine| 33.33067252364639|12.795188551078114| 37.53665330059473|   4.446308318351434| 599.4060920457634|[33.3306725236463...|\n",
      "|alvareznancy@luca...|645 Martha Park A...|     FloralWhite|33.871037879341976|12.026925339755056| 34.47687762925054|   5.493507201364199|  637.102447915074|[33.8710378793419...|\n",
      "|katherine20@yahoo...|68388 Reyes Light...|   DarkSlateBlue| 32.02159550138701|11.366348309710526| 36.68377615286961|   4.685017246570912| 521.5721747578274|[32.0215955013870...|\n",
      "|  awatkins@yahoo.com|Unit 6538 Box 898...|            Aqua|32.739142938380326| 12.35195897300293| 37.37335885854755|  4.4342734348999375| 549.9041461052942|[32.7391429383803...|\n",
      "|vchurch@walter-ma...|860 Lee KeyWest D...|          Salmon| 33.98777289568564|13.386235275676436|37.534497341555735|  3.2734335777477144| 570.2004089636196|[33.9877728956856...|\n",
      "|    bonnie69@lin.biz|PSC 2734, Box 525...|           Brown|31.936548618448917|11.814128294972196| 37.14516822352819|   3.202806071553459| 427.1993848953282|[31.9365486184489...|\n",
      "|andrew06@peterson...|26104 Alexander G...|          Tomato|33.992572774953736|13.338975447662113| 37.22580613162114|   2.482607770510596| 492.6060127179966|[33.9925727749537...|\n",
      "|ryanwerner@freema...|Unit 2413 Box 034...|          Tomato| 33.87936082480498|11.584782999535266| 37.08792607098381|    3.71320920294043| 522.3374046069357|[33.8793608248049...|\n",
      "|   knelson@gmail.com|6705 Miller Orcha...|       RoyalBlue|29.532428967057943|10.961298400154098| 37.42021557502538|   4.046423164299585| 408.6403510726275|[29.5324289670579...|\n",
      "|wrightpeter@yahoo...|05302 Dunlap Ferr...|          Bisque| 33.19033404372265|12.959226091609382|36.144666700041924|   3.918541839158999| 573.4158673313865|[33.1903340437226...|\n",
      "|taylormason@gmail...|7773 Powell Sprin...|        DarkBlue|32.387975853153876|13.148725692056516| 36.61995708279922|   2.494543646659249| 470.4527333009554|[32.3879758531538...|\n",
      "| jstark@anderson.com|49558 Ramirez Roa...|            Peru|30.737720372628182|12.636606052000127|36.213763093698624|  3.3578468423262944| 461.7807421962299|[30.7377203726281...|\n",
      "| wjennings@gmail.com|6362 Wilson Mount...|      PowderBlue| 32.12538689728784|11.733861690857394|  34.8940927514398|  3.1361327164897803|457.84769594494855|[32.1253868972878...|\n",
      "|rebecca45@hale-ba...|8982 Burton RowWi...|       OliveDrab|32.338899323067196|12.013194694014402| 38.38513659413844|   2.420806160901484|407.70454754954415|[32.3388993230671...|\n",
      "|alejandro75@hotma...|64475 Andre Club ...|            Cyan|32.187812045932155|  14.7153875441565| 38.24411459434352|   1.516575580831944| 452.3156754800354|[32.1878120459321...|\n",
      "|samuel46@love-wes...|544 Alexander Hei...|   LightSeaGreen| 32.61785606282345|13.989592555825254|37.190503800397956|   4.064548550437977|  605.061038804892|[32.6178560628234...|\n",
      "+--------------------+--------------------+----------------+------------------+------------------+------------------+--------------------+------------------+--------------------+\n"
     ]
    }
   ],
   "source": [
    "result.show()"
   ],
   "metadata": {
    "collapsed": false,
    "ExecuteTime": {
     "end_time": "2024-06-09T14:05:05.254048Z",
     "start_time": "2024-06-09T14:05:05.054360Z"
    }
   },
   "id": "16417d55f8476e22"
  },
  {
   "cell_type": "code",
   "execution_count": 37,
   "outputs": [
    {
     "name": "stdout",
     "output_type": "stream",
     "text": [
      "+--------------------+------------------+\n",
      "|            features|             label|\n",
      "+--------------------+------------------+\n",
      "|[34.4972677251122...| 587.9510539684005|\n",
      "|[31.9262720263601...| 392.2049334443264|\n",
      "|[33.0009147556426...|487.54750486747207|\n",
      "|[34.3055566297555...| 581.8523440352177|\n",
      "|[33.3306725236463...| 599.4060920457634|\n",
      "|[33.8710378793419...|  637.102447915074|\n",
      "|[32.0215955013870...| 521.5721747578274|\n",
      "|[32.7391429383803...| 549.9041461052942|\n",
      "|[33.9877728956856...| 570.2004089636196|\n",
      "|[31.9365486184489...| 427.1993848953282|\n",
      "|[33.9925727749537...| 492.6060127179966|\n",
      "|[33.8793608248049...| 522.3374046069357|\n",
      "|[29.5324289670579...| 408.6403510726275|\n",
      "|[33.1903340437226...| 573.4158673313865|\n",
      "|[32.3879758531538...| 470.4527333009554|\n",
      "|[30.7377203726281...| 461.7807421962299|\n",
      "|[32.1253868972878...|457.84769594494855|\n",
      "|[32.3388993230671...|407.70454754954415|\n",
      "|[32.1878120459321...| 452.3156754800354|\n",
      "|[32.6178560628234...|  605.061038804892|\n",
      "+--------------------+------------------+\n"
     ]
    }
   ],
   "source": [
    "selected_df = result.select([\"features\", \"label\"])\n",
    "selected_df.show()"
   ],
   "metadata": {
    "collapsed": false,
    "ExecuteTime": {
     "end_time": "2024-06-09T14:05:26.911384Z",
     "start_time": "2024-06-09T14:05:26.609665Z"
    }
   },
   "id": "2d9fad7be8dd9405"
  },
  {
   "cell_type": "code",
   "execution_count": 38,
   "outputs": [],
   "source": [
    "train_df, test_df = selected_df.randomSplit([0.7, 0.3])"
   ],
   "metadata": {
    "collapsed": false,
    "ExecuteTime": {
     "end_time": "2024-06-09T14:06:24.980861Z",
     "start_time": "2024-06-09T14:06:24.956187Z"
    }
   },
   "id": "4ffcf4acc44312eb"
  },
  {
   "cell_type": "code",
   "execution_count": 39,
   "outputs": [
    {
     "name": "stderr",
     "output_type": "stream",
     "text": [
      "24/06/09 21:06:52 WARN Instrumentation: [5a93fe34] regParam is zero, which might cause numerical instability and overfitting.\n",
      "                                                                                \r"
     ]
    }
   ],
   "source": [
    "model = LinearRegression().fit(train_df)"
   ],
   "metadata": {
    "collapsed": false,
    "ExecuteTime": {
     "end_time": "2024-06-09T14:06:54.152774Z",
     "start_time": "2024-06-09T14:06:51.490546Z"
    }
   },
   "id": "a4edf1aae3a8a777"
  },
  {
   "cell_type": "code",
   "execution_count": 41,
   "outputs": [],
   "source": [
    "result = model.evaluate(test_df)"
   ],
   "metadata": {
    "collapsed": false,
    "ExecuteTime": {
     "end_time": "2024-06-09T14:09:09.856509Z",
     "start_time": "2024-06-09T14:09:09.449498Z"
    }
   },
   "id": "9cae3cc4cce9c3e8"
  },
  {
   "cell_type": "code",
   "execution_count": 42,
   "outputs": [
    {
     "data": {
      "text/plain": "10.800762892758213"
     },
     "execution_count": 42,
     "metadata": {},
     "output_type": "execute_result"
    }
   ],
   "source": [
    "result.rootMeanSquaredError"
   ],
   "metadata": {
    "collapsed": false,
    "ExecuteTime": {
     "end_time": "2024-06-09T14:09:19.650494Z",
     "start_time": "2024-06-09T14:09:19.609326Z"
    }
   },
   "id": "8657d26d0d12f38"
  },
  {
   "cell_type": "code",
   "execution_count": 44,
   "outputs": [
    {
     "name": "stdout",
     "output_type": "stream",
     "text": [
      "+--------------------+------------------+------------------+\n",
      "|            features|             label|        prediction|\n",
      "+--------------------+------------------+------------------+\n",
      "|[30.5743636841713...|442.06441375806565|441.75214957364346|\n",
      "|[30.7377203726281...| 461.7807421962299| 450.9857589392798|\n",
      "|[30.8364326747734...| 467.5019004269896| 471.6062930861515|\n",
      "|[31.0662181616375...|448.93329320767435| 461.7538546135622|\n",
      "|[31.1280900496166...| 557.2526867470547| 564.8111086562972|\n",
      "|[31.3662121671876...| 430.5888825564849|426.65769860212345|\n",
      "|[31.4474464941278...|  418.602742095224| 426.1491563153488|\n",
      "|[31.5702008293202...| 545.9454921414049|  563.727622392435|\n",
      "|[31.6005122003032...|479.17285149109694| 461.0086267138247|\n",
      "|[31.6098395733896...|444.54554965110816| 427.3126396729497|\n",
      "|[31.6739155032749...| 475.7250679098812| 502.1879254190269|\n",
      "|[31.7207699002873...|  538.774933478023| 545.9971015103786|\n",
      "|[31.7216523605090...|347.77692663187264|349.26389718030237|\n",
      "|[31.7366356860502...| 496.9334462555319|  494.449083793892|\n",
      "|[31.8530748017465...|  459.285123462352|  461.669177218512|\n",
      "|[31.8854062999117...| 390.1032729724755|398.97261732259744|\n",
      "|[31.9048571310136...|473.94985742281614| 491.1532183418742|\n",
      "|[31.9096268275227...| 563.4460356732392| 551.9782934277328|\n",
      "|[31.9262720263601...| 392.2049334443264| 380.1253116816081|\n",
      "|[31.9480174211613...| 461.9208768928978|456.57826033281754|\n",
      "+--------------------+------------------+------------------+\n"
     ]
    }
   ],
   "source": [
    "result.predictions.show()"
   ],
   "metadata": {
    "collapsed": false,
    "ExecuteTime": {
     "end_time": "2024-06-09T14:09:29.731723Z",
     "start_time": "2024-06-09T14:09:28.575535Z"
    }
   },
   "id": "f8ba9b763aa12f6a"
  },
  {
   "cell_type": "markdown",
   "source": [
    "## Project"
   ],
   "metadata": {
    "collapsed": false
   },
   "id": "be68b8b4c81f0bba"
  },
  {
   "cell_type": "code",
   "execution_count": 60,
   "outputs": [],
   "source": [
    "spark = SparkSession.builder.appName(\"lr_project\").getOrCreate()"
   ],
   "metadata": {
    "collapsed": false,
    "ExecuteTime": {
     "end_time": "2024-06-09T14:18:14.603829Z",
     "start_time": "2024-06-09T14:18:14.582581Z"
    }
   },
   "id": "6654a38f05aa3be6"
  },
  {
   "cell_type": "code",
   "execution_count": 61,
   "outputs": [
    {
     "name": "stdout",
     "output_type": "stream",
     "text": [
      "+-----------+-----------+---+------------------+----------+------+------+-----------------+----+\n",
      "|  Ship_name|Cruise_line|Age|           Tonnage|passengers|length|cabins|passenger_density|crew|\n",
      "+-----------+-----------+---+------------------+----------+------+------+-----------------+----+\n",
      "|    Journey|    Azamara|  6|30.276999999999997|      6.94|  5.94|  3.55|            42.64|3.55|\n",
      "|      Quest|    Azamara|  6|30.276999999999997|      6.94|  5.94|  3.55|            42.64|3.55|\n",
      "|Celebration|   Carnival| 26|            47.262|     14.86|  7.22|  7.43|             31.8| 6.7|\n",
      "|   Conquest|   Carnival| 11|             110.0|     29.74|  9.53| 14.88|            36.99|19.1|\n",
      "|    Destiny|   Carnival| 17|           101.353|     26.42|  8.92| 13.21|            38.36|10.0|\n",
      "|    Ecstasy|   Carnival| 22|            70.367|     20.52|  8.55|  10.2|            34.29| 9.2|\n",
      "|    Elation|   Carnival| 15|            70.367|     20.52|  8.55|  10.2|            34.29| 9.2|\n",
      "|    Fantasy|   Carnival| 23|            70.367|     20.56|  8.55| 10.22|            34.23| 9.2|\n",
      "|Fascination|   Carnival| 19|            70.367|     20.52|  8.55|  10.2|            34.29| 9.2|\n",
      "|    Freedom|   Carnival|  6|110.23899999999999|      37.0|  9.51| 14.87|            29.79|11.5|\n",
      "|      Glory|   Carnival| 10|             110.0|     29.74|  9.51| 14.87|            36.99|11.6|\n",
      "|    Holiday|   Carnival| 28|            46.052|     14.52|  7.27|  7.26|            31.72| 6.6|\n",
      "|Imagination|   Carnival| 18|            70.367|     20.52|  8.55|  10.2|            34.29| 9.2|\n",
      "|Inspiration|   Carnival| 17|            70.367|     20.52|  8.55|  10.2|            34.29| 9.2|\n",
      "|     Legend|   Carnival| 11|              86.0|     21.24|  9.63| 10.62|            40.49| 9.3|\n",
      "|   Liberty*|   Carnival|  8|             110.0|     29.74|  9.51| 14.87|            36.99|11.6|\n",
      "|    Miracle|   Carnival|  9|              88.5|     21.24|  9.63| 10.62|            41.67|10.3|\n",
      "|   Paradise|   Carnival| 15|            70.367|     20.52|  8.55|  10.2|            34.29| 9.2|\n",
      "|      Pride|   Carnival| 12|              88.5|     21.24|  9.63| 11.62|            41.67| 9.3|\n",
      "|  Sensation|   Carnival| 20|            70.367|     20.52|  8.55|  10.2|            34.29| 9.2|\n",
      "+-----------+-----------+---+------------------+----------+------+------+-----------------+----+\n"
     ]
    }
   ],
   "source": [
    "df = spark.read.csv(\"./files/cruise_ship_info.csv\", header=True, inferSchema=True)\n",
    "df.show()"
   ],
   "metadata": {
    "collapsed": false,
    "ExecuteTime": {
     "end_time": "2024-06-09T14:18:16.596055Z",
     "start_time": "2024-06-09T14:18:15.272109Z"
    }
   },
   "id": "4366ca44a9f51506"
  },
  {
   "cell_type": "code",
   "execution_count": 62,
   "outputs": [],
   "source": [
    "from pyspark.ml.feature import StringIndexer"
   ],
   "metadata": {
    "collapsed": false,
    "ExecuteTime": {
     "end_time": "2024-06-09T14:18:17.320273Z",
     "start_time": "2024-06-09T14:18:17.317546Z"
    }
   },
   "id": "ae26a479b7876e29"
  },
  {
   "cell_type": "code",
   "execution_count": 63,
   "outputs": [
    {
     "name": "stdout",
     "output_type": "stream",
     "text": [
      "+-----------+-----------+---+------------------+----------+------+------+-----------------+----+------------+\n",
      "|  Ship_name|Cruise_line|Age|           Tonnage|passengers|length|cabins|passenger_density|crew|Cruise_index|\n",
      "+-----------+-----------+---+------------------+----------+------+------+-----------------+----+------------+\n",
      "|    Journey|    Azamara|  6|30.276999999999997|      6.94|  5.94|  3.55|            42.64|3.55|        16.0|\n",
      "|      Quest|    Azamara|  6|30.276999999999997|      6.94|  5.94|  3.55|            42.64|3.55|        16.0|\n",
      "|Celebration|   Carnival| 26|            47.262|     14.86|  7.22|  7.43|             31.8| 6.7|         1.0|\n",
      "|   Conquest|   Carnival| 11|             110.0|     29.74|  9.53| 14.88|            36.99|19.1|         1.0|\n",
      "|    Destiny|   Carnival| 17|           101.353|     26.42|  8.92| 13.21|            38.36|10.0|         1.0|\n",
      "|    Ecstasy|   Carnival| 22|            70.367|     20.52|  8.55|  10.2|            34.29| 9.2|         1.0|\n",
      "|    Elation|   Carnival| 15|            70.367|     20.52|  8.55|  10.2|            34.29| 9.2|         1.0|\n",
      "|    Fantasy|   Carnival| 23|            70.367|     20.56|  8.55| 10.22|            34.23| 9.2|         1.0|\n",
      "|Fascination|   Carnival| 19|            70.367|     20.52|  8.55|  10.2|            34.29| 9.2|         1.0|\n",
      "|    Freedom|   Carnival|  6|110.23899999999999|      37.0|  9.51| 14.87|            29.79|11.5|         1.0|\n",
      "|      Glory|   Carnival| 10|             110.0|     29.74|  9.51| 14.87|            36.99|11.6|         1.0|\n",
      "|    Holiday|   Carnival| 28|            46.052|     14.52|  7.27|  7.26|            31.72| 6.6|         1.0|\n",
      "|Imagination|   Carnival| 18|            70.367|     20.52|  8.55|  10.2|            34.29| 9.2|         1.0|\n",
      "|Inspiration|   Carnival| 17|            70.367|     20.52|  8.55|  10.2|            34.29| 9.2|         1.0|\n",
      "|     Legend|   Carnival| 11|              86.0|     21.24|  9.63| 10.62|            40.49| 9.3|         1.0|\n",
      "|   Liberty*|   Carnival|  8|             110.0|     29.74|  9.51| 14.87|            36.99|11.6|         1.0|\n",
      "|    Miracle|   Carnival|  9|              88.5|     21.24|  9.63| 10.62|            41.67|10.3|         1.0|\n",
      "|   Paradise|   Carnival| 15|            70.367|     20.52|  8.55|  10.2|            34.29| 9.2|         1.0|\n",
      "|      Pride|   Carnival| 12|              88.5|     21.24|  9.63| 11.62|            41.67| 9.3|         1.0|\n",
      "|  Sensation|   Carnival| 20|            70.367|     20.52|  8.55|  10.2|            34.29| 9.2|         1.0|\n",
      "+-----------+-----------+---+------------------+----------+------+------+-----------------+----+------------+\n"
     ]
    }
   ],
   "source": [
    "indexer = StringIndexer(inputCol=\"Cruise_line\", outputCol=\"Cruise_index\")\n",
    "indexer = indexer.fit(df)\n",
    "df = indexer.transform(df)\n",
    "df.show()"
   ],
   "metadata": {
    "collapsed": false,
    "ExecuteTime": {
     "end_time": "2024-06-09T14:18:18.988829Z",
     "start_time": "2024-06-09T14:18:17.938741Z"
    }
   },
   "id": "5e77251bd4b0a1b8"
  },
  {
   "cell_type": "code",
   "execution_count": 64,
   "outputs": [
    {
     "name": "stdout",
     "output_type": "stream",
     "text": [
      "+---+------------------+----------+------+------+-----------------+------------+----+\n",
      "|Age|           Tonnage|passengers|length|cabins|passenger_density|Cruise_index|crew|\n",
      "+---+------------------+----------+------+------+-----------------+------------+----+\n",
      "|  6|30.276999999999997|      6.94|  5.94|  3.55|            42.64|        16.0|3.55|\n",
      "|  6|30.276999999999997|      6.94|  5.94|  3.55|            42.64|        16.0|3.55|\n",
      "| 26|            47.262|     14.86|  7.22|  7.43|             31.8|         1.0| 6.7|\n",
      "| 11|             110.0|     29.74|  9.53| 14.88|            36.99|         1.0|19.1|\n",
      "| 17|           101.353|     26.42|  8.92| 13.21|            38.36|         1.0|10.0|\n",
      "| 22|            70.367|     20.52|  8.55|  10.2|            34.29|         1.0| 9.2|\n",
      "| 15|            70.367|     20.52|  8.55|  10.2|            34.29|         1.0| 9.2|\n",
      "| 23|            70.367|     20.56|  8.55| 10.22|            34.23|         1.0| 9.2|\n",
      "| 19|            70.367|     20.52|  8.55|  10.2|            34.29|         1.0| 9.2|\n",
      "|  6|110.23899999999999|      37.0|  9.51| 14.87|            29.79|         1.0|11.5|\n",
      "| 10|             110.0|     29.74|  9.51| 14.87|            36.99|         1.0|11.6|\n",
      "| 28|            46.052|     14.52|  7.27|  7.26|            31.72|         1.0| 6.6|\n",
      "| 18|            70.367|     20.52|  8.55|  10.2|            34.29|         1.0| 9.2|\n",
      "| 17|            70.367|     20.52|  8.55|  10.2|            34.29|         1.0| 9.2|\n",
      "| 11|              86.0|     21.24|  9.63| 10.62|            40.49|         1.0| 9.3|\n",
      "|  8|             110.0|     29.74|  9.51| 14.87|            36.99|         1.0|11.6|\n",
      "|  9|              88.5|     21.24|  9.63| 10.62|            41.67|         1.0|10.3|\n",
      "| 15|            70.367|     20.52|  8.55|  10.2|            34.29|         1.0| 9.2|\n",
      "| 12|              88.5|     21.24|  9.63| 11.62|            41.67|         1.0| 9.3|\n",
      "| 20|            70.367|     20.52|  8.55|  10.2|            34.29|         1.0| 9.2|\n",
      "+---+------------------+----------+------+------+-----------------+------------+----+\n"
     ]
    }
   ],
   "source": [
    "selected_df = df.select([\"Age\", \"Tonnage\", \"passengers\", \"length\", \"cabins\", \"passenger_density\", \"Cruise_index\", \"crew\"])\n",
    "selected_df.show()"
   ],
   "metadata": {
    "collapsed": false,
    "ExecuteTime": {
     "end_time": "2024-06-09T14:18:20.020153Z",
     "start_time": "2024-06-09T14:18:19.537630Z"
    }
   },
   "id": "feee5a6de03b4b16"
  },
  {
   "cell_type": "code",
   "execution_count": 65,
   "outputs": [],
   "source": [
    "assembler = VectorAssembler(\n",
    "    inputCols=[\"Age\", \"Tonnage\", \"passengers\", \"length\", \"cabins\", \"passenger_density\", \"Cruise_index\"],\n",
    "    outputCol=\"features\"\n",
    ")"
   ],
   "metadata": {
    "collapsed": false,
    "ExecuteTime": {
     "end_time": "2024-06-09T14:18:20.706757Z",
     "start_time": "2024-06-09T14:18:20.691211Z"
    }
   },
   "id": "1dde5cd56ef7211d"
  },
  {
   "cell_type": "code",
   "execution_count": 66,
   "outputs": [],
   "source": [
    "selected_df = assembler.transform(selected_df).select([\"features\", \"crew\"])\n",
    "selected_df = selected_df.withColumnRenamed(\"crew\", \"label\")"
   ],
   "metadata": {
    "collapsed": false,
    "ExecuteTime": {
     "end_time": "2024-06-09T14:18:22.619351Z",
     "start_time": "2024-06-09T14:18:22.465019Z"
    }
   },
   "id": "c1fa889428492ec"
  },
  {
   "cell_type": "code",
   "execution_count": 67,
   "outputs": [],
   "source": [
    "train_df, test_df = selected_df.randomSplit([0.7, 0.3])"
   ],
   "metadata": {
    "collapsed": false,
    "ExecuteTime": {
     "end_time": "2024-06-09T14:18:53.954245Z",
     "start_time": "2024-06-09T14:18:53.907757Z"
    }
   },
   "id": "6161e2c138bc84bb"
  },
  {
   "cell_type": "code",
   "execution_count": 68,
   "outputs": [
    {
     "name": "stderr",
     "output_type": "stream",
     "text": [
      "24/06/09 21:18:59 WARN Instrumentation: [64e2a98d] regParam is zero, which might cause numerical instability and overfitting.\n"
     ]
    }
   ],
   "source": [
    "model = LinearRegression().fit(train_df)"
   ],
   "metadata": {
    "collapsed": false,
    "ExecuteTime": {
     "end_time": "2024-06-09T14:19:00.746067Z",
     "start_time": "2024-06-09T14:18:59.292401Z"
    }
   },
   "id": "bea446416249cc1e"
  },
  {
   "cell_type": "code",
   "execution_count": 69,
   "outputs": [],
   "source": [
    "summary = model.evaluate(test_df)"
   ],
   "metadata": {
    "collapsed": false,
    "ExecuteTime": {
     "end_time": "2024-06-09T14:19:26.731178Z",
     "start_time": "2024-06-09T14:19:25.642863Z"
    }
   },
   "id": "1318a32e3ea9ac01"
  },
  {
   "cell_type": "code",
   "execution_count": 71,
   "outputs": [
    {
     "name": "stdout",
     "output_type": "stream",
     "text": [
      "+--------------------+-----+------------------+\n",
      "|            features|label|        prediction|\n",
      "+--------------------+-----+------------------+\n",
      "|[5.0,86.0,21.04,9...|  8.0|  9.26965985345183|\n",
      "|[5.0,133.5,39.59,...|13.13|13.333218388854178|\n",
      "|[5.0,160.0,36.34,...| 13.6|15.164422558125507|\n",
      "|[6.0,30.276999999...| 3.55| 4.451915924259921|\n",
      "|[6.0,90.0,20.0,9....|  9.0|10.192598689531298|\n",
      "|[6.0,112.0,38.0,9...| 10.9|11.458547855232126|\n",
      "|[6.0,113.0,37.82,...| 12.0|11.768251804923235|\n",
      "|[6.0,158.0,43.7,1...| 13.6|14.063738143521487|\n",
      "|[7.0,158.0,43.7,1...| 13.6|14.001826373573234|\n",
      "|[9.0,85.0,19.68,9...| 8.69|    9.403067892806|\n",
      "|[9.0,90.09,25.01,...| 8.69| 9.267664294579129|\n",
      "|[9.0,113.0,26.74,...|12.38|11.378607447608072|\n",
      "|[10.0,77.0,20.16,...|  9.0| 8.868529116548233|\n",
      "|[10.0,86.0,21.14,...|  9.2| 9.720592655385367|\n",
      "|[10.0,91.62700000...|  9.0| 9.190200967842154|\n",
      "|[11.0,58.6,15.66,...|  7.6| 7.466388826043693|\n",
      "|[11.0,90.0,22.4,9...| 11.0| 10.07484195301561|\n",
      "|[11.0,90.09,25.01...| 8.48| 8.883386249442523|\n",
      "|[11.0,91.0,20.32,...| 9.99| 9.273188666348759|\n",
      "|[11.0,108.977,26....| 12.0|11.112607976484535|\n",
      "+--------------------+-----+------------------+\n"
     ]
    }
   ],
   "source": [
    "summary.predictions.show()"
   ],
   "metadata": {
    "collapsed": false,
    "ExecuteTime": {
     "end_time": "2024-06-09T14:19:38.838892Z",
     "start_time": "2024-06-09T14:19:37.848608Z"
    }
   },
   "id": "413c7103cece3d6d"
  }
 ],
 "metadata": {
  "kernelspec": {
   "display_name": "Python 3",
   "language": "python",
   "name": "python3"
  },
  "language_info": {
   "codemirror_mode": {
    "name": "ipython",
    "version": 2
   },
   "file_extension": ".py",
   "mimetype": "text/x-python",
   "name": "python",
   "nbconvert_exporter": "python",
   "pygments_lexer": "ipython2",
   "version": "2.7.6"
  }
 },
 "nbformat": 4,
 "nbformat_minor": 5
}
