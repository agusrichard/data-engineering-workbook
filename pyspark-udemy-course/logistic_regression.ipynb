{
 "cells": [
  {
   "cell_type": "markdown",
   "source": [
    "# PySpark MLlib: Logistic Regression"
   ],
   "metadata": {
    "collapsed": false
   },
   "id": "f1680e0256f2256d"
  },
  {
   "cell_type": "markdown",
   "source": [
    "## Basic"
   ],
   "metadata": {
    "collapsed": false
   },
   "id": "c186c36c322928c9"
  },
  {
   "cell_type": "code",
   "execution_count": 1,
   "outputs": [],
   "source": [
    "from pyspark.sql import SparkSession"
   ],
   "metadata": {
    "collapsed": false,
    "ExecuteTime": {
     "end_time": "2024-06-09T14:35:37.316618Z",
     "start_time": "2024-06-09T14:35:37.191074Z"
    }
   },
   "id": "75486af5064b8a31"
  },
  {
   "cell_type": "code",
   "execution_count": 19,
   "outputs": [],
   "source": [
    "spark = SparkSession.builder.appName(\"log_reg_basic\").getOrCreate()"
   ],
   "metadata": {
    "collapsed": false,
    "ExecuteTime": {
     "end_time": "2024-06-09T14:44:03.517599Z",
     "start_time": "2024-06-09T14:44:03.503703Z"
    }
   },
   "id": "192b5ca2401740fe"
  },
  {
   "cell_type": "code",
   "execution_count": 20,
   "outputs": [
    {
     "name": "stderr",
     "output_type": "stream",
     "text": [
      "24/06/09 21:44:03 WARN LibSVMFileFormat: 'numFeatures' option not specified, determining the number of features by going though the input. If you know the number in advance, please specify it via 'numFeatures' option to avoid the extra scan.\n"
     ]
    },
    {
     "name": "stdout",
     "output_type": "stream",
     "text": [
      "+-----+--------------------+\n",
      "|label|            features|\n",
      "+-----+--------------------+\n",
      "|  0.0|(692,[127,128,129...|\n",
      "|  1.0|(692,[158,159,160...|\n",
      "|  1.0|(692,[124,125,126...|\n",
      "|  1.0|(692,[152,153,154...|\n",
      "|  1.0|(692,[151,152,153...|\n",
      "|  0.0|(692,[129,130,131...|\n",
      "|  1.0|(692,[158,159,160...|\n",
      "|  1.0|(692,[99,100,101,...|\n",
      "|  0.0|(692,[154,155,156...|\n",
      "|  0.0|(692,[127,128,129...|\n",
      "|  1.0|(692,[154,155,156...|\n",
      "|  0.0|(692,[153,154,155...|\n",
      "|  0.0|(692,[151,152,153...|\n",
      "|  1.0|(692,[129,130,131...|\n",
      "|  0.0|(692,[154,155,156...|\n",
      "|  1.0|(692,[150,151,152...|\n",
      "|  0.0|(692,[124,125,126...|\n",
      "|  0.0|(692,[152,153,154...|\n",
      "|  1.0|(692,[97,98,99,12...|\n",
      "|  1.0|(692,[124,125,126...|\n",
      "+-----+--------------------+\n"
     ]
    }
   ],
   "source": [
    "df = spark.read.format(\"libsvm\").load(\"./files/sample_libsvm_data.txt\")\n",
    "df.show()"
   ],
   "metadata": {
    "collapsed": false,
    "ExecuteTime": {
     "end_time": "2024-06-09T14:44:04.283281Z",
     "start_time": "2024-06-09T14:44:03.742028Z"
    }
   },
   "id": "4347470d18094467"
  },
  {
   "cell_type": "code",
   "execution_count": 21,
   "outputs": [],
   "source": [
    "train_df, test_df = df.randomSplit([0.7, 0.3])"
   ],
   "metadata": {
    "collapsed": false,
    "ExecuteTime": {
     "end_time": "2024-06-09T14:44:04.301860Z",
     "start_time": "2024-06-09T14:44:04.268612Z"
    }
   },
   "id": "c8c06b17aff94988"
  },
  {
   "cell_type": "code",
   "execution_count": 22,
   "outputs": [],
   "source": [
    "from pyspark.ml.classification import LogisticRegression"
   ],
   "metadata": {
    "collapsed": false,
    "ExecuteTime": {
     "end_time": "2024-06-09T14:44:04.483730Z",
     "start_time": "2024-06-09T14:44:04.453784Z"
    }
   },
   "id": "4fbcf549c5df32f7"
  },
  {
   "cell_type": "code",
   "execution_count": 23,
   "outputs": [],
   "source": [
    "model = LogisticRegression().fit(train_df)"
   ],
   "metadata": {
    "collapsed": false,
    "ExecuteTime": {
     "end_time": "2024-06-09T14:44:09.816944Z",
     "start_time": "2024-06-09T14:44:04.766099Z"
    }
   },
   "id": "bbe2a4699f0be7a6"
  },
  {
   "cell_type": "code",
   "execution_count": 24,
   "outputs": [],
   "source": [
    "result = model.evaluate(test_df)"
   ],
   "metadata": {
    "collapsed": false,
    "ExecuteTime": {
     "end_time": "2024-06-09T14:44:10.315479Z",
     "start_time": "2024-06-09T14:44:09.801269Z"
    }
   },
   "id": "13097aba9c47e150"
  },
  {
   "cell_type": "code",
   "execution_count": 25,
   "outputs": [
    {
     "name": "stdout",
     "output_type": "stream",
     "text": [
      "+-----+--------------------+--------------------+--------------------+----------+\n",
      "|label|            features|       rawPrediction|         probability|prediction|\n",
      "+-----+--------------------+--------------------+--------------------+----------+\n",
      "|  0.0|(692,[121,122,123...|[25.4030937027035...|[0.99999999999071...|       0.0|\n",
      "|  0.0|(692,[124,125,126...|[27.1375820781175...|[0.99999999999836...|       0.0|\n",
      "|  0.0|(692,[124,125,126...|[20.3607657754883...|[0.99999999856308...|       0.0|\n",
      "|  0.0|(692,[126,127,128...|[25.9017561617222...|[0.99999999999436...|       0.0|\n",
      "|  0.0|(692,[127,128,129...|[25.2670567872269...|[0.99999999998936...|       0.0|\n",
      "|  0.0|(692,[127,128,129...|[21.8024816455057...|[0.99999999966013...|       0.0|\n",
      "|  0.0|(692,[152,153,154...|[17.6969040624542...|[0.99999997937793...|       0.0|\n",
      "|  0.0|(692,[153,154,155...|[30.1184893706196...|[0.99999999999991...|       0.0|\n",
      "|  0.0|(692,[155,156,180...|[33.7502579117914...|[0.99999999999999...|       0.0|\n",
      "|  0.0|(692,[181,182,183...|[18.3505635061522...|[0.99999998927366...|       0.0|\n",
      "|  1.0|(692,[119,120,121...|[-2.4207818171050...|[0.08160164471668...|       1.0|\n",
      "|  1.0|(692,[123,124,125...|[-22.838739230057...|[1.20576196085290...|       1.0|\n",
      "|  1.0|(692,[123,124,125...|[-22.561486097547...|[1.59100331386271...|       1.0|\n",
      "|  1.0|(692,[123,124,125...|[-15.990152898650...|[1.13648781036253...|       1.0|\n",
      "|  1.0|(692,[123,124,125...|[-17.271145815603...|[3.15672436554325...|       1.0|\n",
      "|  1.0|(692,[125,126,127...|[-22.787792460100...|[1.26878337605594...|       1.0|\n",
      "|  1.0|(692,[125,126,153...|[-21.277724052964...|[5.74383368290855...|       1.0|\n",
      "|  1.0|(692,[126,127,128...|[-20.273112126240...|[1.56855326793131...|       1.0|\n",
      "|  1.0|(692,[127,128,129...|[-25.878129913222...|[5.77126447351053...|       1.0|\n",
      "|  1.0|(692,[127,128,129...|[-23.648804163679...|[5.36358105460692...|       1.0|\n",
      "+-----+--------------------+--------------------+--------------------+----------+\n"
     ]
    }
   ],
   "source": [
    "result.predictions.show()"
   ],
   "metadata": {
    "collapsed": false,
    "ExecuteTime": {
     "end_time": "2024-06-09T14:44:10.632328Z",
     "start_time": "2024-06-09T14:44:10.233107Z"
    }
   },
   "id": "bf36b652824c679b"
  },
  {
   "cell_type": "code",
   "execution_count": 26,
   "outputs": [
    {
     "data": {
      "text/plain": "1.0"
     },
     "execution_count": 26,
     "metadata": {},
     "output_type": "execute_result"
    }
   ],
   "source": [
    "result.accuracy"
   ],
   "metadata": {
    "collapsed": false,
    "ExecuteTime": {
     "end_time": "2024-06-09T14:44:10.797628Z",
     "start_time": "2024-06-09T14:44:10.627791Z"
    }
   },
   "id": "7b935a758c8ce970"
  },
  {
   "cell_type": "code",
   "execution_count": 27,
   "outputs": [],
   "source": [
    "from pyspark.ml.evaluation import BinaryClassificationEvaluator, MulticlassClassificationEvaluator"
   ],
   "metadata": {
    "collapsed": false,
    "ExecuteTime": {
     "end_time": "2024-06-09T14:44:10.797940Z",
     "start_time": "2024-06-09T14:44:10.779228Z"
    }
   },
   "id": "ec4dc0a4243e8b71"
  },
  {
   "cell_type": "code",
   "execution_count": 28,
   "outputs": [],
   "source": [
    "result = model.evaluate(test_df)"
   ],
   "metadata": {
    "collapsed": false,
    "ExecuteTime": {
     "end_time": "2024-06-09T14:44:10.997051Z",
     "start_time": "2024-06-09T14:44:10.783524Z"
    }
   },
   "id": "86a720594013acab"
  },
  {
   "cell_type": "code",
   "execution_count": 29,
   "outputs": [
    {
     "name": "stdout",
     "output_type": "stream",
     "text": [
      "+-----+--------------------+--------------------+--------------------+----------+\n",
      "|label|            features|       rawPrediction|         probability|prediction|\n",
      "+-----+--------------------+--------------------+--------------------+----------+\n",
      "|  0.0|(692,[121,122,123...|[25.4030937027035...|[0.99999999999071...|       0.0|\n",
      "|  0.0|(692,[124,125,126...|[27.1375820781175...|[0.99999999999836...|       0.0|\n",
      "|  0.0|(692,[124,125,126...|[20.3607657754883...|[0.99999999856308...|       0.0|\n",
      "|  0.0|(692,[126,127,128...|[25.9017561617222...|[0.99999999999436...|       0.0|\n",
      "|  0.0|(692,[127,128,129...|[25.2670567872269...|[0.99999999998936...|       0.0|\n",
      "|  0.0|(692,[127,128,129...|[21.8024816455057...|[0.99999999966013...|       0.0|\n",
      "|  0.0|(692,[152,153,154...|[17.6969040624542...|[0.99999997937793...|       0.0|\n",
      "|  0.0|(692,[153,154,155...|[30.1184893706196...|[0.99999999999991...|       0.0|\n",
      "|  0.0|(692,[155,156,180...|[33.7502579117914...|[0.99999999999999...|       0.0|\n",
      "|  0.0|(692,[181,182,183...|[18.3505635061522...|[0.99999998927366...|       0.0|\n",
      "|  1.0|(692,[119,120,121...|[-2.4207818171050...|[0.08160164471668...|       1.0|\n",
      "|  1.0|(692,[123,124,125...|[-22.838739230057...|[1.20576196085290...|       1.0|\n",
      "|  1.0|(692,[123,124,125...|[-22.561486097547...|[1.59100331386271...|       1.0|\n",
      "|  1.0|(692,[123,124,125...|[-15.990152898650...|[1.13648781036253...|       1.0|\n",
      "|  1.0|(692,[123,124,125...|[-17.271145815603...|[3.15672436554325...|       1.0|\n",
      "|  1.0|(692,[125,126,127...|[-22.787792460100...|[1.26878337605594...|       1.0|\n",
      "|  1.0|(692,[125,126,153...|[-21.277724052964...|[5.74383368290855...|       1.0|\n",
      "|  1.0|(692,[126,127,128...|[-20.273112126240...|[1.56855326793131...|       1.0|\n",
      "|  1.0|(692,[127,128,129...|[-25.878129913222...|[5.77126447351053...|       1.0|\n",
      "|  1.0|(692,[127,128,129...|[-23.648804163679...|[5.36358105460692...|       1.0|\n",
      "+-----+--------------------+--------------------+--------------------+----------+\n"
     ]
    }
   ],
   "source": [
    "result.predictions.show()"
   ],
   "metadata": {
    "collapsed": false,
    "ExecuteTime": {
     "end_time": "2024-06-09T14:44:11.513996Z",
     "start_time": "2024-06-09T14:44:10.990987Z"
    }
   },
   "id": "fc88bc7cca5c1414"
  },
  {
   "cell_type": "code",
   "execution_count": 30,
   "outputs": [],
   "source": [
    "prediction_and_label = result.predictions.select([\"prediction\", \"label\"])"
   ],
   "metadata": {
    "collapsed": false,
    "ExecuteTime": {
     "end_time": "2024-06-09T14:44:11.604837Z",
     "start_time": "2024-06-09T14:44:11.512427Z"
    }
   },
   "id": "6a973737df08b32e"
  },
  {
   "cell_type": "code",
   "execution_count": 32,
   "outputs": [],
   "source": [
    "evaluator = MulticlassClassificationEvaluator(predictionCol=\"prediction\", labelCol=\"label\", metricName=\"accuracy\").evaluate(prediction_and_label)"
   ],
   "metadata": {
    "collapsed": false,
    "ExecuteTime": {
     "end_time": "2024-06-09T14:44:49.796871Z",
     "start_time": "2024-06-09T14:44:49.523472Z"
    }
   },
   "id": "d91dfcd5c7994954"
  },
  {
   "cell_type": "code",
   "execution_count": 34,
   "outputs": [
    {
     "data": {
      "text/plain": "1.0"
     },
     "execution_count": 34,
     "metadata": {},
     "output_type": "execute_result"
    }
   ],
   "source": [
    "evaluator"
   ],
   "metadata": {
    "collapsed": false,
    "ExecuteTime": {
     "end_time": "2024-06-09T14:45:06.375523Z",
     "start_time": "2024-06-09T14:45:06.368848Z"
    }
   },
   "id": "9122b84a56b6dc6e"
  },
  {
   "cell_type": "markdown",
   "source": [
    "## Real Data"
   ],
   "metadata": {
    "collapsed": false
   },
   "id": "b61e30214ebfbfab"
  },
  {
   "cell_type": "code",
   "execution_count": 127,
   "outputs": [],
   "source": [
    "spark = SparkSession.builder.appName(\"log_reg_real\").getOrCreate()"
   ],
   "metadata": {
    "collapsed": false,
    "ExecuteTime": {
     "end_time": "2024-06-09T15:12:03.273163Z",
     "start_time": "2024-06-09T15:12:03.259646Z"
    }
   },
   "id": "7f1942f810bbfd87"
  },
  {
   "cell_type": "code",
   "execution_count": 128,
   "outputs": [
    {
     "name": "stdout",
     "output_type": "stream",
     "text": [
      "+-----------+--------+------+--------------------+------+----+-----+-----+----------------+-------+-----+--------+\n",
      "|PassengerId|Survived|Pclass|                Name|   Sex| Age|SibSp|Parch|          Ticket|   Fare|Cabin|Embarked|\n",
      "+-----------+--------+------+--------------------+------+----+-----+-----+----------------+-------+-----+--------+\n",
      "|          1|       0|     3|Braund, Mr. Owen ...|  male|22.0|    1|    0|       A/5 21171|   7.25| NULL|       S|\n",
      "|          2|       1|     1|Cumings, Mrs. Joh...|female|38.0|    1|    0|        PC 17599|71.2833|  C85|       C|\n",
      "|          3|       1|     3|Heikkinen, Miss. ...|female|26.0|    0|    0|STON/O2. 3101282|  7.925| NULL|       S|\n",
      "|          4|       1|     1|Futrelle, Mrs. Ja...|female|35.0|    1|    0|          113803|   53.1| C123|       S|\n",
      "|          5|       0|     3|Allen, Mr. Willia...|  male|35.0|    0|    0|          373450|   8.05| NULL|       S|\n",
      "|          6|       0|     3|    Moran, Mr. James|  male|NULL|    0|    0|          330877| 8.4583| NULL|       Q|\n",
      "|          7|       0|     1|McCarthy, Mr. Tim...|  male|54.0|    0|    0|           17463|51.8625|  E46|       S|\n",
      "|          8|       0|     3|Palsson, Master. ...|  male| 2.0|    3|    1|          349909| 21.075| NULL|       S|\n",
      "|          9|       1|     3|Johnson, Mrs. Osc...|female|27.0|    0|    2|          347742|11.1333| NULL|       S|\n",
      "|         10|       1|     2|Nasser, Mrs. Nich...|female|14.0|    1|    0|          237736|30.0708| NULL|       C|\n",
      "|         11|       1|     3|Sandstrom, Miss. ...|female| 4.0|    1|    1|         PP 9549|   16.7|   G6|       S|\n",
      "|         12|       1|     1|Bonnell, Miss. El...|female|58.0|    0|    0|          113783|  26.55| C103|       S|\n",
      "|         13|       0|     3|Saundercock, Mr. ...|  male|20.0|    0|    0|       A/5. 2151|   8.05| NULL|       S|\n",
      "|         14|       0|     3|Andersson, Mr. An...|  male|39.0|    1|    5|          347082| 31.275| NULL|       S|\n",
      "|         15|       0|     3|Vestrom, Miss. Hu...|female|14.0|    0|    0|          350406| 7.8542| NULL|       S|\n",
      "|         16|       1|     2|Hewlett, Mrs. (Ma...|female|55.0|    0|    0|          248706|   16.0| NULL|       S|\n",
      "|         17|       0|     3|Rice, Master. Eugene|  male| 2.0|    4|    1|          382652| 29.125| NULL|       Q|\n",
      "|         18|       1|     2|Williams, Mr. Cha...|  male|NULL|    0|    0|          244373|   13.0| NULL|       S|\n",
      "|         19|       0|     3|Vander Planke, Mr...|female|31.0|    1|    0|          345763|   18.0| NULL|       S|\n",
      "|         20|       1|     3|Masselmani, Mrs. ...|female|NULL|    0|    0|            2649|  7.225| NULL|       C|\n",
      "+-----------+--------+------+--------------------+------+----+-----+-----+----------------+-------+-----+--------+\n"
     ]
    }
   ],
   "source": [
    "df = spark.read.csv(\"./files/titanic.csv\", header=True, inferSchema=True)\n",
    "df.show()"
   ],
   "metadata": {
    "collapsed": false,
    "ExecuteTime": {
     "end_time": "2024-06-09T15:12:05.232651Z",
     "start_time": "2024-06-09T15:12:03.638850Z"
    }
   },
   "id": "fb2604370af9b653"
  },
  {
   "cell_type": "code",
   "execution_count": 129,
   "outputs": [
    {
     "data": {
      "text/plain": "['PassengerId',\n 'Survived',\n 'Pclass',\n 'Name',\n 'Sex',\n 'Age',\n 'SibSp',\n 'Parch',\n 'Ticket',\n 'Fare',\n 'Cabin',\n 'Embarked']"
     },
     "execution_count": 129,
     "metadata": {},
     "output_type": "execute_result"
    }
   ],
   "source": [
    "df.columns"
   ],
   "metadata": {
    "collapsed": false,
    "ExecuteTime": {
     "end_time": "2024-06-09T15:12:05.233011Z",
     "start_time": "2024-06-09T15:12:05.218355Z"
    }
   },
   "id": "51f5c1f8e7dd8c1c"
  },
  {
   "cell_type": "code",
   "execution_count": 130,
   "outputs": [],
   "source": [
    "selected_df = df.select(['Pclass', 'Sex', 'Age', 'SibSp', 'Parch', \n",
    "                         'Fare', 'Embarked', 'Survived'])"
   ],
   "metadata": {
    "collapsed": false,
    "ExecuteTime": {
     "end_time": "2024-06-09T15:12:05.271782Z",
     "start_time": "2024-06-09T15:12:05.226376Z"
    }
   },
   "id": "8f6437b897cf82ae"
  },
  {
   "cell_type": "code",
   "execution_count": 131,
   "outputs": [
    {
     "name": "stdout",
     "output_type": "stream",
     "text": [
      "+------+------+----+-----+-----+-------+--------+-----+\n",
      "|Pclass|   Sex| Age|SibSp|Parch|   Fare|Embarked|label|\n",
      "+------+------+----+-----+-----+-------+--------+-----+\n",
      "|     3|  male|22.0|    1|    0|   7.25|       S|    0|\n",
      "|     1|female|38.0|    1|    0|71.2833|       C|    1|\n",
      "|     3|female|26.0|    0|    0|  7.925|       S|    1|\n",
      "|     1|female|35.0|    1|    0|   53.1|       S|    1|\n",
      "|     3|  male|35.0|    0|    0|   8.05|       S|    0|\n",
      "|     3|  male|NULL|    0|    0| 8.4583|       Q|    0|\n",
      "|     1|  male|54.0|    0|    0|51.8625|       S|    0|\n",
      "|     3|  male| 2.0|    3|    1| 21.075|       S|    0|\n",
      "|     3|female|27.0|    0|    2|11.1333|       S|    1|\n",
      "|     2|female|14.0|    1|    0|30.0708|       C|    1|\n",
      "|     3|female| 4.0|    1|    1|   16.7|       S|    1|\n",
      "|     1|female|58.0|    0|    0|  26.55|       S|    1|\n",
      "|     3|  male|20.0|    0|    0|   8.05|       S|    0|\n",
      "|     3|  male|39.0|    1|    5| 31.275|       S|    0|\n",
      "|     3|female|14.0|    0|    0| 7.8542|       S|    0|\n",
      "|     2|female|55.0|    0|    0|   16.0|       S|    1|\n",
      "|     3|  male| 2.0|    4|    1| 29.125|       Q|    0|\n",
      "|     2|  male|NULL|    0|    0|   13.0|       S|    1|\n",
      "|     3|female|31.0|    1|    0|   18.0|       S|    0|\n",
      "|     3|female|NULL|    0|    0|  7.225|       C|    1|\n",
      "+------+------+----+-----+-----+-------+--------+-----+\n"
     ]
    }
   ],
   "source": [
    "selected_df = selected_df.withColumnRenamed('Survived', 'label')\n",
    "selected_df.show()"
   ],
   "metadata": {
    "collapsed": false,
    "ExecuteTime": {
     "end_time": "2024-06-09T15:12:07.215978Z",
     "start_time": "2024-06-09T15:12:06.744392Z"
    }
   },
   "id": "f7457f9111c08c62"
  },
  {
   "cell_type": "code",
   "execution_count": 132,
   "outputs": [],
   "source": [
    "selected_df = selected_df.na.drop()"
   ],
   "metadata": {
    "collapsed": false,
    "ExecuteTime": {
     "end_time": "2024-06-09T15:12:08.366636Z",
     "start_time": "2024-06-09T15:12:08.284620Z"
    }
   },
   "id": "e41d600cb9370707"
  },
  {
   "cell_type": "code",
   "execution_count": 133,
   "outputs": [],
   "source": [
    "train_df, test_df = selected_df.randomSplit([0.7, 0.3])"
   ],
   "metadata": {
    "collapsed": false,
    "ExecuteTime": {
     "end_time": "2024-06-09T15:12:09.228949Z",
     "start_time": "2024-06-09T15:12:09.203296Z"
    }
   },
   "id": "ab0ce4274bd8cc09"
  },
  {
   "cell_type": "code",
   "execution_count": 134,
   "outputs": [
    {
     "name": "stdout",
     "output_type": "stream",
     "text": [
      "+------+------+----+-----+-----+--------+--------+-----+\n",
      "|Pclass|   Sex| Age|SibSp|Parch|    Fare|Embarked|label|\n",
      "+------+------+----+-----+-----+--------+--------+-----+\n",
      "|     1|female| 2.0|    1|    2|  151.55|       S|    0|\n",
      "|     1|female|14.0|    1|    2|   120.0|       S|    1|\n",
      "|     1|female|15.0|    0|    1|211.3375|       S|    1|\n",
      "|     1|female|16.0|    0|    1| 57.9792|       C|    1|\n",
      "|     1|female|17.0|    1|    0|    57.0|       S|    1|\n",
      "|     1|female|17.0|    1|    0|   108.9|       C|    1|\n",
      "|     1|female|18.0|    0|    2|   79.65|       S|    1|\n",
      "|     1|female|18.0|    2|    2| 262.375|       C|    1|\n",
      "|     1|female|19.0|    0|    0|    30.0|       S|    1|\n",
      "|     1|female|19.0|    0|    2| 26.2833|       S|    1|\n",
      "|     1|female|21.0|    0|    0| 77.9583|       S|    1|\n",
      "|     1|female|21.0|    2|    2| 262.375|       C|    1|\n",
      "|     1|female|22.0|    0|    0|  151.55|       S|    1|\n",
      "|     1|female|22.0|    0|    1|    55.0|       S|    1|\n",
      "|     1|female|22.0|    0|    2|    49.5|       C|    1|\n",
      "|     1|female|24.0|    0|    0| 49.5042|       C|    1|\n",
      "|     1|female|24.0|    0|    0|    69.3|       C|    1|\n",
      "|     1|female|24.0|    3|    2|   263.0|       S|    1|\n",
      "|     1|female|25.0|    1|    2|  151.55|       S|    0|\n",
      "|     1|female|26.0|    0|    0|   78.85|       S|    1|\n",
      "+------+------+----+-----+-----+--------+--------+-----+\n"
     ]
    }
   ],
   "source": [
    "train_df.show()"
   ],
   "metadata": {
    "collapsed": false,
    "ExecuteTime": {
     "end_time": "2024-06-09T15:12:10.548853Z",
     "start_time": "2024-06-09T15:12:09.739974Z"
    }
   },
   "id": "49193b677dc805d7"
  },
  {
   "cell_type": "code",
   "execution_count": 135,
   "outputs": [],
   "source": [
    "from pyspark.ml.feature import StringIndexer, OneHotEncoder, VectorAssembler"
   ],
   "metadata": {
    "collapsed": false,
    "ExecuteTime": {
     "end_time": "2024-06-09T15:12:11.388050Z",
     "start_time": "2024-06-09T15:12:11.385183Z"
    }
   },
   "id": "d588f1ab1838d8a7"
  },
  {
   "cell_type": "code",
   "execution_count": 136,
   "outputs": [],
   "source": [
    "# sex_indexer = StringIndexer(inputCol=\"Sex\", outputCol=\"sex_index\")\n",
    "# sex_encoder = OneHotEncoder(inputCol=\"sex_index\", outputCol=\"sex_enc\")\n",
    "\n",
    "# selected_df = sex_indexer.fit(selected_df).transform(selected_df)\n",
    "# selected_df = sex_encoder.fit(selected_df).transform(selected_df)"
   ],
   "metadata": {
    "collapsed": false,
    "ExecuteTime": {
     "end_time": "2024-06-09T15:12:12.056961Z",
     "start_time": "2024-06-09T15:12:12.050395Z"
    }
   },
   "id": "cf22f2f9a87ffb98"
  },
  {
   "cell_type": "code",
   "execution_count": 137,
   "outputs": [],
   "source": [
    "sex_indexer = StringIndexer(inputCol=\"Sex\", outputCol=\"sex_index\")\n",
    "sex_encoder = OneHotEncoder(inputCol=\"sex_index\", outputCol=\"sex_enc\")"
   ],
   "metadata": {
    "collapsed": false,
    "ExecuteTime": {
     "end_time": "2024-06-09T15:12:12.579765Z",
     "start_time": "2024-06-09T15:12:12.558279Z"
    }
   },
   "id": "78db2ec595e4a0a0"
  },
  {
   "cell_type": "code",
   "execution_count": 138,
   "outputs": [],
   "source": [
    "embarked_indexer = StringIndexer(inputCol=\"Embarked\", outputCol=\"embarked_index\")\n",
    "embarked_encoder = OneHotEncoder(inputCol=\"embarked_index\", outputCol=\"embarked_enc\")"
   ],
   "metadata": {
    "collapsed": false,
    "ExecuteTime": {
     "end_time": "2024-06-09T15:12:13.046442Z",
     "start_time": "2024-06-09T15:12:13.038507Z"
    }
   },
   "id": "a5989769eaa1eaa3"
  },
  {
   "cell_type": "code",
   "execution_count": 139,
   "outputs": [],
   "source": [
    "pclass_encoder = OneHotEncoder(inputCol=\"Pclass\", outputCol=\"pclass_enc\")\n",
    "sibsp_encoder = OneHotEncoder(inputCol=\"SibSp\", outputCol=\"sibsp_enc\")\n",
    "parch_encoder = OneHotEncoder(inputCol=\"Parch\", outputCol=\"parch_enc\")"
   ],
   "metadata": {
    "collapsed": false,
    "ExecuteTime": {
     "end_time": "2024-06-09T15:12:13.529173Z",
     "start_time": "2024-06-09T15:12:13.515578Z"
    }
   },
   "id": "b6c6933efd06f600"
  },
  {
   "cell_type": "code",
   "execution_count": 140,
   "outputs": [],
   "source": [
    "assembler = VectorAssembler(inputCols=[\"sex_enc\", \"embarked_enc\", \"pclass_enc\", \"sibsp_enc\", \"parch_enc\", \"Age\", \"Fare\"], outputCol=\"features\")"
   ],
   "metadata": {
    "collapsed": false,
    "ExecuteTime": {
     "end_time": "2024-06-09T15:12:14.188496Z",
     "start_time": "2024-06-09T15:12:14.180259Z"
    }
   },
   "id": "c208f2da7361a291"
  },
  {
   "cell_type": "code",
   "execution_count": 141,
   "outputs": [],
   "source": [
    "log_reg = LogisticRegression()"
   ],
   "metadata": {
    "collapsed": false,
    "ExecuteTime": {
     "end_time": "2024-06-09T15:12:14.628540Z",
     "start_time": "2024-06-09T15:12:14.604568Z"
    }
   },
   "id": "7df70c07c28c9883"
  },
  {
   "cell_type": "code",
   "execution_count": 142,
   "outputs": [],
   "source": [
    "from pyspark.ml import Pipeline"
   ],
   "metadata": {
    "collapsed": false,
    "ExecuteTime": {
     "end_time": "2024-06-09T15:12:15.093816Z",
     "start_time": "2024-06-09T15:12:15.090217Z"
    }
   },
   "id": "19fba7f3145ae324"
  },
  {
   "cell_type": "code",
   "execution_count": 143,
   "outputs": [],
   "source": [
    "pipeline = Pipeline(stages=[sex_indexer, sex_encoder, embarked_indexer, embarked_encoder, pclass_encoder, sibsp_encoder, parch_encoder, assembler, log_reg])"
   ],
   "metadata": {
    "collapsed": false,
    "ExecuteTime": {
     "end_time": "2024-06-09T15:12:15.594202Z",
     "start_time": "2024-06-09T15:12:15.587316Z"
    }
   },
   "id": "26d6081da0cddb30"
  },
  {
   "cell_type": "code",
   "execution_count": 144,
   "outputs": [
    {
     "name": "stderr",
     "output_type": "stream",
     "text": [
      "                                                                                \r"
     ]
    }
   ],
   "source": [
    "pipeline = pipeline.fit(train_df)"
   ],
   "metadata": {
    "collapsed": false,
    "ExecuteTime": {
     "end_time": "2024-06-09T15:12:34.351469Z",
     "start_time": "2024-06-09T15:12:16.417785Z"
    }
   },
   "id": "ceeebe7e2989f28"
  },
  {
   "cell_type": "code",
   "execution_count": 145,
   "outputs": [],
   "source": [
    "result = pipeline.transform(test_df)"
   ],
   "metadata": {
    "collapsed": false,
    "ExecuteTime": {
     "end_time": "2024-06-09T15:13:51.713936Z",
     "start_time": "2024-06-09T15:13:51.458182Z"
    }
   },
   "id": "ef8d320fc4ada90f"
  },
  {
   "cell_type": "code",
   "execution_count": 147,
   "outputs": [
    {
     "name": "stdout",
     "output_type": "stream",
     "text": [
      "+------+------+----+-----+-----+--------+--------+-----+---------+---------+--------------+-------------+-------------+-------------+-------------+--------------------+--------------------+--------------------+----------+\n",
      "|Pclass|   Sex| Age|SibSp|Parch|    Fare|Embarked|label|sex_index|  sex_enc|embarked_index| embarked_enc|   pclass_enc|    sibsp_enc|    parch_enc|            features|       rawPrediction|         probability|prediction|\n",
      "+------+------+----+-----+-----+--------+--------+-----+---------+---------+--------------+-------------+-------------+-------------+-------------+--------------------+--------------------+--------------------+----------+\n",
      "|     1|female|16.0|    0|    0|    86.5|       S|    1|      1.0|(1,[],[])|           0.0|(2,[0],[1.0])|(3,[1],[1.0])|(5,[0],[1.0])|(6,[0],[1.0])|(19,[1,4,6,11,17,...|[-2.9109760106123...|[0.05161363915402...|       1.0|\n",
      "|     1|female|16.0|    0|    1|    39.4|       S|    1|      1.0|(1,[],[])|           0.0|(2,[0],[1.0])|(3,[1],[1.0])|(5,[0],[1.0])|(6,[1],[1.0])|(19,[1,4,6,12,17,...|[-3.5244724172281...|[0.02862387985636...|       1.0|\n",
      "|     1|female|18.0|    1|    0| 227.525|       C|    1|      1.0|(1,[],[])|           1.0|(2,[1],[1.0])|(3,[1],[1.0])|(5,[1],[1.0])|(6,[0],[1.0])|(19,[2,4,7,11,17,...|[-2.8178521826400...|[0.05636706679831...|       1.0|\n",
      "|     1|female|19.0|    1|    0| 91.0792|       C|    1|      1.0|(1,[],[])|           1.0|(2,[1],[1.0])|(3,[1],[1.0])|(5,[1],[1.0])|(6,[0],[1.0])|(19,[2,4,7,11,17,...|[-2.9461737699097...|[0.04991766173818...|       1.0|\n",
      "|     1|female|22.0|    1|    0|    66.6|       S|    1|      1.0|(1,[],[])|           0.0|(2,[0],[1.0])|(3,[1],[1.0])|(5,[1],[1.0])|(6,[0],[1.0])|(19,[1,4,7,11,17,...|[-2.5190980283306...|[0.07453013514703...|       1.0|\n",
      "|     1|female|23.0|    1|    0| 113.275|       C|    1|      1.0|(1,[],[])|           1.0|(2,[1],[1.0])|(3,[1],[1.0])|(5,[1],[1.0])|(6,[0],[1.0])|(19,[2,4,7,11,17,...|[-2.7820845037809...|[0.05830000853045...|       1.0|\n",
      "|     1|female|23.0|    3|    2|   263.0|       S|    1|      1.0|(1,[],[])|           0.0|(2,[0],[1.0])|(3,[1],[1.0])|(5,[3],[1.0])|(6,[2],[1.0])|(19,[1,4,9,13,17,...|[-1.5749736438857...|[0.17150851497139...|       1.0|\n",
      "|     1|female|24.0|    0|    0|    69.3|       C|    1|      1.0|(1,[],[])|           1.0|(2,[1],[1.0])|(3,[1],[1.0])|(5,[0],[1.0])|(6,[0],[1.0])|(19,[2,4,6,11,17,...|[-3.0093080377642...|[0.04700713411656...|       1.0|\n",
      "|     1|female|24.0|    0|    0| 83.1583|       C|    1|      1.0|(1,[],[])|           1.0|(2,[1],[1.0])|(3,[1],[1.0])|(5,[0],[1.0])|(6,[0],[1.0])|(19,[2,4,6,11,17,...|[-2.9927805350076...|[0.04775309220655...|       1.0|\n",
      "|     1|female|30.0|    0|    0|    86.5|       S|    1|      1.0|(1,[],[])|           0.0|(2,[0],[1.0])|(3,[1],[1.0])|(5,[0],[1.0])|(6,[0],[1.0])|(19,[1,4,6,11,17,...|[-2.4293115958665...|[0.08096467617814...|       1.0|\n",
      "|     1|female|30.0|    0|    0| 106.425|       C|    1|      1.0|(1,[],[])|           1.0|(2,[1],[1.0])|(3,[1],[1.0])|(5,[0],[1.0])|(6,[0],[1.0])|(19,[2,4,6,11,17,...|[-2.7586049041547...|[0.05960251314732...|       1.0|\n",
      "|     1|female|33.0|    0|    0|    86.5|       S|    1|      1.0|(1,[],[])|           0.0|(2,[0],[1.0])|(3,[1],[1.0])|(5,[0],[1.0])|(6,[0],[1.0])|(19,[1,4,6,11,17,...|[-2.3260977927066...|[0.08898449362956...|       1.0|\n",
      "|     1|female|35.0|    0|    0|135.6333|       S|    1|      1.0|(1,[],[])|           0.0|(2,[0],[1.0])|(3,[1],[1.0])|(5,[0],[1.0])|(6,[0],[1.0])|(19,[1,4,6,11,17,...|[-2.1986918831255...|[0.09986801996466...|       1.0|\n",
      "|     1|female|35.0|    0|    0|512.3292|       C|    1|      1.0|(1,[],[])|           1.0|(2,[1],[1.0])|(3,[1],[1.0])|(5,[0],[1.0])|(6,[0],[1.0])|(19,[2,4,6,11,17,...|[-2.1024977915702...|[0.10885428601744...|       1.0|\n",
      "|     1|female|35.0|    1|    0|    52.0|       S|    1|      1.0|(1,[],[])|           0.0|(2,[0],[1.0])|(3,[1],[1.0])|(5,[1],[1.0])|(6,[0],[1.0])|(19,[1,4,7,11,17,...|[-2.0892502738551...|[0.11014603646101...|       1.0|\n",
      "|     1|female|35.0|    1|    0|    53.1|       S|    1|      1.0|(1,[],[])|           0.0|(2,[0],[1.0])|(3,[1],[1.0])|(5,[1],[1.0])|(6,[0],[1.0])|(19,[1,4,7,11,17,...|[-2.0879384063799...|[0.11027468346799...|       1.0|\n",
      "|     1|female|35.0|    1|    0|    90.0|       S|    1|      1.0|(1,[],[])|           0.0|(2,[0],[1.0])|(3,[1],[1.0])|(5,[1],[1.0])|(6,[0],[1.0])|(19,[1,4,7,11,17,...|[-2.0439312156190...|[0.11466703595026...|       1.0|\n",
      "|     1|female|43.0|    0|    1|211.3375|       S|    1|      1.0|(1,[],[])|           0.0|(2,[0],[1.0])|(3,[1],[1.0])|(5,[0],[1.0])|(6,[1],[1.0])|(19,[1,4,6,12,17,...|[-2.3904943578561...|[0.08390042716957...|       1.0|\n",
      "|     1|female|44.0|    0|    1| 57.9792|       C|    1|      1.0|(1,[],[])|           1.0|(2,[1],[1.0])|(3,[1],[1.0])|(5,[0],[1.0])|(6,[1],[1.0])|(19,[2,4,6,12,17,...|[-2.8920419062503...|[0.05254836504655...|       1.0|\n",
      "|     1|female|48.0|    0|    0| 25.9292|       S|    1|      1.0|(1,[],[])|           0.0|(2,[0],[1.0])|(3,[1],[1.0])|(5,[0],[1.0])|(6,[0],[1.0])|(19,[1,4,6,11,17,...|[-1.8822659246078...|[0.13212882150365...|       1.0|\n",
      "+------+------+----+-----+-----+--------+--------+-----+---------+---------+--------------+-------------+-------------+-------------+-------------+--------------------+--------------------+--------------------+----------+\n"
     ]
    }
   ],
   "source": [
    "result.show()"
   ],
   "metadata": {
    "collapsed": false,
    "ExecuteTime": {
     "end_time": "2024-06-09T15:14:31.698573Z",
     "start_time": "2024-06-09T15:14:31.040047Z"
    }
   },
   "id": "1a68f62ae03d4e19"
  },
  {
   "cell_type": "code",
   "execution_count": 148,
   "outputs": [],
   "source": [
    "from pyspark.ml.evaluation import BinaryClassificationEvaluator"
   ],
   "metadata": {
    "collapsed": false,
    "ExecuteTime": {
     "end_time": "2024-06-09T15:15:16.917773Z",
     "start_time": "2024-06-09T15:15:16.895841Z"
    }
   },
   "id": "d33eca91c0969598"
  },
  {
   "cell_type": "code",
   "execution_count": 149,
   "outputs": [
    {
     "name": "stderr",
     "output_type": "stream",
     "text": [
      "                                                                                \r"
     ]
    }
   ],
   "source": [
    "auc = BinaryClassificationEvaluator(rawPredictionCol=\"prediction\", labelCol=\"label\").evaluate(result)"
   ],
   "metadata": {
    "collapsed": false,
    "ExecuteTime": {
     "end_time": "2024-06-09T15:16:52.207551Z",
     "start_time": "2024-06-09T15:16:50.103417Z"
    }
   },
   "id": "e0273157160c76e"
  },
  {
   "cell_type": "code",
   "execution_count": 150,
   "outputs": [
    {
     "data": {
      "text/plain": "0.78125"
     },
     "execution_count": 150,
     "metadata": {},
     "output_type": "execute_result"
    }
   ],
   "source": [
    "auc"
   ],
   "metadata": {
    "collapsed": false,
    "ExecuteTime": {
     "end_time": "2024-06-09T15:16:52.212291Z",
     "start_time": "2024-06-09T15:16:52.209743Z"
    }
   },
   "id": "87838ecdc1a2bf3b"
  },
  {
   "cell_type": "markdown",
   "source": [
    "## Project"
   ],
   "metadata": {
    "collapsed": false
   },
   "id": "fd9390f0ee5c7ebd"
  },
  {
   "cell_type": "code",
   "execution_count": 174,
   "outputs": [],
   "source": [
    "spark = SparkSession.builder.appName(\"log_reg_project\").getOrCreate()"
   ],
   "metadata": {
    "collapsed": false,
    "ExecuteTime": {
     "end_time": "2024-06-09T15:28:08.968017Z",
     "start_time": "2024-06-09T15:28:08.946345Z"
    }
   },
   "id": "a7e043dc61316668"
  },
  {
   "cell_type": "code",
   "execution_count": 175,
   "outputs": [],
   "source": [
    "df = spark.read.csv('./files/customer_churn.csv', header=True, inferSchema=True)"
   ],
   "metadata": {
    "collapsed": false,
    "ExecuteTime": {
     "end_time": "2024-06-09T15:28:10.684728Z",
     "start_time": "2024-06-09T15:28:09.481297Z"
    }
   },
   "id": "67d40e4a818d24e9"
  },
  {
   "cell_type": "code",
   "execution_count": 176,
   "outputs": [
    {
     "name": "stdout",
     "output_type": "stream",
     "text": [
      "+-------------------+----+--------------+---------------+-----+---------+-------------------+--------------------+--------------------+-----+\n",
      "|              Names| Age|Total_Purchase|Account_Manager|Years|Num_Sites|       Onboard_date|            Location|             Company|Churn|\n",
      "+-------------------+----+--------------+---------------+-----+---------+-------------------+--------------------+--------------------+-----+\n",
      "|   Cameron Williams|42.0|       11066.8|              0| 7.22|      8.0|2013-08-30 07:00:40|10265 Elizabeth M...|          Harvey LLC|    1|\n",
      "|      Kevin Mueller|41.0|      11916.22|              0|  6.5|     11.0|2013-08-13 00:38:46|6157 Frank Garden...|          Wilson PLC|    1|\n",
      "|        Eric Lozano|38.0|      12884.75|              0| 6.67|     12.0|2016-06-29 06:20:07|1331 Keith Court ...|Miller, Johnson a...|    1|\n",
      "|      Phillip White|42.0|       8010.76|              0| 6.71|     10.0|2014-04-22 12:43:12|13120 Daniel Moun...|           Smith Inc|    1|\n",
      "|     Cynthia Norton|37.0|       9191.58|              0| 5.56|      9.0|2016-01-19 15:31:15|765 Tricia Row Ka...|          Love-Jones|    1|\n",
      "|   Jessica Williams|48.0|      10356.02|              0| 5.12|      8.0|2009-03-03 23:13:37|6187 Olson Mounta...|        Kelly-Warren|    1|\n",
      "|        Eric Butler|44.0|      11331.58|              1| 5.23|     11.0|2016-12-05 03:35:43|4846 Savannah Roa...|   Reynolds-Sheppard|    1|\n",
      "|      Zachary Walsh|32.0|       9885.12|              1| 6.92|      9.0|2006-03-09 14:50:20|25271 Roy Express...|          Singh-Cole|    1|\n",
      "|        Ashlee Carr|43.0|       14062.6|              1| 5.46|     11.0|2011-09-29 05:47:23|3725 Caroline Str...|           Lopez PLC|    1|\n",
      "|     Jennifer Lynch|40.0|       8066.94|              1| 7.11|     11.0|2006-03-28 15:42:45|363 Sandra Lodge ...|       Reed-Martinez|    1|\n",
      "|       Paula Harris|30.0|      11575.37|              1| 5.22|      8.0|2016-11-13 13:13:01|Unit 8120 Box 916...|Briggs, Lamb and ...|    1|\n",
      "|     Bruce Phillips|45.0|       8771.02|              1| 6.64|     11.0|2015-05-28 12:14:03|Unit 1895 Box 094...|    Figueroa-Maynard|    1|\n",
      "|       Craig Garner|45.0|       8988.67|              1| 4.84|     11.0|2011-02-16 08:10:47|897 Kelley Overpa...|     Abbott-Thompson|    1|\n",
      "|       Nicole Olson|40.0|       8283.32|              1|  5.1|     13.0|2012-11-22 05:35:03|11488 Weaver Cape...|Smith, Kim and Ma...|    1|\n",
      "|     Harold Griffin|41.0|       6569.87|              1|  4.3|     11.0|2015-03-28 02:13:44|1774 Peter Row Ap...|Snyder, Lee and M...|    1|\n",
      "|       James Wright|38.0|      10494.82|              1| 6.81|     12.0|2015-07-22 08:38:40|45408 David Path ...|      Sanders-Pierce|    1|\n",
      "|      Doris Wilkins|45.0|       8213.41|              1| 7.35|     11.0|2006-09-03 06:13:55|28216 Wright Moun...|Andrews, Adams an...|    1|\n",
      "|Katherine Carpenter|43.0|      11226.88|              0| 8.08|     12.0|2006-10-22 04:42:38|Unit 4948 Box 481...|Morgan, Phillips ...|    1|\n",
      "|     Lindsay Martin|53.0|       5515.09|              0| 6.85|      8.0|2015-10-07 00:27:10|69203 Crosby Divi...|      Villanueva LLC|    1|\n",
      "|        Kathy Curry|46.0|        8046.4|              1| 5.69|      8.0|2014-11-06 23:47:14|9569 Caldwell Cre...|Berry, Orr and Ca...|    1|\n",
      "+-------------------+----+--------------+---------------+-----+---------+-------------------+--------------------+--------------------+-----+\n"
     ]
    }
   ],
   "source": [
    "df.show()"
   ],
   "metadata": {
    "collapsed": false,
    "ExecuteTime": {
     "end_time": "2024-06-09T15:28:11.106906Z",
     "start_time": "2024-06-09T15:28:10.685139Z"
    }
   },
   "id": "3b1c68c4ea69f2cb"
  },
  {
   "cell_type": "code",
   "execution_count": 177,
   "outputs": [
    {
     "name": "stdout",
     "output_type": "stream",
     "text": [
      "+----+--------------+-----+---------+-----+\n",
      "| Age|Total_Purchase|Years|Num_Sites|Churn|\n",
      "+----+--------------+-----+---------+-----+\n",
      "|42.0|       11066.8| 7.22|      8.0|    1|\n",
      "|41.0|      11916.22|  6.5|     11.0|    1|\n",
      "|38.0|      12884.75| 6.67|     12.0|    1|\n",
      "|42.0|       8010.76| 6.71|     10.0|    1|\n",
      "|37.0|       9191.58| 5.56|      9.0|    1|\n",
      "|48.0|      10356.02| 5.12|      8.0|    1|\n",
      "|44.0|      11331.58| 5.23|     11.0|    1|\n",
      "|32.0|       9885.12| 6.92|      9.0|    1|\n",
      "|43.0|       14062.6| 5.46|     11.0|    1|\n",
      "|40.0|       8066.94| 7.11|     11.0|    1|\n",
      "|30.0|      11575.37| 5.22|      8.0|    1|\n",
      "|45.0|       8771.02| 6.64|     11.0|    1|\n",
      "|45.0|       8988.67| 4.84|     11.0|    1|\n",
      "|40.0|       8283.32|  5.1|     13.0|    1|\n",
      "|41.0|       6569.87|  4.3|     11.0|    1|\n",
      "|38.0|      10494.82| 6.81|     12.0|    1|\n",
      "|45.0|       8213.41| 7.35|     11.0|    1|\n",
      "|43.0|      11226.88| 8.08|     12.0|    1|\n",
      "|53.0|       5515.09| 6.85|      8.0|    1|\n",
      "|46.0|        8046.4| 5.69|      8.0|    1|\n",
      "+----+--------------+-----+---------+-----+\n"
     ]
    }
   ],
   "source": [
    "selected_df = df.select([\"Age\", \"Total_Purchase\", \"Years\", \"Num_Sites\", \"Churn\"])\n",
    "selected_df.show()"
   ],
   "metadata": {
    "collapsed": false,
    "ExecuteTime": {
     "end_time": "2024-06-09T15:28:11.270377Z",
     "start_time": "2024-06-09T15:28:11.155523Z"
    }
   },
   "id": "b14068492d1b6f89"
  },
  {
   "cell_type": "code",
   "execution_count": 178,
   "outputs": [
    {
     "name": "stdout",
     "output_type": "stream",
     "text": [
      "+----+--------------+-----+---------+-----+\n",
      "| Age|Total_Purchase|Years|Num_Sites|label|\n",
      "+----+--------------+-----+---------+-----+\n",
      "|42.0|       11066.8| 7.22|      8.0|    1|\n",
      "|41.0|      11916.22|  6.5|     11.0|    1|\n",
      "|38.0|      12884.75| 6.67|     12.0|    1|\n",
      "|42.0|       8010.76| 6.71|     10.0|    1|\n",
      "|37.0|       9191.58| 5.56|      9.0|    1|\n",
      "|48.0|      10356.02| 5.12|      8.0|    1|\n",
      "|44.0|      11331.58| 5.23|     11.0|    1|\n",
      "|32.0|       9885.12| 6.92|      9.0|    1|\n",
      "|43.0|       14062.6| 5.46|     11.0|    1|\n",
      "|40.0|       8066.94| 7.11|     11.0|    1|\n",
      "|30.0|      11575.37| 5.22|      8.0|    1|\n",
      "|45.0|       8771.02| 6.64|     11.0|    1|\n",
      "|45.0|       8988.67| 4.84|     11.0|    1|\n",
      "|40.0|       8283.32|  5.1|     13.0|    1|\n",
      "|41.0|       6569.87|  4.3|     11.0|    1|\n",
      "|38.0|      10494.82| 6.81|     12.0|    1|\n",
      "|45.0|       8213.41| 7.35|     11.0|    1|\n",
      "|43.0|      11226.88| 8.08|     12.0|    1|\n",
      "|53.0|       5515.09| 6.85|      8.0|    1|\n",
      "|46.0|        8046.4| 5.69|      8.0|    1|\n",
      "+----+--------------+-----+---------+-----+\n"
     ]
    }
   ],
   "source": [
    "selected_df = selected_df.withColumnRenamed(\"Churn\", \"label\")\n",
    "selected_df.show()"
   ],
   "metadata": {
    "collapsed": false,
    "ExecuteTime": {
     "end_time": "2024-06-09T15:28:12.372776Z",
     "start_time": "2024-06-09T15:28:12.282922Z"
    }
   },
   "id": "7731763a02e8173d"
  },
  {
   "cell_type": "code",
   "execution_count": 179,
   "outputs": [],
   "source": [
    "train_df, test_df = selected_df.randomSplit([0.7, 0.3])"
   ],
   "metadata": {
    "collapsed": false,
    "ExecuteTime": {
     "end_time": "2024-06-09T15:28:13.193644Z",
     "start_time": "2024-06-09T15:28:13.163970Z"
    }
   },
   "id": "1ee090fd5ac19770"
  },
  {
   "cell_type": "code",
   "execution_count": 180,
   "outputs": [],
   "source": [
    "assembler = VectorAssembler(inputCols=[\"Age\", \"Total_Purchase\", \"Years\", \"Num_Sites\"], outputCol=\"features\")\n",
    "train_df = assembler.transform(train_df)\n",
    "test_df = assembler.transform(test_df)"
   ],
   "metadata": {
    "collapsed": false,
    "ExecuteTime": {
     "end_time": "2024-06-09T15:28:14.054130Z",
     "start_time": "2024-06-09T15:28:13.873850Z"
    }
   },
   "id": "7898cee31db889bd"
  },
  {
   "cell_type": "code",
   "execution_count": 181,
   "outputs": [],
   "source": [
    "model = LogisticRegression()"
   ],
   "metadata": {
    "collapsed": false,
    "ExecuteTime": {
     "end_time": "2024-06-09T15:28:14.611508Z",
     "start_time": "2024-06-09T15:28:14.601093Z"
    }
   },
   "id": "df93834a04130104"
  },
  {
   "cell_type": "code",
   "execution_count": 182,
   "outputs": [],
   "source": [
    "model = model.fit(train_df)"
   ],
   "metadata": {
    "collapsed": false,
    "ExecuteTime": {
     "end_time": "2024-06-09T15:28:21.770455Z",
     "start_time": "2024-06-09T15:28:15.140554Z"
    }
   },
   "id": "41385b666571031a"
  },
  {
   "cell_type": "code",
   "execution_count": 183,
   "outputs": [],
   "source": [
    "result = model.evaluate(test_df)"
   ],
   "metadata": {
    "collapsed": false,
    "ExecuteTime": {
     "end_time": "2024-06-09T15:28:23.957924Z",
     "start_time": "2024-06-09T15:28:21.761966Z"
    }
   },
   "id": "4d621fc49c924cef"
  },
  {
   "cell_type": "code",
   "execution_count": 184,
   "outputs": [
    {
     "name": "stdout",
     "output_type": "stream",
     "text": [
      "+-----+----------+\n",
      "|label|prediction|\n",
      "+-----+----------+\n",
      "|    1|       0.0|\n",
      "|    0|       0.0|\n",
      "|    0|       0.0|\n",
      "|    0|       0.0|\n",
      "|    0|       0.0|\n",
      "|    0|       0.0|\n",
      "|    0|       0.0|\n",
      "|    0|       0.0|\n",
      "|    0|       0.0|\n",
      "|    0|       0.0|\n",
      "|    0|       0.0|\n",
      "|    1|       0.0|\n",
      "|    0|       0.0|\n",
      "|    0|       0.0|\n",
      "|    1|       0.0|\n",
      "|    0|       0.0|\n",
      "|    0|       0.0|\n",
      "|    0|       0.0|\n",
      "|    0|       0.0|\n",
      "|    0|       0.0|\n",
      "+-----+----------+\n"
     ]
    }
   ],
   "source": [
    "result.predictions.select([\"label\", \"prediction\"]).show()"
   ],
   "metadata": {
    "collapsed": false,
    "ExecuteTime": {
     "end_time": "2024-06-09T15:28:25.056600Z",
     "start_time": "2024-06-09T15:28:23.958406Z"
    }
   },
   "id": "31a0602441036870"
  },
  {
   "cell_type": "code",
   "execution_count": 186,
   "outputs": [],
   "source": [
    "auc = BinaryClassificationEvaluator(rawPredictionCol=\"prediction\", labelCol=\"label\").evaluate(result.predictions)"
   ],
   "metadata": {
    "collapsed": false,
    "ExecuteTime": {
     "end_time": "2024-06-09T15:29:18.421622Z",
     "start_time": "2024-06-09T15:29:17.936779Z"
    }
   },
   "id": "962546f8fb0c1a90"
  },
  {
   "cell_type": "code",
   "execution_count": 187,
   "outputs": [
    {
     "data": {
      "text/plain": "0.7637049584231599"
     },
     "execution_count": 187,
     "metadata": {},
     "output_type": "execute_result"
    }
   ],
   "source": [
    "auc"
   ],
   "metadata": {
    "collapsed": false,
    "ExecuteTime": {
     "end_time": "2024-06-09T15:29:19.929439Z",
     "start_time": "2024-06-09T15:29:19.901446Z"
    }
   },
   "id": "2769d5fa4ff9d24b"
  }
 ],
 "metadata": {
  "kernelspec": {
   "display_name": "Python 3",
   "language": "python",
   "name": "python3"
  },
  "language_info": {
   "codemirror_mode": {
    "name": "ipython",
    "version": 2
   },
   "file_extension": ".py",
   "mimetype": "text/x-python",
   "name": "python",
   "nbconvert_exporter": "python",
   "pygments_lexer": "ipython2",
   "version": "2.7.6"
  }
 },
 "nbformat": 4,
 "nbformat_minor": 5
}
