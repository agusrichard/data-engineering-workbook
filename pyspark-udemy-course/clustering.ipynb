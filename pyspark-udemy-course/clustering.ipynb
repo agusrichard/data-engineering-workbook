{
 "cells": [
  {
   "cell_type": "markdown",
   "source": [
    "# Clustering"
   ],
   "metadata": {
    "collapsed": false
   },
   "id": "647face80f93770"
  },
  {
   "cell_type": "markdown",
   "source": [
    "# Basic"
   ],
   "metadata": {
    "collapsed": false
   },
   "id": "2c8a112d1dc066fa"
  },
  {
   "cell_type": "code",
   "execution_count": 1,
   "outputs": [],
   "source": [
    "from pyspark.sql import SparkSession"
   ],
   "metadata": {
    "collapsed": false,
    "ExecuteTime": {
     "end_time": "2024-06-11T11:14:18.664228Z",
     "start_time": "2024-06-11T11:14:18.519950Z"
    }
   },
   "id": "198446b2d89d23c0"
  },
  {
   "cell_type": "code",
   "execution_count": 2,
   "outputs": [
    {
     "name": "stderr",
     "output_type": "stream",
     "text": [
      "24/06/11 18:14:37 WARN Utils: Your hostname, agusrichard.local resolves to a loopback address: 127.0.0.1; using 192.168.0.104 instead (on interface en0)\n",
      "24/06/11 18:14:37 WARN Utils: Set SPARK_LOCAL_IP if you need to bind to another address\n",
      "Setting default log level to \"WARN\".\n",
      "To adjust logging level use sc.setLogLevel(newLevel). For SparkR, use setLogLevel(newLevel).\n",
      "24/06/11 18:14:38 WARN NativeCodeLoader: Unable to load native-hadoop library for your platform... using builtin-java classes where applicable\n",
      "24/06/11 18:14:40 WARN Utils: Service 'SparkUI' could not bind on port 4040. Attempting port 4041.\n"
     ]
    }
   ],
   "source": [
    "spark = SparkSession.builder.appName(\"clustering_basic\").getOrCreate()"
   ],
   "metadata": {
    "collapsed": false,
    "ExecuteTime": {
     "end_time": "2024-06-11T11:14:41.140681Z",
     "start_time": "2024-06-11T11:14:34.049001Z"
    }
   },
   "id": "566073a90906d27b"
  },
  {
   "cell_type": "code",
   "execution_count": 3,
   "outputs": [
    {
     "name": "stderr",
     "output_type": "stream",
     "text": [
      "24/06/11 18:16:38 WARN LibSVMFileFormat: 'numFeatures' option not specified, determining the number of features by going though the input. If you know the number in advance, please specify it via 'numFeatures' option to avoid the extra scan.\n",
      "                                                                                \r"
     ]
    },
    {
     "name": "stdout",
     "output_type": "stream",
     "text": [
      "+-----+--------------------+\n",
      "|label|            features|\n",
      "+-----+--------------------+\n",
      "|  0.0|           (3,[],[])|\n",
      "|  1.0|(3,[0,1,2],[0.1,0...|\n",
      "|  2.0|(3,[0,1,2],[0.2,0...|\n",
      "|  3.0|(3,[0,1,2],[9.0,9...|\n",
      "|  4.0|(3,[0,1,2],[9.1,9...|\n",
      "|  5.0|(3,[0,1,2],[9.2,9...|\n",
      "+-----+--------------------+\n"
     ]
    }
   ],
   "source": [
    "df = spark.read.format(\"libsvm\").load(\"./files/sample_kmeans_data.txt\")\n",
    "df.show()"
   ],
   "metadata": {
    "collapsed": false,
    "ExecuteTime": {
     "end_time": "2024-06-11T11:16:45.558328Z",
     "start_time": "2024-06-11T11:16:36.267186Z"
    }
   },
   "id": "241e5b6e8bbed46b"
  },
  {
   "cell_type": "code",
   "execution_count": 4,
   "outputs": [],
   "source": [
    "from pyspark.ml.clustering import KMeans"
   ],
   "metadata": {
    "collapsed": false,
    "ExecuteTime": {
     "end_time": "2024-06-11T11:17:14.381074Z",
     "start_time": "2024-06-11T11:17:14.378664Z"
    }
   },
   "id": "17f8e9cdacdd81d"
  },
  {
   "cell_type": "code",
   "execution_count": 5,
   "outputs": [
    {
     "name": "stderr",
     "output_type": "stream",
     "text": [
      "24/06/11 18:17:47 WARN InstanceBuilder: Failed to load implementation from:dev.ludovic.netlib.blas.JNIBLAS\n"
     ]
    }
   ],
   "source": [
    "model = KMeans(k=2, seed=21).fit(df)"
   ],
   "metadata": {
    "collapsed": false,
    "ExecuteTime": {
     "end_time": "2024-06-11T11:17:49.063938Z",
     "start_time": "2024-06-11T11:17:43.271710Z"
    }
   },
   "id": "261571d6e886c908"
  },
  {
   "cell_type": "code",
   "execution_count": 10,
   "outputs": [
    {
     "data": {
      "text/plain": "0.11999999999994547"
     },
     "execution_count": 10,
     "metadata": {},
     "output_type": "execute_result"
    }
   ],
   "source": [
    "model.summary.trainingCost"
   ],
   "metadata": {
    "collapsed": false,
    "ExecuteTime": {
     "end_time": "2024-06-11T11:20:05.916890Z",
     "start_time": "2024-06-11T11:20:05.888398Z"
    }
   },
   "id": "570ffb8886882f24"
  },
  {
   "cell_type": "markdown",
   "source": [
    "## Real"
   ],
   "metadata": {
    "collapsed": false
   },
   "id": "954847b18652e6b6"
  },
  {
   "cell_type": "code",
   "execution_count": 11,
   "outputs": [
    {
     "name": "stderr",
     "output_type": "stream",
     "text": [
      "24/06/11 18:26:37 WARN SparkSession: Using an existing Spark session; only runtime SQL configurations will take effect.\n"
     ]
    }
   ],
   "source": [
    "spark = SparkSession.builder.appName('clustering_real').getOrCreate()"
   ],
   "metadata": {
    "collapsed": false,
    "ExecuteTime": {
     "end_time": "2024-06-11T11:26:37.410353Z",
     "start_time": "2024-06-11T11:26:37.387204Z"
    }
   },
   "id": "4d61bd163e73c64c"
  },
  {
   "cell_type": "code",
   "execution_count": 12,
   "outputs": [
    {
     "name": "stdout",
     "output_type": "stream",
     "text": [
      "+-----+---------+-----------+------------------+------------------+---------------------+------------------+\n",
      "| area|perimeter|compactness|  length_of_kernel|   width_of_kernel|asymmetry_coefficient|  length_of_groove|\n",
      "+-----+---------+-----------+------------------+------------------+---------------------+------------------+\n",
      "|15.26|    14.84|      0.871|             5.763|             3.312|                2.221|              5.22|\n",
      "|14.88|    14.57|     0.8811| 5.553999999999999|             3.333|                1.018|             4.956|\n",
      "|14.29|    14.09|      0.905|             5.291|3.3369999999999997|                2.699|             4.825|\n",
      "|13.84|    13.94|     0.8955|             5.324|3.3789999999999996|                2.259|             4.805|\n",
      "|16.14|    14.99|     0.9034|5.6579999999999995|             3.562|                1.355|             5.175|\n",
      "|14.38|    14.21|     0.8951|             5.386|             3.312|   2.4619999999999997|             4.956|\n",
      "|14.69|    14.49|     0.8799|             5.563|             3.259|   3.5860000000000003| 5.218999999999999|\n",
      "|14.11|     14.1|     0.8911|              5.42|             3.302|                  2.7|               5.0|\n",
      "|16.63|    15.46|     0.8747|             6.053|             3.465|                 2.04| 5.877000000000001|\n",
      "|16.44|    15.25|      0.888|5.8839999999999995|             3.505|                1.969|5.5329999999999995|\n",
      "|15.26|    14.85|     0.8696|5.7139999999999995|             3.242|                4.543|             5.314|\n",
      "|14.03|    14.16|     0.8796|             5.438|             3.201|   1.7169999999999999|             5.001|\n",
      "|13.89|    14.02|      0.888|             5.439|             3.199|                3.986|             4.738|\n",
      "|13.78|    14.06|     0.8759|             5.479|             3.156|                3.136|             4.872|\n",
      "|13.74|    14.05|     0.8744|             5.482|             3.114|                2.932|             4.825|\n",
      "|14.59|    14.28|     0.8993|             5.351|             3.333|                4.185| 4.781000000000001|\n",
      "|13.99|    13.83|     0.9183|             5.119|             3.383|                5.234| 4.781000000000001|\n",
      "|15.69|    14.75|     0.9058|             5.527|             3.514|                1.599|             5.046|\n",
      "| 14.7|    14.21|     0.9153|             5.205|             3.466|                1.767|             4.649|\n",
      "|12.72|    13.57|     0.8686|             5.226|             3.049|                4.102|             4.914|\n",
      "+-----+---------+-----------+------------------+------------------+---------------------+------------------+\n"
     ]
    }
   ],
   "source": [
    "df = spark.read.csv('./files/seeds_dataset.csv', header=True, inferSchema=True)\n",
    "df.show()"
   ],
   "metadata": {
    "collapsed": false,
    "ExecuteTime": {
     "end_time": "2024-06-11T11:27:22.608459Z",
     "start_time": "2024-06-11T11:27:20.842759Z"
    }
   },
   "id": "a7992a53f9ba65f3"
  },
  {
   "cell_type": "code",
   "execution_count": 13,
   "outputs": [],
   "source": [
    "from pyspark.ml.feature import VectorAssembler"
   ],
   "metadata": {
    "collapsed": false,
    "ExecuteTime": {
     "end_time": "2024-06-11T11:29:20.623721Z",
     "start_time": "2024-06-11T11:29:20.606689Z"
    }
   },
   "id": "7937999bb3d70364"
  },
  {
   "cell_type": "code",
   "execution_count": 14,
   "outputs": [
    {
     "data": {
      "text/plain": "['area',\n 'perimeter',\n 'compactness',\n 'length_of_kernel',\n 'width_of_kernel',\n 'asymmetry_coefficient',\n 'length_of_groove']"
     },
     "execution_count": 14,
     "metadata": {},
     "output_type": "execute_result"
    }
   ],
   "source": [
    "df.columns"
   ],
   "metadata": {
    "collapsed": false,
    "ExecuteTime": {
     "end_time": "2024-06-11T11:29:40.679737Z",
     "start_time": "2024-06-11T11:29:40.677067Z"
    }
   },
   "id": "ed9263d72416fb84"
  },
  {
   "cell_type": "code",
   "execution_count": 15,
   "outputs": [],
   "source": [
    "assembler = VectorAssembler(inputCols=df.columns, outputCol='features')\n",
    "df = assembler.transform(df)"
   ],
   "metadata": {
    "collapsed": false,
    "ExecuteTime": {
     "end_time": "2024-06-11T11:30:07.779753Z",
     "start_time": "2024-06-11T11:30:07.473861Z"
    }
   },
   "id": "33d76729b35f3c81"
  },
  {
   "cell_type": "code",
   "execution_count": 16,
   "outputs": [
    {
     "name": "stdout",
     "output_type": "stream",
     "text": [
      "+-----+---------+-----------+------------------+------------------+---------------------+------------------+--------------------+\n",
      "| area|perimeter|compactness|  length_of_kernel|   width_of_kernel|asymmetry_coefficient|  length_of_groove|            features|\n",
      "+-----+---------+-----------+------------------+------------------+---------------------+------------------+--------------------+\n",
      "|15.26|    14.84|      0.871|             5.763|             3.312|                2.221|              5.22|[15.26,14.84,0.87...|\n",
      "|14.88|    14.57|     0.8811| 5.553999999999999|             3.333|                1.018|             4.956|[14.88,14.57,0.88...|\n",
      "|14.29|    14.09|      0.905|             5.291|3.3369999999999997|                2.699|             4.825|[14.29,14.09,0.90...|\n",
      "|13.84|    13.94|     0.8955|             5.324|3.3789999999999996|                2.259|             4.805|[13.84,13.94,0.89...|\n",
      "|16.14|    14.99|     0.9034|5.6579999999999995|             3.562|                1.355|             5.175|[16.14,14.99,0.90...|\n",
      "|14.38|    14.21|     0.8951|             5.386|             3.312|   2.4619999999999997|             4.956|[14.38,14.21,0.89...|\n",
      "|14.69|    14.49|     0.8799|             5.563|             3.259|   3.5860000000000003| 5.218999999999999|[14.69,14.49,0.87...|\n",
      "|14.11|     14.1|     0.8911|              5.42|             3.302|                  2.7|               5.0|[14.11,14.1,0.891...|\n",
      "|16.63|    15.46|     0.8747|             6.053|             3.465|                 2.04| 5.877000000000001|[16.63,15.46,0.87...|\n",
      "|16.44|    15.25|      0.888|5.8839999999999995|             3.505|                1.969|5.5329999999999995|[16.44,15.25,0.88...|\n",
      "|15.26|    14.85|     0.8696|5.7139999999999995|             3.242|                4.543|             5.314|[15.26,14.85,0.86...|\n",
      "|14.03|    14.16|     0.8796|             5.438|             3.201|   1.7169999999999999|             5.001|[14.03,14.16,0.87...|\n",
      "|13.89|    14.02|      0.888|             5.439|             3.199|                3.986|             4.738|[13.89,14.02,0.88...|\n",
      "|13.78|    14.06|     0.8759|             5.479|             3.156|                3.136|             4.872|[13.78,14.06,0.87...|\n",
      "|13.74|    14.05|     0.8744|             5.482|             3.114|                2.932|             4.825|[13.74,14.05,0.87...|\n",
      "|14.59|    14.28|     0.8993|             5.351|             3.333|                4.185| 4.781000000000001|[14.59,14.28,0.89...|\n",
      "|13.99|    13.83|     0.9183|             5.119|             3.383|                5.234| 4.781000000000001|[13.99,13.83,0.91...|\n",
      "|15.69|    14.75|     0.9058|             5.527|             3.514|                1.599|             5.046|[15.69,14.75,0.90...|\n",
      "| 14.7|    14.21|     0.9153|             5.205|             3.466|                1.767|             4.649|[14.7,14.21,0.915...|\n",
      "|12.72|    13.57|     0.8686|             5.226|             3.049|                4.102|             4.914|[12.72,13.57,0.86...|\n",
      "+-----+---------+-----------+------------------+------------------+---------------------+------------------+--------------------+\n"
     ]
    }
   ],
   "source": [
    "df.show()"
   ],
   "metadata": {
    "collapsed": false,
    "ExecuteTime": {
     "end_time": "2024-06-11T11:30:10.554765Z",
     "start_time": "2024-06-11T11:30:09.861553Z"
    }
   },
   "id": "c42309084b6ba9d8"
  },
  {
   "cell_type": "code",
   "execution_count": 17,
   "outputs": [],
   "source": [
    "from pyspark.ml.feature import StandardScaler"
   ],
   "metadata": {
    "collapsed": false,
    "ExecuteTime": {
     "end_time": "2024-06-11T11:30:26.400221Z",
     "start_time": "2024-06-11T11:30:26.389420Z"
    }
   },
   "id": "dfae9712737c50c1"
  },
  {
   "cell_type": "code",
   "execution_count": 18,
   "outputs": [],
   "source": [
    "scaler = StandardScaler(withMean=True, inputCol='features', outputCol='features_scaled').fit(df)"
   ],
   "metadata": {
    "collapsed": false,
    "ExecuteTime": {
     "end_time": "2024-06-11T11:31:17.759428Z",
     "start_time": "2024-06-11T11:31:16.159221Z"
    }
   },
   "id": "49e31048f6b7cb79"
  },
  {
   "cell_type": "code",
   "execution_count": 19,
   "outputs": [],
   "source": [
    "df = scaler.transform(df)"
   ],
   "metadata": {
    "collapsed": false,
    "ExecuteTime": {
     "end_time": "2024-06-11T11:31:29.871512Z",
     "start_time": "2024-06-11T11:31:29.589817Z"
    }
   },
   "id": "db830795735d0eb4"
  },
  {
   "cell_type": "code",
   "execution_count": 20,
   "outputs": [
    {
     "name": "stdout",
     "output_type": "stream",
     "text": [
      "+-----+---------+-----------+------------------+------------------+---------------------+------------------+--------------------+--------------------+\n",
      "| area|perimeter|compactness|  length_of_kernel|   width_of_kernel|asymmetry_coefficient|  length_of_groove|            features|     features_scaled|\n",
      "+-----+---------+-----------+------------------+------------------+---------------------+------------------+--------------------+--------------------+\n",
      "|15.26|    14.84|      0.871|             5.763|             3.312|                2.221|              5.22|[15.26,14.84,0.87...|[0.14175903742014...|\n",
      "|14.88|    14.57|     0.8811| 5.553999999999999|             3.333|                1.018|             4.956|[14.88,14.57,0.88...|[0.01116135575161...|\n",
      "|14.29|    14.09|      0.905|             5.291|3.3369999999999997|                2.699|             4.825|[14.29,14.09,0.90...|[-0.1916087289442...|\n",
      "|13.84|    13.94|     0.8955|             5.324|3.3789999999999996|                2.259|             4.805|[13.84,13.94,0.89...|[-0.3462638782885...|\n",
      "|16.14|    14.99|     0.9034|5.6579999999999995|             3.562|                1.355|             5.175|[16.14,14.99,0.90...|[0.44419577391567...|\n",
      "|14.38|    14.21|     0.8951|             5.386|             3.312|   2.4619999999999997|             4.956|[14.38,14.21,0.89...|[-0.1606776990753...|\n",
      "|14.69|    14.49|     0.8799|             5.563|             3.259|   3.5860000000000003| 5.218999999999999|[14.69,14.49,0.87...|[-0.0541374850826...|\n",
      "|14.11|     14.1|     0.8911|              5.42|             3.302|                  2.7|               5.0|[14.11,14.1,0.891...|[-0.2534707886819...|\n",
      "|16.63|    15.46|     0.8747|             6.053|             3.465|                 2.04| 5.877000000000001|[16.63,15.46,0.87...|[0.61259804764614...|\n",
      "|16.44|    15.25|      0.888|5.8839999999999995|             3.505|                1.969|5.5329999999999995|[16.44,15.25,0.88...|[0.54729920681188...|\n",
      "|15.26|    14.85|     0.8696|5.7139999999999995|             3.242|                4.543|             5.314|[15.26,14.85,0.86...|[0.14175903742014...|\n",
      "|14.03|    14.16|     0.8796|             5.438|             3.201|   1.7169999999999999|             5.001|[14.03,14.16,0.87...|[-0.2809650374542...|\n",
      "|13.89|    14.02|      0.888|             5.439|             3.199|                3.986|             4.738|[13.89,14.02,0.88...|[-0.3290799728058...|\n",
      "|13.78|    14.06|     0.8759|             5.479|             3.156|                3.136|             4.872|[13.78,14.06,0.87...|[-0.3668845648678...|\n",
      "|13.74|    14.05|     0.8744|             5.482|             3.114|                2.932|             4.825|[13.74,14.05,0.87...|[-0.3806316892539...|\n",
      "|14.59|    14.28|     0.8993|             5.351|             3.333|                4.185| 4.781000000000001|[14.59,14.28,0.89...|[-0.0885052960480...|\n",
      "|13.99|    13.83|     0.9183|             5.119|             3.383|                5.234| 4.781000000000001|[13.99,13.83,0.91...|[-0.2947121618404...|\n",
      "|15.69|    14.75|     0.9058|             5.527|             3.514|                1.599|             5.046|[15.69,14.75,0.90...|[0.28954062457136...|\n",
      "| 14.7|    14.21|     0.9153|             5.205|             3.466|                1.767|             4.649|[14.7,14.21,0.915...|[-0.0507007039861...|\n",
      "|12.72|    13.57|     0.8686|             5.226|             3.049|                4.102|             4.914|[12.72,13.57,0.86...|[-0.7311833611010...|\n",
      "+-----+---------+-----------+------------------+------------------+---------------------+------------------+--------------------+--------------------+\n"
     ]
    }
   ],
   "source": [
    "df.show()"
   ],
   "metadata": {
    "collapsed": false,
    "ExecuteTime": {
     "end_time": "2024-06-11T11:31:32.440422Z",
     "start_time": "2024-06-11T11:31:31.780567Z"
    }
   },
   "id": "6c5fff2d3fad507b"
  },
  {
   "cell_type": "code",
   "execution_count": 21,
   "outputs": [],
   "source": [
    "model = KMeans(k=3, featuresCol='features_scaled').fit(df)"
   ],
   "metadata": {
    "collapsed": false,
    "ExecuteTime": {
     "end_time": "2024-06-11T11:32:12.174681Z",
     "start_time": "2024-06-11T11:32:06.564683Z"
    }
   },
   "id": "cdaa8da30cecc522"
  },
  {
   "cell_type": "code",
   "execution_count": 22,
   "outputs": [
    {
     "data": {
      "text/plain": "428.60820118724456"
     },
     "execution_count": 22,
     "metadata": {},
     "output_type": "execute_result"
    }
   ],
   "source": [
    "model.summary.trainingCost"
   ],
   "metadata": {
    "collapsed": false,
    "ExecuteTime": {
     "end_time": "2024-06-11T11:32:20.223224Z",
     "start_time": "2024-06-11T11:32:20.208331Z"
    }
   },
   "id": "8452fb46c6b30f5b"
  },
  {
   "cell_type": "code",
   "execution_count": 23,
   "outputs": [
    {
     "data": {
      "text/plain": "[72, 67, 71]"
     },
     "execution_count": 23,
     "metadata": {},
     "output_type": "execute_result"
    }
   ],
   "source": [
    "model.summary.clusterSizes"
   ],
   "metadata": {
    "collapsed": false,
    "ExecuteTime": {
     "end_time": "2024-06-11T11:32:28.175219Z",
     "start_time": "2024-06-11T11:32:28.125785Z"
    }
   },
   "id": "fbbc0b09ce79e11e"
  },
  {
   "cell_type": "code",
   "execution_count": 25,
   "outputs": [
    {
     "data": {
      "text/plain": "[array([-1.02779666, -1.00424915, -0.96260496, -0.89554512, -1.08299564,\n         0.693148  , -0.62331915]),\n array([ 1.25368596,  1.25895795,  0.55912833,  1.23493193,  1.1620751 ,\n        -0.04511088,  1.28922727]),\n array([-0.14078309, -0.16963724,  0.44853463, -0.25719987,  0.00164301,\n        -0.66034122, -0.58449646])]"
     },
     "execution_count": 25,
     "metadata": {},
     "output_type": "execute_result"
    }
   ],
   "source": [
    "model.clusterCenters()"
   ],
   "metadata": {
    "collapsed": false,
    "ExecuteTime": {
     "end_time": "2024-06-11T11:33:02.610527Z",
     "start_time": "2024-06-11T11:33:02.570113Z"
    }
   },
   "id": "4e37c9f5ce1a203c"
  },
  {
   "cell_type": "code",
   "execution_count": 26,
   "outputs": [
    {
     "name": "stdout",
     "output_type": "stream",
     "text": [
      "+----------+\n",
      "|prediction|\n",
      "+----------+\n",
      "|         2|\n",
      "|         2|\n",
      "|         2|\n",
      "|         2|\n",
      "|         2|\n",
      "|         2|\n",
      "|         2|\n",
      "|         2|\n",
      "|         1|\n",
      "|         2|\n",
      "|         2|\n",
      "|         2|\n",
      "|         2|\n",
      "|         2|\n",
      "|         2|\n",
      "|         2|\n",
      "|         2|\n",
      "|         2|\n",
      "|         2|\n",
      "|         0|\n",
      "+----------+\n"
     ]
    }
   ],
   "source": [
    "model.transform(df).select('prediction').show()"
   ],
   "metadata": {
    "collapsed": false,
    "ExecuteTime": {
     "end_time": "2024-06-11T11:33:53.688129Z",
     "start_time": "2024-06-11T11:33:52.628768Z"
    }
   },
   "id": "1cf8c4b8e9ada052"
  },
  {
   "cell_type": "markdown",
   "source": [
    "## Project"
   ],
   "metadata": {
    "collapsed": false
   },
   "id": "cc8a27be7934b857"
  },
  {
   "cell_type": "code",
   "execution_count": 114,
   "outputs": [],
   "source": [
    "spark = SparkSession.builder.appName('clustering_project').getOrCreate()"
   ],
   "metadata": {
    "collapsed": false,
    "ExecuteTime": {
     "end_time": "2024-06-11T11:54:52.090718Z",
     "start_time": "2024-06-11T11:54:52.046074Z"
    }
   },
   "id": "cd550099614302c0"
  },
  {
   "cell_type": "code",
   "execution_count": 115,
   "outputs": [
    {
     "name": "stdout",
     "output_type": "stream",
     "text": [
      "+-----------------------+-----------------+---------------+-----------------+---------------+--------------------+----------------+\n",
      "|Session_Connection_Time|Bytes Transferred|Kali_Trace_Used|Servers_Corrupted|Pages_Corrupted|            Location|WPM_Typing_Speed|\n",
      "+-----------------------+-----------------+---------------+-----------------+---------------+--------------------+----------------+\n",
      "|                    8.0|           391.09|              1|             2.96|            7.0|            Slovenia|           72.37|\n",
      "|                   20.0|           720.99|              0|             3.04|            9.0|British Virgin Is...|           69.08|\n",
      "|                   31.0|           356.32|              1|             3.71|            8.0|             Tokelau|           70.58|\n",
      "|                    2.0|           228.08|              1|             2.48|            8.0|             Bolivia|            70.8|\n",
      "|                   20.0|            408.5|              0|             3.57|            8.0|                Iraq|           71.28|\n",
      "|                    1.0|           390.69|              1|             2.79|            9.0|    Marshall Islands|           71.57|\n",
      "|                   18.0|           342.97|              1|              5.1|            7.0|             Georgia|           72.32|\n",
      "|                   22.0|           101.61|              1|             3.03|            7.0|         Timor-Leste|           72.03|\n",
      "|                   15.0|           275.53|              1|             3.53|            8.0|Palestinian Terri...|           70.17|\n",
      "|                   12.0|           424.83|              1|             2.53|            8.0|          Bangladesh|           69.99|\n",
      "|                   15.0|           249.09|              1|             3.39|            9.0|Northern Mariana ...|           70.77|\n",
      "|                   32.0|           242.48|              0|             4.24|            8.0|            Zimbabwe|           67.93|\n",
      "|                   23.0|           514.54|              0|             3.18|            8.0|         Isle of Man|           68.56|\n",
      "|                    9.0|           284.77|              0|             3.12|            9.0|Sao Tome and Prin...|           70.82|\n",
      "|                   27.0|           779.25|              1|             2.37|            8.0|              Greece|           72.73|\n",
      "|                   12.0|           307.31|              1|             3.22|            7.0|     Solomon Islands|           67.95|\n",
      "|                   21.0|           355.94|              1|              2.0|            7.0|       Guinea-Bissau|            72.0|\n",
      "|                   10.0|           372.65|              0|             3.33|            7.0|        Burkina Faso|           69.19|\n",
      "|                   20.0|           347.23|              1|             2.33|            7.0|            Mongolia|           70.41|\n",
      "|                   22.0|           456.57|              0|             1.52|            8.0|             Nigeria|           69.35|\n",
      "+-----------------------+-----------------+---------------+-----------------+---------------+--------------------+----------------+\n"
     ]
    }
   ],
   "source": [
    "df = spark.read.csv('./files/hack_data.csv', header=True, inferSchema=True)\n",
    "df.show()"
   ],
   "metadata": {
    "collapsed": false,
    "ExecuteTime": {
     "end_time": "2024-06-11T11:54:54.864003Z",
     "start_time": "2024-06-11T11:54:52.350414Z"
    }
   },
   "id": "bcdcd37a9da4f783"
  },
  {
   "cell_type": "code",
   "execution_count": 116,
   "outputs": [
    {
     "name": "stderr",
     "output_type": "stream",
     "text": [
      "[Stage 309:>                                                        (0 + 1) / 1]\r"
     ]
    },
    {
     "name": "stdout",
     "output_type": "stream",
     "text": [
      "+-------+-----------------------+------------------+------------------+-----------------+------------------+-----------+------------------+\n",
      "|summary|Session_Connection_Time| Bytes Transferred|   Kali_Trace_Used|Servers_Corrupted|   Pages_Corrupted|   Location|  WPM_Typing_Speed|\n",
      "+-------+-----------------------+------------------+------------------+-----------------+------------------+-----------+------------------+\n",
      "|  count|                    334|               334|               334|              334|               334|        334|               334|\n",
      "|   mean|     30.008982035928145| 607.2452694610777|0.5119760479041916|5.258502994011977|10.838323353293413|       NULL|57.342395209580864|\n",
      "| stddev|     14.088200614636158|286.33593163576757|0.5006065264451406| 2.30190693339697|  3.06352633036022|       NULL| 13.41106336843464|\n",
      "|    min|                    1.0|              10.0|                 0|              1.0|               6.0|Afghanistan|              40.0|\n",
      "|    max|                   60.0|            1330.5|                 1|             10.0|              15.0|   Zimbabwe|              75.0|\n",
      "+-------+-----------------------+------------------+------------------+-----------------+------------------+-----------+------------------+\n"
     ]
    },
    {
     "name": "stderr",
     "output_type": "stream",
     "text": [
      "                                                                                \r"
     ]
    }
   ],
   "source": [
    "df.describe().show()"
   ],
   "metadata": {
    "collapsed": false,
    "ExecuteTime": {
     "end_time": "2024-06-11T11:54:56.315656Z",
     "start_time": "2024-06-11T11:54:54.865538Z"
    }
   },
   "id": "efb09197672a0828"
  },
  {
   "cell_type": "code",
   "execution_count": 117,
   "outputs": [
    {
     "name": "stdout",
     "output_type": "stream",
     "text": [
      "+--------------------+-----+\n",
      "|            Location|count|\n",
      "+--------------------+-----+\n",
      "|            Anguilla|    1|\n",
      "|            Paraguay|    2|\n",
      "|               Macao|    2|\n",
      "|Heard Island and ...|    2|\n",
      "|               Yemen|    1|\n",
      "|             Tokelau|    2|\n",
      "|              Sweden|    3|\n",
      "|French Southern T...|    3|\n",
      "|            Kiribati|    1|\n",
      "|              Guyana|    2|\n",
      "|         Philippines|    3|\n",
      "|            Malaysia|    2|\n",
      "|           Singapore|    1|\n",
      "|United States Vir...|    6|\n",
      "|              Turkey|    1|\n",
      "|      Western Sahara|    2|\n",
      "|              Malawi|    2|\n",
      "|                Iraq|    3|\n",
      "|Northern Mariana ...|    3|\n",
      "|             Germany|    1|\n",
      "+--------------------+-----+\n"
     ]
    }
   ],
   "source": [
    "df.groupBy('Location').count().show()"
   ],
   "metadata": {
    "collapsed": false,
    "ExecuteTime": {
     "end_time": "2024-06-11T11:54:57.141379Z",
     "start_time": "2024-06-11T11:54:56.314725Z"
    }
   },
   "id": "cdbc3a2dfea9d0e3"
  },
  {
   "cell_type": "code",
   "execution_count": 118,
   "outputs": [],
   "source": [
    "from pyspark.ml.feature import StringIndexer, OneHotEncoder, VectorAssembler"
   ],
   "metadata": {
    "collapsed": false,
    "ExecuteTime": {
     "end_time": "2024-06-11T11:54:57.148651Z",
     "start_time": "2024-06-11T11:54:57.143024Z"
    }
   },
   "id": "d2578f3db3d9ab67"
  },
  {
   "cell_type": "code",
   "execution_count": 119,
   "outputs": [],
   "source": [
    "# indexer = StringIndexer(inputCol='Location', outputCol='location_index').fit(df)\n",
    "# df = indexer.transform(df)\n",
    "# df.show()"
   ],
   "metadata": {
    "collapsed": false,
    "ExecuteTime": {
     "end_time": "2024-06-11T11:54:57.148940Z",
     "start_time": "2024-06-11T11:54:57.144713Z"
    }
   },
   "id": "50dedf75c3f5d4d7"
  },
  {
   "cell_type": "code",
   "execution_count": 120,
   "outputs": [],
   "source": [
    "# encoder = OneHotEncoder(inputCol='location_index', outputCol='location_encoded').fit(df)\n",
    "# df = encoder.transform(df)\n",
    "# df.show()"
   ],
   "metadata": {
    "collapsed": false,
    "ExecuteTime": {
     "end_time": "2024-06-11T11:54:57.151047Z",
     "start_time": "2024-06-11T11:54:57.148506Z"
    }
   },
   "id": "c040f9165d3fe0d4"
  },
  {
   "cell_type": "code",
   "execution_count": 122,
   "outputs": [
    {
     "name": "stdout",
     "output_type": "stream",
     "text": [
      "+-----------------------+-----------------+---------------+-----------------+---------------+----------------+\n",
      "|Session_Connection_Time|Bytes Transferred|Kali_Trace_Used|Servers_Corrupted|Pages_Corrupted|WPM_Typing_Speed|\n",
      "+-----------------------+-----------------+---------------+-----------------+---------------+----------------+\n",
      "|                    8.0|           391.09|              1|             2.96|            7.0|           72.37|\n",
      "|                   20.0|           720.99|              0|             3.04|            9.0|           69.08|\n",
      "|                   31.0|           356.32|              1|             3.71|            8.0|           70.58|\n",
      "|                    2.0|           228.08|              1|             2.48|            8.0|            70.8|\n",
      "|                   20.0|            408.5|              0|             3.57|            8.0|           71.28|\n",
      "|                    1.0|           390.69|              1|             2.79|            9.0|           71.57|\n",
      "|                   18.0|           342.97|              1|              5.1|            7.0|           72.32|\n",
      "|                   22.0|           101.61|              1|             3.03|            7.0|           72.03|\n",
      "|                   15.0|           275.53|              1|             3.53|            8.0|           70.17|\n",
      "|                   12.0|           424.83|              1|             2.53|            8.0|           69.99|\n",
      "|                   15.0|           249.09|              1|             3.39|            9.0|           70.77|\n",
      "|                   32.0|           242.48|              0|             4.24|            8.0|           67.93|\n",
      "|                   23.0|           514.54|              0|             3.18|            8.0|           68.56|\n",
      "|                    9.0|           284.77|              0|             3.12|            9.0|           70.82|\n",
      "|                   27.0|           779.25|              1|             2.37|            8.0|           72.73|\n",
      "|                   12.0|           307.31|              1|             3.22|            7.0|           67.95|\n",
      "|                   21.0|           355.94|              1|              2.0|            7.0|            72.0|\n",
      "|                   10.0|           372.65|              0|             3.33|            7.0|           69.19|\n",
      "|                   20.0|           347.23|              1|             2.33|            7.0|           70.41|\n",
      "|                   22.0|           456.57|              0|             1.52|            8.0|           69.35|\n",
      "+-----------------------+-----------------+---------------+-----------------+---------------+----------------+\n"
     ]
    }
   ],
   "source": [
    "df = df.drop('Location')\n",
    "df.show()"
   ],
   "metadata": {
    "collapsed": false,
    "ExecuteTime": {
     "end_time": "2024-06-11T11:55:04.452797Z",
     "start_time": "2024-06-11T11:55:03.635868Z"
    }
   },
   "id": "cb531bbf85963a75"
  },
  {
   "cell_type": "code",
   "execution_count": 123,
   "outputs": [
    {
     "name": "stdout",
     "output_type": "stream",
     "text": [
      "+-----------------------+-----------------+---------------+-----------------+---------------+----------------+--------------------+\n",
      "|Session_Connection_Time|Bytes Transferred|Kali_Trace_Used|Servers_Corrupted|Pages_Corrupted|WPM_Typing_Speed|            features|\n",
      "+-----------------------+-----------------+---------------+-----------------+---------------+----------------+--------------------+\n",
      "|                    8.0|           391.09|              1|             2.96|            7.0|           72.37|[8.0,391.09,1.0,2...|\n",
      "|                   20.0|           720.99|              0|             3.04|            9.0|           69.08|[20.0,720.99,0.0,...|\n",
      "|                   31.0|           356.32|              1|             3.71|            8.0|           70.58|[31.0,356.32,1.0,...|\n",
      "|                    2.0|           228.08|              1|             2.48|            8.0|            70.8|[2.0,228.08,1.0,2...|\n",
      "|                   20.0|            408.5|              0|             3.57|            8.0|           71.28|[20.0,408.5,0.0,3...|\n",
      "|                    1.0|           390.69|              1|             2.79|            9.0|           71.57|[1.0,390.69,1.0,2...|\n",
      "|                   18.0|           342.97|              1|              5.1|            7.0|           72.32|[18.0,342.97,1.0,...|\n",
      "|                   22.0|           101.61|              1|             3.03|            7.0|           72.03|[22.0,101.61,1.0,...|\n",
      "|                   15.0|           275.53|              1|             3.53|            8.0|           70.17|[15.0,275.53,1.0,...|\n",
      "|                   12.0|           424.83|              1|             2.53|            8.0|           69.99|[12.0,424.83,1.0,...|\n",
      "|                   15.0|           249.09|              1|             3.39|            9.0|           70.77|[15.0,249.09,1.0,...|\n",
      "|                   32.0|           242.48|              0|             4.24|            8.0|           67.93|[32.0,242.48,0.0,...|\n",
      "|                   23.0|           514.54|              0|             3.18|            8.0|           68.56|[23.0,514.54,0.0,...|\n",
      "|                    9.0|           284.77|              0|             3.12|            9.0|           70.82|[9.0,284.77,0.0,3...|\n",
      "|                   27.0|           779.25|              1|             2.37|            8.0|           72.73|[27.0,779.25,1.0,...|\n",
      "|                   12.0|           307.31|              1|             3.22|            7.0|           67.95|[12.0,307.31,1.0,...|\n",
      "|                   21.0|           355.94|              1|              2.0|            7.0|            72.0|[21.0,355.94,1.0,...|\n",
      "|                   10.0|           372.65|              0|             3.33|            7.0|           69.19|[10.0,372.65,0.0,...|\n",
      "|                   20.0|           347.23|              1|             2.33|            7.0|           70.41|[20.0,347.23,1.0,...|\n",
      "|                   22.0|           456.57|              0|             1.52|            8.0|           69.35|[22.0,456.57,0.0,...|\n",
      "+-----------------------+-----------------+---------------+-----------------+---------------+----------------+--------------------+\n"
     ]
    }
   ],
   "source": [
    "assembler = VectorAssembler(inputCols=df.columns, outputCol='features')\n",
    "df = assembler.transform(df)\n",
    "df.show()"
   ],
   "metadata": {
    "collapsed": false,
    "ExecuteTime": {
     "end_time": "2024-06-11T11:55:34.376528Z",
     "start_time": "2024-06-11T11:55:32.492631Z"
    }
   },
   "id": "9d71516ede4c88ad"
  },
  {
   "cell_type": "code",
   "execution_count": 124,
   "outputs": [],
   "source": [
    "scaler = StandardScaler(withMean=True, inputCol='features', outputCol='features_scaled')\n",
    "df = scaler.fit(df).transform(df)"
   ],
   "metadata": {
    "collapsed": false,
    "ExecuteTime": {
     "end_time": "2024-06-11T11:55:39.189950Z",
     "start_time": "2024-06-11T11:55:36.956342Z"
    }
   },
   "id": "ceba1557bc5a5777"
  },
  {
   "cell_type": "code",
   "execution_count": 125,
   "outputs": [
    {
     "name": "stdout",
     "output_type": "stream",
     "text": [
      "+-----------------------+-----------------+---------------+-----------------+---------------+----------------+--------------------+--------------------+\n",
      "|Session_Connection_Time|Bytes Transferred|Kali_Trace_Used|Servers_Corrupted|Pages_Corrupted|WPM_Typing_Speed|            features|     features_scaled|\n",
      "+-----------------------+-----------------+---------------+-----------------+---------------+----------------+--------------------+--------------------+\n",
      "|                    8.0|           391.09|              1|             2.96|            7.0|           72.37|[8.0,391.09,1.0,2...|[-1.5622280401844...|\n",
      "|                   20.0|           720.99|              0|             3.04|            9.0|           69.08|[20.0,720.99,0.0,...|[-0.7104514131868...|\n",
      "|                   31.0|           356.32|              1|             3.71|            8.0|           70.58|[31.0,356.32,1.0,...|[0.07034382822759...|\n",
      "|                    2.0|           228.08|              1|             2.48|            8.0|            70.8|[2.0,228.08,1.0,2...|[-1.9881163536832...|\n",
      "|                   20.0|            408.5|              0|             3.57|            8.0|           71.28|[20.0,408.5,0.0,3...|[-0.7104514131868...|\n",
      "|                    1.0|           390.69|              1|             2.79|            9.0|           71.57|[1.0,390.69,1.0,2...|[-2.0590977392663...|\n",
      "|                   18.0|           342.97|              1|              5.1|            7.0|           72.32|[18.0,342.97,1.0,...|[-0.8524141843531...|\n",
      "|                   22.0|           101.61|              1|             3.03|            7.0|           72.03|[22.0,101.61,1.0,...|[-0.5684886420205...|\n",
      "|                   15.0|           275.53|              1|             3.53|            8.0|           70.17|[15.0,275.53,1.0,...|[-1.0653583411025...|\n",
      "|                   12.0|           424.83|              1|             2.53|            8.0|           69.99|[12.0,424.83,1.0,...|[-1.2783024978519...|\n",
      "|                   15.0|           249.09|              1|             3.39|            9.0|           70.77|[15.0,249.09,1.0,...|[-1.0653583411025...|\n",
      "|                   32.0|           242.48|              0|             4.24|            8.0|           67.93|[32.0,242.48,0.0,...|[0.14132521381072...|\n",
      "|                   23.0|           514.54|              0|             3.18|            8.0|           68.56|[23.0,514.54,0.0,...|[-0.4975072564374...|\n",
      "|                    9.0|           284.77|              0|             3.12|            9.0|           70.82|[9.0,284.77,0.0,3...|[-1.4912466546013...|\n",
      "|                   27.0|           779.25|              1|             2.37|            8.0|           72.73|[27.0,779.25,1.0,...|[-0.2135817141049...|\n",
      "|                   12.0|           307.31|              1|             3.22|            7.0|           67.95|[12.0,307.31,1.0,...|[-1.2783024978519...|\n",
      "|                   21.0|           355.94|              1|              2.0|            7.0|            72.0|[21.0,355.94,1.0,...|[-0.6394700276037...|\n",
      "|                   10.0|           372.65|              0|             3.33|            7.0|           69.19|[10.0,372.65,0.0,...|[-1.4202652690181...|\n",
      "|                   20.0|           347.23|              1|             2.33|            7.0|           70.41|[20.0,347.23,1.0,...|[-0.7104514131868...|\n",
      "|                   22.0|           456.57|              0|             1.52|            8.0|           69.35|[22.0,456.57,0.0,...|[-0.5684886420205...|\n",
      "+-----------------------+-----------------+---------------+-----------------+---------------+----------------+--------------------+--------------------+\n"
     ]
    }
   ],
   "source": [
    "df.show()"
   ],
   "metadata": {
    "collapsed": false,
    "ExecuteTime": {
     "end_time": "2024-06-11T11:55:41.171745Z",
     "start_time": "2024-06-11T11:55:40.054885Z"
    }
   },
   "id": "2fd07526e6704f05"
  },
  {
   "cell_type": "code",
   "execution_count": 126,
   "outputs": [
    {
     "name": "stderr",
     "output_type": "stream",
     "text": [
      "                                                                                \r"
     ]
    }
   ],
   "source": [
    "model_3 = KMeans(k=3, featuresCol='features_scaled', seed=21).fit(df)"
   ],
   "metadata": {
    "collapsed": false,
    "ExecuteTime": {
     "end_time": "2024-06-11T11:55:53.565321Z",
     "start_time": "2024-06-11T11:55:45.365355Z"
    }
   },
   "id": "890aa0dac3023040"
  },
  {
   "cell_type": "code",
   "execution_count": 127,
   "outputs": [
    {
     "data": {
      "text/plain": "434.1492898715821"
     },
     "execution_count": 127,
     "metadata": {},
     "output_type": "execute_result"
    }
   ],
   "source": [
    "model_3.summary.trainingCost"
   ],
   "metadata": {
    "collapsed": false,
    "ExecuteTime": {
     "end_time": "2024-06-11T11:55:53.592749Z",
     "start_time": "2024-06-11T11:55:53.567073Z"
    }
   },
   "id": "392ec89a8320e5e1"
  },
  {
   "cell_type": "code",
   "execution_count": 128,
   "outputs": [],
   "source": [
    "model_2 = KMeans(k=2, featuresCol='features_scaled', seed=21).fit(df)"
   ],
   "metadata": {
    "collapsed": false,
    "ExecuteTime": {
     "end_time": "2024-06-11T11:55:58.341703Z",
     "start_time": "2024-06-11T11:55:53.572663Z"
    }
   },
   "id": "870514135865f786"
  },
  {
   "cell_type": "code",
   "execution_count": 129,
   "outputs": [
    {
     "data": {
      "text/plain": "601.7707512676687"
     },
     "execution_count": 129,
     "metadata": {},
     "output_type": "execute_result"
    }
   ],
   "source": [
    "model_2.summary.trainingCost"
   ],
   "metadata": {
    "collapsed": false,
    "ExecuteTime": {
     "end_time": "2024-06-11T11:55:58.375702Z",
     "start_time": "2024-06-11T11:55:58.342336Z"
    }
   },
   "id": "3e9973e087eb0296"
  },
  {
   "cell_type": "code",
   "execution_count": 130,
   "outputs": [],
   "source": [
    "result = model_2.transform(df)"
   ],
   "metadata": {
    "collapsed": false,
    "ExecuteTime": {
     "end_time": "2024-06-11T11:55:58.407640Z",
     "start_time": "2024-06-11T11:55:58.351667Z"
    }
   },
   "id": "f4e06ecc2d46eac"
  },
  {
   "cell_type": "code",
   "execution_count": 131,
   "outputs": [
    {
     "name": "stdout",
     "output_type": "stream",
     "text": [
      "+-----------------------+-----------------+---------------+-----------------+---------------+----------------+--------------------+--------------------+----------+\n",
      "|Session_Connection_Time|Bytes Transferred|Kali_Trace_Used|Servers_Corrupted|Pages_Corrupted|WPM_Typing_Speed|            features|     features_scaled|prediction|\n",
      "+-----------------------+-----------------+---------------+-----------------+---------------+----------------+--------------------+--------------------+----------+\n",
      "|                    8.0|           391.09|              1|             2.96|            7.0|           72.37|[8.0,391.09,1.0,2...|[-1.5622280401844...|         0|\n",
      "|                   20.0|           720.99|              0|             3.04|            9.0|           69.08|[20.0,720.99,0.0,...|[-0.7104514131868...|         0|\n",
      "|                   31.0|           356.32|              1|             3.71|            8.0|           70.58|[31.0,356.32,1.0,...|[0.07034382822759...|         0|\n",
      "|                    2.0|           228.08|              1|             2.48|            8.0|            70.8|[2.0,228.08,1.0,2...|[-1.9881163536832...|         0|\n",
      "|                   20.0|            408.5|              0|             3.57|            8.0|           71.28|[20.0,408.5,0.0,3...|[-0.7104514131868...|         0|\n",
      "|                    1.0|           390.69|              1|             2.79|            9.0|           71.57|[1.0,390.69,1.0,2...|[-2.0590977392663...|         0|\n",
      "|                   18.0|           342.97|              1|              5.1|            7.0|           72.32|[18.0,342.97,1.0,...|[-0.8524141843531...|         0|\n",
      "|                   22.0|           101.61|              1|             3.03|            7.0|           72.03|[22.0,101.61,1.0,...|[-0.5684886420205...|         0|\n",
      "|                   15.0|           275.53|              1|             3.53|            8.0|           70.17|[15.0,275.53,1.0,...|[-1.0653583411025...|         0|\n",
      "|                   12.0|           424.83|              1|             2.53|            8.0|           69.99|[12.0,424.83,1.0,...|[-1.2783024978519...|         0|\n",
      "|                   15.0|           249.09|              1|             3.39|            9.0|           70.77|[15.0,249.09,1.0,...|[-1.0653583411025...|         0|\n",
      "|                   32.0|           242.48|              0|             4.24|            8.0|           67.93|[32.0,242.48,0.0,...|[0.14132521381072...|         0|\n",
      "|                   23.0|           514.54|              0|             3.18|            8.0|           68.56|[23.0,514.54,0.0,...|[-0.4975072564374...|         0|\n",
      "|                    9.0|           284.77|              0|             3.12|            9.0|           70.82|[9.0,284.77,0.0,3...|[-1.4912466546013...|         0|\n",
      "|                   27.0|           779.25|              1|             2.37|            8.0|           72.73|[27.0,779.25,1.0,...|[-0.2135817141049...|         0|\n",
      "|                   12.0|           307.31|              1|             3.22|            7.0|           67.95|[12.0,307.31,1.0,...|[-1.2783024978519...|         0|\n",
      "|                   21.0|           355.94|              1|              2.0|            7.0|            72.0|[21.0,355.94,1.0,...|[-0.6394700276037...|         0|\n",
      "|                   10.0|           372.65|              0|             3.33|            7.0|           69.19|[10.0,372.65,0.0,...|[-1.4202652690181...|         0|\n",
      "|                   20.0|           347.23|              1|             2.33|            7.0|           70.41|[20.0,347.23,1.0,...|[-0.7104514131868...|         0|\n",
      "|                   22.0|           456.57|              0|             1.52|            8.0|           69.35|[22.0,456.57,0.0,...|[-0.5684886420205...|         0|\n",
      "+-----------------------+-----------------+---------------+-----------------+---------------+----------------+--------------------+--------------------+----------+\n"
     ]
    }
   ],
   "source": [
    "result.show()"
   ],
   "metadata": {
    "collapsed": false,
    "ExecuteTime": {
     "end_time": "2024-06-11T11:55:58.911424Z",
     "start_time": "2024-06-11T11:55:58.376069Z"
    }
   },
   "id": "a39fc5ac2bd94581"
  },
  {
   "cell_type": "code",
   "execution_count": 132,
   "outputs": [
    {
     "name": "stdout",
     "output_type": "stream",
     "text": [
      "+----------+-----+\n",
      "|prediction|count|\n",
      "+----------+-----+\n",
      "|         1|  167|\n",
      "|         0|  167|\n",
      "+----------+-----+\n"
     ]
    }
   ],
   "source": [
    "result.groupBy('prediction').count().show()"
   ],
   "metadata": {
    "collapsed": false,
    "ExecuteTime": {
     "end_time": "2024-06-11T11:55:59.125817Z",
     "start_time": "2024-06-11T11:55:58.896151Z"
    }
   },
   "id": "eda57c72c3f72fff"
  },
  {
   "cell_type": "code",
   "execution_count": 133,
   "outputs": [
    {
     "name": "stderr",
     "output_type": "stream",
     "text": [
      "[Stage 363:=========================================================(1 + 0) / 1]\r"
     ]
    },
    {
     "name": "stdout",
     "output_type": "stream",
     "text": [
      "+----------+-----+\n",
      "|prediction|count|\n",
      "+----------+-----+\n",
      "|         1|   84|\n",
      "|         2|  167|\n",
      "|         0|   83|\n",
      "+----------+-----+\n"
     ]
    },
    {
     "name": "stderr",
     "output_type": "stream",
     "text": [
      "                                                                                \r"
     ]
    }
   ],
   "source": [
    "model_3.transform(df).groupBy('prediction').count().show()"
   ],
   "metadata": {
    "collapsed": false,
    "ExecuteTime": {
     "end_time": "2024-06-11T11:56:00.459573Z",
     "start_time": "2024-06-11T11:55:59.107499Z"
    }
   },
   "id": "2b02018f728aa445"
  }
 ],
 "metadata": {
  "kernelspec": {
   "display_name": "Python 3",
   "language": "python",
   "name": "python3"
  },
  "language_info": {
   "codemirror_mode": {
    "name": "ipython",
    "version": 2
   },
   "file_extension": ".py",
   "mimetype": "text/x-python",
   "name": "python",
   "nbconvert_exporter": "python",
   "pygments_lexer": "ipython2",
   "version": "2.7.6"
  }
 },
 "nbformat": 4,
 "nbformat_minor": 5
}
