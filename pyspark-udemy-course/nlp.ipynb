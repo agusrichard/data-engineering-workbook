{
 "cells": [
  {
   "cell_type": "markdown",
   "source": [
    "# NLP"
   ],
   "metadata": {
    "collapsed": false
   },
   "id": "612d461327fb044c"
  },
  {
   "cell_type": "code",
   "execution_count": 21,
   "outputs": [],
   "source": [
    "from pyspark.sql import SparkSession"
   ],
   "metadata": {
    "collapsed": false,
    "ExecuteTime": {
     "end_time": "2024-06-16T10:20:07.409957Z",
     "start_time": "2024-06-16T10:20:07.403574Z"
    }
   },
   "id": "44bed1a871af245"
  },
  {
   "cell_type": "code",
   "execution_count": 22,
   "outputs": [],
   "source": [
    "spark = SparkSession.builder.appName('nlp').getOrCreate()"
   ],
   "metadata": {
    "collapsed": false,
    "ExecuteTime": {
     "end_time": "2024-06-16T10:20:08.441952Z",
     "start_time": "2024-06-16T10:20:08.407870Z"
    }
   },
   "id": "b3e8dc6328a25895"
  },
  {
   "cell_type": "code",
   "execution_count": 23,
   "outputs": [],
   "source": [
    "data = spark.read.csv(\"./files/smsspamcollection/SMSSpamCollection\",inferSchema=True,sep='\\t')"
   ],
   "metadata": {
    "collapsed": false,
    "ExecuteTime": {
     "end_time": "2024-06-16T10:20:09.566316Z",
     "start_time": "2024-06-16T10:20:08.890985Z"
    }
   },
   "id": "13c14c218e707b66"
  },
  {
   "cell_type": "code",
   "execution_count": 24,
   "outputs": [
    {
     "name": "stdout",
     "output_type": "stream",
     "text": [
      "+-----+--------------------+\n",
      "|class|                text|\n",
      "+-----+--------------------+\n",
      "|  ham|Go until jurong p...|\n",
      "|  ham|Ok lar... Joking ...|\n",
      "| spam|Free entry in 2 a...|\n",
      "|  ham|U dun say so earl...|\n",
      "|  ham|Nah I don't think...|\n",
      "| spam|FreeMsg Hey there...|\n",
      "|  ham|Even my brother i...|\n",
      "|  ham|As per your reque...|\n",
      "| spam|WINNER!! As a val...|\n",
      "| spam|Had your mobile 1...|\n",
      "|  ham|I'm gonna be home...|\n",
      "| spam|SIX chances to wi...|\n",
      "| spam|URGENT! You have ...|\n",
      "|  ham|I've been searchi...|\n",
      "|  ham|I HAVE A DATE ON ...|\n",
      "| spam|XXXMobileMovieClu...|\n",
      "|  ham|Oh k...i'm watchi...|\n",
      "|  ham|Eh u remember how...|\n",
      "|  ham|Fine if thats th...|\n",
      "| spam|England v Macedon...|\n",
      "+-----+--------------------+\n"
     ]
    }
   ],
   "source": [
    "data = data.withColumnRenamed('_c0', 'class').withColumnRenamed('_c1', 'text')\n",
    "data.show()"
   ],
   "metadata": {
    "collapsed": false,
    "ExecuteTime": {
     "end_time": "2024-06-16T10:20:10.304061Z",
     "start_time": "2024-06-16T10:20:09.567207Z"
    }
   },
   "id": "f4a76155d8486e02"
  },
  {
   "cell_type": "code",
   "execution_count": 25,
   "outputs": [],
   "source": [
    "from pyspark.sql.functions import length\n"
   ],
   "metadata": {
    "collapsed": false,
    "ExecuteTime": {
     "end_time": "2024-06-16T10:20:10.304249Z",
     "start_time": "2024-06-16T10:20:10.301861Z"
    }
   },
   "id": "25b0f93164fda25d"
  },
  {
   "cell_type": "code",
   "execution_count": 26,
   "outputs": [
    {
     "name": "stdout",
     "output_type": "stream",
     "text": [
      "+-----+--------------------+------+\n",
      "|class|                text|length|\n",
      "+-----+--------------------+------+\n",
      "|  ham|Go until jurong p...|   111|\n",
      "|  ham|Ok lar... Joking ...|    29|\n",
      "| spam|Free entry in 2 a...|   155|\n",
      "|  ham|U dun say so earl...|    49|\n",
      "|  ham|Nah I don't think...|    61|\n",
      "| spam|FreeMsg Hey there...|   147|\n",
      "|  ham|Even my brother i...|    77|\n",
      "|  ham|As per your reque...|   160|\n",
      "| spam|WINNER!! As a val...|   157|\n",
      "| spam|Had your mobile 1...|   154|\n",
      "|  ham|I'm gonna be home...|   109|\n",
      "| spam|SIX chances to wi...|   136|\n",
      "| spam|URGENT! You have ...|   155|\n",
      "|  ham|I've been searchi...|   196|\n",
      "|  ham|I HAVE A DATE ON ...|    35|\n",
      "| spam|XXXMobileMovieClu...|   149|\n",
      "|  ham|Oh k...i'm watchi...|    26|\n",
      "|  ham|Eh u remember how...|    81|\n",
      "|  ham|Fine if thats th...|    56|\n",
      "| spam|England v Macedon...|   155|\n",
      "+-----+--------------------+------+\n"
     ]
    }
   ],
   "source": [
    "data = data.withColumn('length', length(data['text']))\n",
    "data.show()"
   ],
   "metadata": {
    "collapsed": false,
    "ExecuteTime": {
     "end_time": "2024-06-16T10:20:11.005580Z",
     "start_time": "2024-06-16T10:20:10.448224Z"
    }
   },
   "id": "105219b04965a26d"
  },
  {
   "cell_type": "code",
   "execution_count": 27,
   "outputs": [
    {
     "name": "stdout",
     "output_type": "stream",
     "text": [
      "+-----+-----------------+\n",
      "|class|      avg(length)|\n",
      "+-----+-----------------+\n",
      "|  ham|71.45431945307645|\n",
      "| spam|138.6706827309237|\n",
      "+-----+-----------------+\n"
     ]
    }
   ],
   "source": [
    "data.groupBy('class').mean().show()"
   ],
   "metadata": {
    "collapsed": false,
    "ExecuteTime": {
     "end_time": "2024-06-16T10:20:11.821064Z",
     "start_time": "2024-06-16T10:20:10.994722Z"
    }
   },
   "id": "c2f4dcb2aa293937"
  },
  {
   "cell_type": "code",
   "execution_count": 28,
   "outputs": [],
   "source": [
    "from pyspark.ml.feature import Tokenizer, StopWordsRemover, CountVectorizer, IDF, StringIndexer"
   ],
   "metadata": {
    "collapsed": false,
    "ExecuteTime": {
     "end_time": "2024-06-16T10:20:11.821253Z",
     "start_time": "2024-06-16T10:20:11.813022Z"
    }
   },
   "id": "3dfb6f5eb6668686"
  },
  {
   "cell_type": "code",
   "execution_count": 29,
   "outputs": [],
   "source": [
    "tokenizer = Tokenizer(inputCol='text', outputCol='token_text')\n",
    "result = tokenizer.transform(data)"
   ],
   "metadata": {
    "collapsed": false,
    "ExecuteTime": {
     "end_time": "2024-06-16T10:20:12.433640Z",
     "start_time": "2024-06-16T10:20:11.888948Z"
    }
   },
   "id": "ee96295e717b84e7"
  },
  {
   "cell_type": "code",
   "execution_count": 30,
   "outputs": [
    {
     "name": "stdout",
     "output_type": "stream",
     "text": [
      "+-----+--------------------+------+--------------------+--------------------+\n",
      "|class|                text|length|          token_text|        clean_tokens|\n",
      "+-----+--------------------+------+--------------------+--------------------+\n",
      "|  ham|Go until jurong p...|   111|[go, until, juron...|[go, jurong, poin...|\n",
      "|  ham|Ok lar... Joking ...|    29|[ok, lar..., joki...|[ok, lar..., joki...|\n",
      "| spam|Free entry in 2 a...|   155|[free, entry, in,...|[free, entry, 2, ...|\n",
      "|  ham|U dun say so earl...|    49|[u, dun, say, so,...|[u, dun, say, ear...|\n",
      "|  ham|Nah I don't think...|    61|[nah, i, don't, t...|[nah, think, goes...|\n",
      "| spam|FreeMsg Hey there...|   147|[freemsg, hey, th...|[freemsg, hey, da...|\n",
      "|  ham|Even my brother i...|    77|[even, my, brothe...|[even, brother, l...|\n",
      "|  ham|As per your reque...|   160|[as, per, your, r...|[per, request, 'm...|\n",
      "| spam|WINNER!! As a val...|   157|[winner!!, as, a,...|[winner!!, valued...|\n",
      "| spam|Had your mobile 1...|   154|[had, your, mobil...|[mobile, 11, mont...|\n",
      "|  ham|I'm gonna be home...|   109|[i'm, gonna, be, ...|[gonna, home, soo...|\n",
      "| spam|SIX chances to wi...|   136|[six, chances, to...|[six, chances, wi...|\n",
      "| spam|URGENT! You have ...|   155|[urgent!, you, ha...|[urgent!, won, 1,...|\n",
      "|  ham|I've been searchi...|   196|[i've, been, sear...|[searching, right...|\n",
      "|  ham|I HAVE A DATE ON ...|    35|[i, have, a, date...|[date, sunday, wi...|\n",
      "| spam|XXXMobileMovieClu...|   149|[xxxmobilemoviecl...|[xxxmobilemoviecl...|\n",
      "|  ham|Oh k...i'm watchi...|    26|[oh, k...i'm, wat...|[oh, k...i'm, wat...|\n",
      "|  ham|Eh u remember how...|    81|[eh, u, remember,...|[eh, u, remember,...|\n",
      "|  ham|Fine if thats th...|    56|[fine, if, thats...|[fine, thats, wa...|\n",
      "| spam|England v Macedon...|   155|[england, v, mace...|[england, v, mace...|\n",
      "+-----+--------------------+------+--------------------+--------------------+\n"
     ]
    }
   ],
   "source": [
    "stop_remover = StopWordsRemover(inputCol='token_text', outputCol='clean_tokens')\n",
    "result = stop_remover.transform(result)\n",
    "result.show()"
   ],
   "metadata": {
    "collapsed": false,
    "ExecuteTime": {
     "end_time": "2024-06-16T10:20:13.054392Z",
     "start_time": "2024-06-16T10:20:12.384173Z"
    }
   },
   "id": "55a76544dab1594"
  },
  {
   "cell_type": "code",
   "execution_count": 31,
   "outputs": [
    {
     "name": "stdout",
     "output_type": "stream",
     "text": [
      "+-----+--------------------+------+--------------------+--------------------+--------------------+\n",
      "|class|                text|length|          token_text|        clean_tokens|              vector|\n",
      "+-----+--------------------+------+--------------------+--------------------+--------------------+\n",
      "|  ham|Go until jurong p...|   111|[go, until, juron...|[go, jurong, poin...|(13423,[7,11,31,6...|\n",
      "|  ham|Ok lar... Joking ...|    29|[ok, lar..., joki...|[ok, lar..., joki...|(13423,[0,24,301,...|\n",
      "| spam|Free entry in 2 a...|   155|[free, entry, in,...|[free, entry, 2, ...|(13423,[2,13,19,3...|\n",
      "|  ham|U dun say so earl...|    49|[u, dun, say, so,...|[u, dun, say, ear...|(13423,[0,70,80,1...|\n",
      "|  ham|Nah I don't think...|    61|[nah, i, don't, t...|[nah, think, goes...|(13423,[36,134,31...|\n",
      "| spam|FreeMsg Hey there...|   147|[freemsg, hey, th...|[freemsg, hey, da...|(13423,[10,60,140...|\n",
      "|  ham|Even my brother i...|    77|[even, my, brothe...|[even, brother, l...|(13423,[10,53,102...|\n",
      "|  ham|As per your reque...|   160|[as, per, your, r...|[per, request, 'm...|(13423,[127,185,4...|\n",
      "| spam|WINNER!! As a val...|   157|[winner!!, as, a,...|[winner!!, valued...|(13423,[1,47,121,...|\n",
      "| spam|Had your mobile 1...|   154|[had, your, mobil...|[mobile, 11, mont...|(13423,[0,1,13,27...|\n",
      "|  ham|I'm gonna be home...|   109|[i'm, gonna, be, ...|[gonna, home, soo...|(13423,[18,43,117...|\n",
      "| spam|SIX chances to wi...|   136|[six, chances, to...|[six, chances, wi...|(13423,[8,16,37,8...|\n",
      "| spam|URGENT! You have ...|   155|[urgent!, you, ha...|[urgent!, won, 1,...|(13423,[13,30,47,...|\n",
      "|  ham|I've been searchi...|   196|[i've, been, sear...|[searching, right...|(13423,[39,95,221...|\n",
      "|  ham|I HAVE A DATE ON ...|    35|[i, have, a, date...|[date, sunday, wi...|(13423,[555,1797,...|\n",
      "| spam|XXXMobileMovieClu...|   149|[xxxmobilemoviecl...|[xxxmobilemoviecl...|(13423,[30,109,11...|\n",
      "|  ham|Oh k...i'm watchi...|    26|[oh, k...i'm, wat...|[oh, k...i'm, wat...|(13423,[82,214,44...|\n",
      "|  ham|Eh u remember how...|    81|[eh, u, remember,...|[eh, u, remember,...|(13423,[0,2,49,13...|\n",
      "|  ham|Fine if thats th...|    56|[fine, if, thats...|[fine, thats, wa...|(13423,[0,74,105,...|\n",
      "| spam|England v Macedon...|   155|[england, v, mace...|[england, v, mace...|(13423,[4,30,33,5...|\n",
      "+-----+--------------------+------+--------------------+--------------------+--------------------+\n"
     ]
    }
   ],
   "source": [
    "count_vec = CountVectorizer(inputCol='clean_tokens', outputCol='vector')\n",
    "result = count_vec.fit(result).transform(result)\n",
    "result.show()"
   ],
   "metadata": {
    "collapsed": false,
    "ExecuteTime": {
     "end_time": "2024-06-16T10:20:14.606041Z",
     "start_time": "2024-06-16T10:20:13.043826Z"
    }
   },
   "id": "568947a734a886bf"
  },
  {
   "cell_type": "code",
   "execution_count": 32,
   "outputs": [
    {
     "name": "stdout",
     "output_type": "stream",
     "text": [
      "+-----+--------------------+------+--------------------+--------------------+--------------------+--------------------+\n",
      "|class|                text|length|          token_text|        clean_tokens|              vector|              tf_idf|\n",
      "+-----+--------------------+------+--------------------+--------------------+--------------------+--------------------+\n",
      "|  ham|Go until jurong p...|   111|[go, until, juron...|[go, jurong, poin...|(13423,[7,11,31,6...|(13423,[7,11,31,6...|\n",
      "|  ham|Ok lar... Joking ...|    29|[ok, lar..., joki...|[ok, lar..., joki...|(13423,[0,24,301,...|(13423,[0,24,301,...|\n",
      "| spam|Free entry in 2 a...|   155|[free, entry, in,...|[free, entry, 2, ...|(13423,[2,13,19,3...|(13423,[2,13,19,3...|\n",
      "|  ham|U dun say so earl...|    49|[u, dun, say, so,...|[u, dun, say, ear...|(13423,[0,70,80,1...|(13423,[0,70,80,1...|\n",
      "|  ham|Nah I don't think...|    61|[nah, i, don't, t...|[nah, think, goes...|(13423,[36,134,31...|(13423,[36,134,31...|\n",
      "| spam|FreeMsg Hey there...|   147|[freemsg, hey, th...|[freemsg, hey, da...|(13423,[10,60,140...|(13423,[10,60,140...|\n",
      "|  ham|Even my brother i...|    77|[even, my, brothe...|[even, brother, l...|(13423,[10,53,102...|(13423,[10,53,102...|\n",
      "|  ham|As per your reque...|   160|[as, per, your, r...|[per, request, 'm...|(13423,[127,185,4...|(13423,[127,185,4...|\n",
      "| spam|WINNER!! As a val...|   157|[winner!!, as, a,...|[winner!!, valued...|(13423,[1,47,121,...|(13423,[1,47,121,...|\n",
      "| spam|Had your mobile 1...|   154|[had, your, mobil...|[mobile, 11, mont...|(13423,[0,1,13,27...|(13423,[0,1,13,27...|\n",
      "|  ham|I'm gonna be home...|   109|[i'm, gonna, be, ...|[gonna, home, soo...|(13423,[18,43,117...|(13423,[18,43,117...|\n",
      "| spam|SIX chances to wi...|   136|[six, chances, to...|[six, chances, wi...|(13423,[8,16,37,8...|(13423,[8,16,37,8...|\n",
      "| spam|URGENT! You have ...|   155|[urgent!, you, ha...|[urgent!, won, 1,...|(13423,[13,30,47,...|(13423,[13,30,47,...|\n",
      "|  ham|I've been searchi...|   196|[i've, been, sear...|[searching, right...|(13423,[39,95,221...|(13423,[39,95,221...|\n",
      "|  ham|I HAVE A DATE ON ...|    35|[i, have, a, date...|[date, sunday, wi...|(13423,[555,1797,...|(13423,[555,1797,...|\n",
      "| spam|XXXMobileMovieClu...|   149|[xxxmobilemoviecl...|[xxxmobilemoviecl...|(13423,[30,109,11...|(13423,[30,109,11...|\n",
      "|  ham|Oh k...i'm watchi...|    26|[oh, k...i'm, wat...|[oh, k...i'm, wat...|(13423,[82,214,44...|(13423,[82,214,44...|\n",
      "|  ham|Eh u remember how...|    81|[eh, u, remember,...|[eh, u, remember,...|(13423,[0,2,49,13...|(13423,[0,2,49,13...|\n",
      "|  ham|Fine if thats th...|    56|[fine, if, thats...|[fine, thats, wa...|(13423,[0,74,105,...|(13423,[0,74,105,...|\n",
      "| spam|England v Macedon...|   155|[england, v, mace...|[england, v, mace...|(13423,[4,30,33,5...|(13423,[4,30,33,5...|\n",
      "+-----+--------------------+------+--------------------+--------------------+--------------------+--------------------+\n"
     ]
    }
   ],
   "source": [
    "idf = IDF(inputCol='vector', outputCol='tf_idf')\n",
    "result = idf.fit(result).transform(result)\n",
    "result.show()"
   ],
   "metadata": {
    "collapsed": false,
    "ExecuteTime": {
     "end_time": "2024-06-16T10:20:15.557568Z",
     "start_time": "2024-06-16T10:20:14.601442Z"
    }
   },
   "id": "1ddb1742a27d66e1"
  },
  {
   "cell_type": "code",
   "execution_count": 33,
   "outputs": [
    {
     "name": "stdout",
     "output_type": "stream",
     "text": [
      "+-----+--------------------+------+--------------------+--------------------+--------------------+--------------------+-----+\n",
      "|class|                text|length|          token_text|        clean_tokens|              vector|              tf_idf|label|\n",
      "+-----+--------------------+------+--------------------+--------------------+--------------------+--------------------+-----+\n",
      "|  ham|Go until jurong p...|   111|[go, until, juron...|[go, jurong, poin...|(13423,[7,11,31,6...|(13423,[7,11,31,6...|  0.0|\n",
      "|  ham|Ok lar... Joking ...|    29|[ok, lar..., joki...|[ok, lar..., joki...|(13423,[0,24,301,...|(13423,[0,24,301,...|  0.0|\n",
      "| spam|Free entry in 2 a...|   155|[free, entry, in,...|[free, entry, 2, ...|(13423,[2,13,19,3...|(13423,[2,13,19,3...|  1.0|\n",
      "|  ham|U dun say so earl...|    49|[u, dun, say, so,...|[u, dun, say, ear...|(13423,[0,70,80,1...|(13423,[0,70,80,1...|  0.0|\n",
      "|  ham|Nah I don't think...|    61|[nah, i, don't, t...|[nah, think, goes...|(13423,[36,134,31...|(13423,[36,134,31...|  0.0|\n",
      "| spam|FreeMsg Hey there...|   147|[freemsg, hey, th...|[freemsg, hey, da...|(13423,[10,60,140...|(13423,[10,60,140...|  1.0|\n",
      "|  ham|Even my brother i...|    77|[even, my, brothe...|[even, brother, l...|(13423,[10,53,102...|(13423,[10,53,102...|  0.0|\n",
      "|  ham|As per your reque...|   160|[as, per, your, r...|[per, request, 'm...|(13423,[127,185,4...|(13423,[127,185,4...|  0.0|\n",
      "| spam|WINNER!! As a val...|   157|[winner!!, as, a,...|[winner!!, valued...|(13423,[1,47,121,...|(13423,[1,47,121,...|  1.0|\n",
      "| spam|Had your mobile 1...|   154|[had, your, mobil...|[mobile, 11, mont...|(13423,[0,1,13,27...|(13423,[0,1,13,27...|  1.0|\n",
      "|  ham|I'm gonna be home...|   109|[i'm, gonna, be, ...|[gonna, home, soo...|(13423,[18,43,117...|(13423,[18,43,117...|  0.0|\n",
      "| spam|SIX chances to wi...|   136|[six, chances, to...|[six, chances, wi...|(13423,[8,16,37,8...|(13423,[8,16,37,8...|  1.0|\n",
      "| spam|URGENT! You have ...|   155|[urgent!, you, ha...|[urgent!, won, 1,...|(13423,[13,30,47,...|(13423,[13,30,47,...|  1.0|\n",
      "|  ham|I've been searchi...|   196|[i've, been, sear...|[searching, right...|(13423,[39,95,221...|(13423,[39,95,221...|  0.0|\n",
      "|  ham|I HAVE A DATE ON ...|    35|[i, have, a, date...|[date, sunday, wi...|(13423,[555,1797,...|(13423,[555,1797,...|  0.0|\n",
      "| spam|XXXMobileMovieClu...|   149|[xxxmobilemoviecl...|[xxxmobilemoviecl...|(13423,[30,109,11...|(13423,[30,109,11...|  1.0|\n",
      "|  ham|Oh k...i'm watchi...|    26|[oh, k...i'm, wat...|[oh, k...i'm, wat...|(13423,[82,214,44...|(13423,[82,214,44...|  0.0|\n",
      "|  ham|Eh u remember how...|    81|[eh, u, remember,...|[eh, u, remember,...|(13423,[0,2,49,13...|(13423,[0,2,49,13...|  0.0|\n",
      "|  ham|Fine if thats th...|    56|[fine, if, thats...|[fine, thats, wa...|(13423,[0,74,105,...|(13423,[0,74,105,...|  0.0|\n",
      "| spam|England v Macedon...|   155|[england, v, mace...|[england, v, mace...|(13423,[4,30,33,5...|(13423,[4,30,33,5...|  1.0|\n",
      "+-----+--------------------+------+--------------------+--------------------+--------------------+--------------------+-----+\n"
     ]
    }
   ],
   "source": [
    "indexer = StringIndexer(inputCol='class', outputCol='label')\n",
    "result = indexer.fit(result).transform(result)\n",
    "result.show()"
   ],
   "metadata": {
    "collapsed": false,
    "ExecuteTime": {
     "end_time": "2024-06-16T10:20:16.951095Z",
     "start_time": "2024-06-16T10:20:15.532902Z"
    }
   },
   "id": "39122a0ce1077e7d"
  },
  {
   "cell_type": "code",
   "execution_count": 34,
   "outputs": [],
   "source": [
    "from pyspark.ml.feature import VectorAssembler"
   ],
   "metadata": {
    "collapsed": false,
    "ExecuteTime": {
     "end_time": "2024-06-16T10:20:16.951267Z",
     "start_time": "2024-06-16T10:20:16.925832Z"
    }
   },
   "id": "cf0009d4b8d100a"
  },
  {
   "cell_type": "code",
   "execution_count": 35,
   "outputs": [
    {
     "name": "stdout",
     "output_type": "stream",
     "text": [
      "+-----+--------------------+------+--------------------+--------------------+--------------------+--------------------+-----+--------------------+\n",
      "|class|                text|length|          token_text|        clean_tokens|              vector|              tf_idf|label|            features|\n",
      "+-----+--------------------+------+--------------------+--------------------+--------------------+--------------------+-----+--------------------+\n",
      "|  ham|Go until jurong p...|   111|[go, until, juron...|[go, jurong, poin...|(13423,[7,11,31,6...|(13423,[7,11,31,6...|  0.0|(13424,[7,11,31,6...|\n",
      "|  ham|Ok lar... Joking ...|    29|[ok, lar..., joki...|[ok, lar..., joki...|(13423,[0,24,301,...|(13423,[0,24,301,...|  0.0|(13424,[0,24,301,...|\n",
      "| spam|Free entry in 2 a...|   155|[free, entry, in,...|[free, entry, 2, ...|(13423,[2,13,19,3...|(13423,[2,13,19,3...|  1.0|(13424,[2,13,19,3...|\n",
      "|  ham|U dun say so earl...|    49|[u, dun, say, so,...|[u, dun, say, ear...|(13423,[0,70,80,1...|(13423,[0,70,80,1...|  0.0|(13424,[0,70,80,1...|\n",
      "|  ham|Nah I don't think...|    61|[nah, i, don't, t...|[nah, think, goes...|(13423,[36,134,31...|(13423,[36,134,31...|  0.0|(13424,[36,134,31...|\n",
      "| spam|FreeMsg Hey there...|   147|[freemsg, hey, th...|[freemsg, hey, da...|(13423,[10,60,140...|(13423,[10,60,140...|  1.0|(13424,[10,60,140...|\n",
      "|  ham|Even my brother i...|    77|[even, my, brothe...|[even, brother, l...|(13423,[10,53,102...|(13423,[10,53,102...|  0.0|(13424,[10,53,102...|\n",
      "|  ham|As per your reque...|   160|[as, per, your, r...|[per, request, 'm...|(13423,[127,185,4...|(13423,[127,185,4...|  0.0|(13424,[127,185,4...|\n",
      "| spam|WINNER!! As a val...|   157|[winner!!, as, a,...|[winner!!, valued...|(13423,[1,47,121,...|(13423,[1,47,121,...|  1.0|(13424,[1,47,121,...|\n",
      "| spam|Had your mobile 1...|   154|[had, your, mobil...|[mobile, 11, mont...|(13423,[0,1,13,27...|(13423,[0,1,13,27...|  1.0|(13424,[0,1,13,27...|\n",
      "|  ham|I'm gonna be home...|   109|[i'm, gonna, be, ...|[gonna, home, soo...|(13423,[18,43,117...|(13423,[18,43,117...|  0.0|(13424,[18,43,117...|\n",
      "| spam|SIX chances to wi...|   136|[six, chances, to...|[six, chances, wi...|(13423,[8,16,37,8...|(13423,[8,16,37,8...|  1.0|(13424,[8,16,37,8...|\n",
      "| spam|URGENT! You have ...|   155|[urgent!, you, ha...|[urgent!, won, 1,...|(13423,[13,30,47,...|(13423,[13,30,47,...|  1.0|(13424,[13,30,47,...|\n",
      "|  ham|I've been searchi...|   196|[i've, been, sear...|[searching, right...|(13423,[39,95,221...|(13423,[39,95,221...|  0.0|(13424,[39,95,221...|\n",
      "|  ham|I HAVE A DATE ON ...|    35|[i, have, a, date...|[date, sunday, wi...|(13423,[555,1797,...|(13423,[555,1797,...|  0.0|(13424,[555,1797,...|\n",
      "| spam|XXXMobileMovieClu...|   149|[xxxmobilemoviecl...|[xxxmobilemoviecl...|(13423,[30,109,11...|(13423,[30,109,11...|  1.0|(13424,[30,109,11...|\n",
      "|  ham|Oh k...i'm watchi...|    26|[oh, k...i'm, wat...|[oh, k...i'm, wat...|(13423,[82,214,44...|(13423,[82,214,44...|  0.0|(13424,[82,214,44...|\n",
      "|  ham|Eh u remember how...|    81|[eh, u, remember,...|[eh, u, remember,...|(13423,[0,2,49,13...|(13423,[0,2,49,13...|  0.0|(13424,[0,2,49,13...|\n",
      "|  ham|Fine if thats th...|    56|[fine, if, thats...|[fine, thats, wa...|(13423,[0,74,105,...|(13423,[0,74,105,...|  0.0|(13424,[0,74,105,...|\n",
      "| spam|England v Macedon...|   155|[england, v, mace...|[england, v, mace...|(13423,[4,30,33,5...|(13423,[4,30,33,5...|  1.0|(13424,[4,30,33,5...|\n",
      "+-----+--------------------+------+--------------------+--------------------+--------------------+--------------------+-----+--------------------+\n"
     ]
    }
   ],
   "source": [
    "assembler = VectorAssembler(inputCols=['tf_idf', 'length'], outputCol='features')\n",
    "result = assembler.transform(result)\n",
    "result.show()"
   ],
   "metadata": {
    "collapsed": false,
    "ExecuteTime": {
     "end_time": "2024-06-16T10:20:18.090039Z",
     "start_time": "2024-06-16T10:20:16.928441Z"
    }
   },
   "id": "92d7c32622c3734d"
  },
  {
   "cell_type": "code",
   "execution_count": 36,
   "outputs": [],
   "source": [
    "from pyspark.ml import Pipeline\n",
    "from pyspark.ml.classification import NaiveBayes"
   ],
   "metadata": {
    "collapsed": false,
    "ExecuteTime": {
     "end_time": "2024-06-16T10:20:18.090280Z",
     "start_time": "2024-06-16T10:20:18.063261Z"
    }
   },
   "id": "14daae00ad192e2a"
  },
  {
   "cell_type": "code",
   "execution_count": 38,
   "outputs": [
    {
     "name": "stdout",
     "output_type": "stream",
     "text": [
      "+-----+--------------------+------+\n",
      "|class|                text|length|\n",
      "+-----+--------------------+------+\n",
      "|  ham|Go until jurong p...|   111|\n",
      "|  ham|Ok lar... Joking ...|    29|\n",
      "| spam|Free entry in 2 a...|   155|\n",
      "|  ham|U dun say so earl...|    49|\n",
      "|  ham|Nah I don't think...|    61|\n",
      "| spam|FreeMsg Hey there...|   147|\n",
      "|  ham|Even my brother i...|    77|\n",
      "|  ham|As per your reque...|   160|\n",
      "| spam|WINNER!! As a val...|   157|\n",
      "| spam|Had your mobile 1...|   154|\n",
      "|  ham|I'm gonna be home...|   109|\n",
      "| spam|SIX chances to wi...|   136|\n",
      "| spam|URGENT! You have ...|   155|\n",
      "|  ham|I've been searchi...|   196|\n",
      "|  ham|I HAVE A DATE ON ...|    35|\n",
      "| spam|XXXMobileMovieClu...|   149|\n",
      "|  ham|Oh k...i'm watchi...|    26|\n",
      "|  ham|Eh u remember how...|    81|\n",
      "|  ham|Fine if thats th...|    56|\n",
      "| spam|England v Macedon...|   155|\n",
      "+-----+--------------------+------+\n"
     ]
    }
   ],
   "source": [
    "data.show()"
   ],
   "metadata": {
    "collapsed": false,
    "ExecuteTime": {
     "end_time": "2024-06-16T10:20:38.806459Z",
     "start_time": "2024-06-16T10:20:38.283461Z"
    }
   },
   "id": "7545ed636fc4f020"
  },
  {
   "cell_type": "code",
   "execution_count": 39,
   "outputs": [],
   "source": [
    "pipeline = Pipeline(stages=[\n",
    "    tokenizer,\n",
    "    stop_remover,\n",
    "    count_vec,\n",
    "    idf,\n",
    "    indexer,\n",
    "    assembler\n",
    "])\n",
    "\n",
    "train, test = data.randomSplit([0.7, 0.3])"
   ],
   "metadata": {
    "collapsed": false,
    "ExecuteTime": {
     "end_time": "2024-06-16T10:21:09.970202Z",
     "start_time": "2024-06-16T10:21:09.762287Z"
    }
   },
   "id": "e4dc904cc43ea7ee"
  },
  {
   "cell_type": "code",
   "execution_count": 42,
   "outputs": [],
   "source": [
    "pipeline = pipeline.fit(train)\n",
    "train_transformed = pipeline.transform(train)\n",
    "test_transformed = pipeline.transform(test)"
   ],
   "metadata": {
    "collapsed": false,
    "ExecuteTime": {
     "end_time": "2024-06-16T10:22:38.528687Z",
     "start_time": "2024-06-16T10:22:34.561178Z"
    }
   },
   "id": "6a4be0f7a0ef4cfd"
  },
  {
   "cell_type": "code",
   "execution_count": 43,
   "outputs": [],
   "source": [
    "train_transformed = train_transformed.select(['features', 'label'])\n",
    "test_transformed = test_transformed.select(['features', 'label'])"
   ],
   "metadata": {
    "collapsed": false,
    "ExecuteTime": {
     "end_time": "2024-06-16T10:23:12.295288Z",
     "start_time": "2024-06-16T10:23:12.207573Z"
    }
   },
   "id": "2674877afff3c5ad"
  },
  {
   "cell_type": "code",
   "execution_count": 45,
   "outputs": [
    {
     "name": "stderr",
     "output_type": "stream",
     "text": [
      "                                                                                \r"
     ]
    }
   ],
   "source": [
    "model = NaiveBayes().fit(train_transformed)"
   ],
   "metadata": {
    "collapsed": false,
    "ExecuteTime": {
     "end_time": "2024-06-16T10:23:48.538390Z",
     "start_time": "2024-06-16T10:23:45.845441Z"
    }
   },
   "id": "e4bcd244c7f05d0"
  },
  {
   "cell_type": "code",
   "execution_count": 46,
   "outputs": [],
   "source": [
    "train_predictions = model.transform(train_transformed)\n",
    "test_predictions = model.transform(test_transformed)"
   ],
   "metadata": {
    "collapsed": false,
    "ExecuteTime": {
     "end_time": "2024-06-16T10:24:18.330064Z",
     "start_time": "2024-06-16T10:24:18.011251Z"
    }
   },
   "id": "ae7db7b75bea549"
  },
  {
   "cell_type": "code",
   "execution_count": 47,
   "outputs": [
    {
     "name": "stderr",
     "output_type": "stream",
     "text": [
      "24/06/16 17:24:23 WARN DAGScheduler: Broadcasting large task binary with size 1120.8 KiB\n"
     ]
    },
    {
     "name": "stdout",
     "output_type": "stream",
     "text": [
      "+--------------------+-----+--------------------+--------------------+----------+\n",
      "|            features|label|       rawPrediction|         probability|prediction|\n",
      "+--------------------+-----+--------------------+--------------------+----------+\n",
      "|(10800,[3,6,36,22...|  0.0|[-294.52390941693...|[1.0,1.8728937129...|       0.0|\n",
      "|(10800,[3,92,95,2...|  0.0|[-809.82392072852...|[1.0,1.1421553015...|       0.0|\n",
      "|(10800,[3,900,202...|  0.0|[-255.63134836049...|[1.0,2.0373222414...|       0.0|\n",
      "|(10800,[3,10,177,...|  0.0|[-984.61871104314...|[1.0,2.0406154539...|       0.0|\n",
      "|(10800,[3,108,223...|  0.0|[-946.99169727809...|[1.0,1.9758302697...|       0.0|\n",
      "|(10800,[0,3,13,17...|  0.0|[-1117.1196461143...|[1.0,7.1694161263...|       0.0|\n",
      "|(10800,[4,24,26,1...|  0.0|[-1116.8676841315...|[1.0,1.8997643707...|       0.0|\n",
      "|(10800,[2,8,26,49...|  0.0|[-1302.7843397029...|[1.0,4.2344701660...|       0.0|\n",
      "|(10800,[16,122,27...|  0.0|[-822.34184584247...|[1.0,3.0218180620...|       0.0|\n",
      "|(10800,[0,78,216,...|  0.0|[-906.36400873053...|[1.0,6.7526405506...|       0.0|\n",
      "|(10800,[3,6,59,25...|  0.0|[-250.85139799985...|[1.0,2.6653565943...|       0.0|\n",
      "|(10800,[3,6,40,56...|  0.0|[-633.47802706049...|[1.0,1.9883118510...|       0.0|\n",
      "|(10800,[3,6,297,7...|  0.0|[-302.35037011333...|[1.0,3.5525118044...|       0.0|\n",
      "|(10800,[0,2,3,5,6...|  0.0|[-2332.0609498756...|[1.0,8.3032424157...|       0.0|\n",
      "|(10800,[6,243,338...|  0.0|[-322.80747515083...|[1.0,1.3610808443...|       0.0|\n",
      "|(10800,[7,122,228...|  0.0|[-1605.1713158644...|[1.0,1.7133070186...|       0.0|\n",
      "|(10800,[177,315,8...|  0.0|[-532.40893231487...|[1.0,3.2510877770...|       0.0|\n",
      "|(10800,[5,17,98,1...|  0.0|[-649.92385263233...|[1.0,7.3118077892...|       0.0|\n",
      "|(10800,[106,412,1...|  0.0|[-499.36565238175...|[1.0,1.5414693036...|       0.0|\n",
      "|(10800,[20,26,108...|  0.0|[-275.40500548217...|[1.0,3.1121830689...|       0.0|\n",
      "+--------------------+-----+--------------------+--------------------+----------+\n"
     ]
    },
    {
     "name": "stderr",
     "output_type": "stream",
     "text": [
      "24/06/16 17:24:24 WARN InstanceBuilder: Failed to load implementation from:dev.ludovic.netlib.blas.JNIBLAS\n"
     ]
    }
   ],
   "source": [
    "train_predictions.show()"
   ],
   "metadata": {
    "collapsed": false,
    "ExecuteTime": {
     "end_time": "2024-06-16T10:24:24.269145Z",
     "start_time": "2024-06-16T10:24:23.409196Z"
    }
   },
   "id": "120e09140b481d48"
  },
  {
   "cell_type": "code",
   "execution_count": 48,
   "outputs": [],
   "source": [
    "from pyspark.ml.evaluation import MulticlassClassificationEvaluator"
   ],
   "metadata": {
    "collapsed": false,
    "ExecuteTime": {
     "end_time": "2024-06-16T10:24:35.738162Z",
     "start_time": "2024-06-16T10:24:35.715569Z"
    }
   },
   "id": "c0185e080da6c558"
  },
  {
   "cell_type": "code",
   "execution_count": 49,
   "outputs": [
    {
     "name": "stderr",
     "output_type": "stream",
     "text": [
      "24/06/16 17:25:47 WARN DAGScheduler: Broadcasting large task binary with size 1125.8 KiB\n",
      "24/06/16 17:25:48 WARN DAGScheduler: Broadcasting large task binary with size 1125.8 KiB\n",
      "                                                                                \r"
     ]
    }
   ],
   "source": [
    "evaluator = MulticlassClassificationEvaluator(metricName='accuracy')\n",
    "train_accuracy = evaluator.evaluate(train_predictions)\n",
    "test_accuracy = evaluator.evaluate(test_predictions)"
   ],
   "metadata": {
    "collapsed": false,
    "ExecuteTime": {
     "end_time": "2024-06-16T10:25:50.004082Z",
     "start_time": "2024-06-16T10:25:46.275740Z"
    }
   },
   "id": "83ac87c506b74b48"
  },
  {
   "cell_type": "code",
   "execution_count": 50,
   "outputs": [
    {
     "data": {
      "text/plain": "0.9959204487506375"
     },
     "execution_count": 50,
     "metadata": {},
     "output_type": "execute_result"
    }
   ],
   "source": [
    "train_accuracy"
   ],
   "metadata": {
    "collapsed": false,
    "ExecuteTime": {
     "end_time": "2024-06-16T10:26:05.283821Z",
     "start_time": "2024-06-16T10:26:05.244815Z"
    }
   },
   "id": "2668a296b65b9ec4"
  },
  {
   "cell_type": "code",
   "execution_count": 51,
   "outputs": [
    {
     "data": {
      "text/plain": "0.9769975786924939"
     },
     "execution_count": 51,
     "metadata": {},
     "output_type": "execute_result"
    }
   ],
   "source": [
    "test_accuracy"
   ],
   "metadata": {
    "collapsed": false,
    "ExecuteTime": {
     "end_time": "2024-06-16T10:26:08.718523Z",
     "start_time": "2024-06-16T10:26:08.698100Z"
    }
   },
   "id": "d0650a81a2478497"
  }
 ],
 "metadata": {
  "kernelspec": {
   "display_name": "Python 3",
   "language": "python",
   "name": "python3"
  },
  "language_info": {
   "codemirror_mode": {
    "name": "ipython",
    "version": 2
   },
   "file_extension": ".py",
   "mimetype": "text/x-python",
   "name": "python",
   "nbconvert_exporter": "python",
   "pygments_lexer": "ipython2",
   "version": "2.7.6"
  }
 },
 "nbformat": 4,
 "nbformat_minor": 5
}
