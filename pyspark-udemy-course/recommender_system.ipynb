{
 "cells": [
  {
   "cell_type": "markdown",
   "source": [
    "# Recommender System"
   ],
   "metadata": {
    "collapsed": false
   },
   "id": "5ec8c1e1bb5a70b9"
  },
  {
   "cell_type": "code",
   "execution_count": 1,
   "outputs": [],
   "source": [
    "from pyspark.sql import SparkSession"
   ],
   "metadata": {
    "collapsed": false,
    "ExecuteTime": {
     "end_time": "2024-06-13T13:36:57.600610Z",
     "start_time": "2024-06-13T13:36:57.321023Z"
    }
   },
   "id": "25f14baccff700f4"
  },
  {
   "cell_type": "code",
   "execution_count": 2,
   "outputs": [
    {
     "name": "stderr",
     "output_type": "stream",
     "text": [
      "24/06/13 20:37:14 WARN Utils: Your hostname, agusrichard.local resolves to a loopback address: 127.0.0.1; using 172.20.10.3 instead (on interface en0)\n",
      "24/06/13 20:37:14 WARN Utils: Set SPARK_LOCAL_IP if you need to bind to another address\n",
      "Setting default log level to \"WARN\".\n",
      "To adjust logging level use sc.setLogLevel(newLevel). For SparkR, use setLogLevel(newLevel).\n",
      "24/06/13 20:37:15 WARN NativeCodeLoader: Unable to load native-hadoop library for your platform... using builtin-java classes where applicable\n"
     ]
    }
   ],
   "source": [
    "spark = SparkSession.builder.appName('rec').getOrCreate()"
   ],
   "metadata": {
    "collapsed": false,
    "ExecuteTime": {
     "end_time": "2024-06-13T13:37:18.118790Z",
     "start_time": "2024-06-13T13:37:10.997793Z"
    }
   },
   "id": "271c9138b7ac38a7"
  },
  {
   "cell_type": "code",
   "execution_count": 3,
   "outputs": [
    {
     "name": "stderr",
     "output_type": "stream",
     "text": [
      "                                                                                \r"
     ]
    },
    {
     "name": "stdout",
     "output_type": "stream",
     "text": [
      "+-------+------+------+\n",
      "|movieId|rating|userId|\n",
      "+-------+------+------+\n",
      "|      2|   3.0|     0|\n",
      "|      3|   1.0|     0|\n",
      "|      5|   2.0|     0|\n",
      "|      9|   4.0|     0|\n",
      "|     11|   1.0|     0|\n",
      "|     12|   2.0|     0|\n",
      "|     15|   1.0|     0|\n",
      "|     17|   1.0|     0|\n",
      "|     19|   1.0|     0|\n",
      "|     21|   1.0|     0|\n",
      "|     23|   1.0|     0|\n",
      "|     26|   3.0|     0|\n",
      "|     27|   1.0|     0|\n",
      "|     28|   1.0|     0|\n",
      "|     29|   1.0|     0|\n",
      "|     30|   1.0|     0|\n",
      "|     31|   1.0|     0|\n",
      "|     34|   1.0|     0|\n",
      "|     37|   1.0|     0|\n",
      "|     41|   2.0|     0|\n",
      "+-------+------+------+\n"
     ]
    }
   ],
   "source": [
    "df = spark.read.csv('./files/movielens_ratings.csv', inferSchema=True, header=True)\n",
    "df.show()"
   ],
   "metadata": {
    "collapsed": false,
    "ExecuteTime": {
     "end_time": "2024-06-13T13:38:02.115914Z",
     "start_time": "2024-06-13T13:37:51.991921Z"
    }
   },
   "id": "12fa4101771d63f4"
  },
  {
   "cell_type": "code",
   "execution_count": 4,
   "outputs": [
    {
     "data": {
      "text/plain": "DataFrame[summary: string, movieId: string, rating: string, userId: string]"
     },
     "execution_count": 4,
     "metadata": {},
     "output_type": "execute_result"
    }
   ],
   "source": [
    "df.describe()"
   ],
   "metadata": {
    "collapsed": false,
    "ExecuteTime": {
     "end_time": "2024-06-13T13:38:02.330179Z",
     "start_time": "2024-06-13T13:38:02.088125Z"
    }
   },
   "id": "a53ee260e9611e0e"
  },
  {
   "cell_type": "code",
   "execution_count": 13,
   "outputs": [],
   "source": [
    "train_set, test_set= df.randomSplit([0.8, 0.2], seed=21)"
   ],
   "metadata": {
    "collapsed": false,
    "ExecuteTime": {
     "end_time": "2024-06-13T13:42:06.072794Z",
     "start_time": "2024-06-13T13:42:06.041538Z"
    }
   },
   "id": "90ec2b247bc5e5b8"
  },
  {
   "cell_type": "code",
   "execution_count": 14,
   "outputs": [],
   "source": [
    "from pyspark.ml.recommendation import ALS"
   ],
   "metadata": {
    "collapsed": false,
    "ExecuteTime": {
     "end_time": "2024-06-13T13:42:06.516745Z",
     "start_time": "2024-06-13T13:42:06.500713Z"
    }
   },
   "id": "dfaa48938f2a4ec0"
  },
  {
   "cell_type": "code",
   "execution_count": 15,
   "outputs": [],
   "source": [
    "model = ALS(maxIter=5, regParam=0.01, userCol='userId', ratingCol='rating', itemCol='movieId')"
   ],
   "metadata": {
    "collapsed": false,
    "ExecuteTime": {
     "end_time": "2024-06-13T13:42:07.018868Z",
     "start_time": "2024-06-13T13:42:07.009499Z"
    }
   },
   "id": "4aee730c826240c1"
  },
  {
   "cell_type": "code",
   "execution_count": 16,
   "outputs": [
    {
     "name": "stderr",
     "output_type": "stream",
     "text": [
      "                                                                                \r"
     ]
    }
   ],
   "source": [
    "model = model.fit(train_set)"
   ],
   "metadata": {
    "collapsed": false,
    "ExecuteTime": {
     "end_time": "2024-06-13T13:42:12.152510Z",
     "start_time": "2024-06-13T13:42:07.392393Z"
    }
   },
   "id": "fab5aecf7c2c7d0b"
  },
  {
   "cell_type": "code",
   "execution_count": 17,
   "outputs": [],
   "source": [
    "predictions = model.transform(test_set)"
   ],
   "metadata": {
    "collapsed": false,
    "ExecuteTime": {
     "end_time": "2024-06-13T13:42:13.545588Z",
     "start_time": "2024-06-13T13:42:13.364392Z"
    }
   },
   "id": "d387fe3fda20cc1a"
  },
  {
   "cell_type": "code",
   "execution_count": 18,
   "outputs": [
    {
     "name": "stdout",
     "output_type": "stream",
     "text": [
      "+-------+------+------+-----------+\n",
      "|movieId|rating|userId| prediction|\n",
      "+-------+------+------+-----------+\n",
      "|      7|   1.0|    28|  3.8796492|\n",
      "|      5|   2.0|    26|  1.2893656|\n",
      "|      5|   2.0|    22|-0.37337485|\n",
      "|      4|   2.0|     1|  1.4325057|\n",
      "|      6|   1.0|     6| 0.96962756|\n",
      "|      6|   2.0|    16| 0.87772256|\n",
      "|      2|   2.0|    20|-0.27982447|\n",
      "|      6|   1.0|    20|  1.7459638|\n",
      "|      5|   1.0|     5|  0.6788409|\n",
      "|      5|   2.0|    15|  0.2576093|\n",
      "|      7|   5.0|     9|   2.816122|\n",
      "|      6|   1.0|     4|  1.5332997|\n",
      "|      5|   1.0|     8|  1.8400079|\n",
      "|      0|   1.0|    23|  1.6167369|\n",
      "|      6|   3.0|    24|  1.6449468|\n",
      "|      7|   1.0|    24| 0.48206958|\n",
      "|      5|   1.0|    29|  1.0689286|\n",
      "|      6|   2.0|    11|   2.482323|\n",
      "|      1|   1.0|    14|  3.2095912|\n",
      "|      4|   1.0|    14|   1.173182|\n",
      "+-------+------+------+-----------+\n"
     ]
    }
   ],
   "source": [
    "predictions.show()"
   ],
   "metadata": {
    "collapsed": false,
    "ExecuteTime": {
     "end_time": "2024-06-13T13:42:18.279402Z",
     "start_time": "2024-06-13T13:42:15.877049Z"
    }
   },
   "id": "75662ef3fc17392f"
  },
  {
   "cell_type": "code",
   "execution_count": 19,
   "outputs": [],
   "source": [
    "from pyspark.ml.evaluation import RegressionEvaluator"
   ],
   "metadata": {
    "collapsed": false,
    "ExecuteTime": {
     "end_time": "2024-06-13T13:42:39.701293Z",
     "start_time": "2024-06-13T13:42:39.694660Z"
    }
   },
   "id": "7c5717104ac66b17"
  },
  {
   "cell_type": "code",
   "execution_count": 22,
   "outputs": [],
   "source": [
    "evaluator = RegressionEvaluator(metricName='rmse', labelCol='rating', predictionCol='prediction')"
   ],
   "metadata": {
    "collapsed": false,
    "ExecuteTime": {
     "end_time": "2024-06-13T13:43:44.112318Z",
     "start_time": "2024-06-13T13:43:44.102168Z"
    }
   },
   "id": "d2f0597ee55e23b6"
  },
  {
   "cell_type": "code",
   "execution_count": 23,
   "outputs": [
    {
     "name": "stderr",
     "output_type": "stream",
     "text": [
      "                                                                                \r"
     ]
    },
    {
     "data": {
      "text/plain": "1.6905918765503232"
     },
     "execution_count": 23,
     "metadata": {},
     "output_type": "execute_result"
    }
   ],
   "source": [
    "rmse = evaluator.evaluate(predictions)\n",
    "rmse"
   ],
   "metadata": {
    "collapsed": false,
    "ExecuteTime": {
     "end_time": "2024-06-13T13:43:46.845222Z",
     "start_time": "2024-06-13T13:43:44.650238Z"
    }
   },
   "id": "d5552c57177bef1a"
  },
  {
   "cell_type": "code",
   "execution_count": 25,
   "outputs": [],
   "source": [
    "single_user = test_set.filter(test_set['userId']==11).select(['movieId','userId'])"
   ],
   "metadata": {
    "collapsed": false,
    "ExecuteTime": {
     "end_time": "2024-06-13T13:44:08.658133Z",
     "start_time": "2024-06-13T13:44:08.521555Z"
    }
   },
   "id": "e85a141cd2c6f466"
  },
  {
   "cell_type": "code",
   "execution_count": 26,
   "outputs": [
    {
     "name": "stdout",
     "output_type": "stream",
     "text": [
      "+-------+------+\n",
      "|movieId|userId|\n",
      "+-------+------+\n",
      "|      6|    11|\n",
      "|     12|    11|\n",
      "|     13|    11|\n",
      "|     16|    11|\n",
      "|     18|    11|\n",
      "|     22|    11|\n",
      "|     23|    11|\n",
      "|     45|    11|\n",
      "|     47|    11|\n",
      "|     48|    11|\n",
      "|     59|    11|\n",
      "|     67|    11|\n",
      "|     77|    11|\n",
      "|     86|    11|\n",
      "|     89|    11|\n",
      "+-------+------+\n"
     ]
    }
   ],
   "source": [
    "# User had 10 ratings in the test data set \n",
    "# Realistically this should be some sort of hold out set!\n",
    "single_user.show()"
   ],
   "metadata": {
    "collapsed": false,
    "ExecuteTime": {
     "end_time": "2024-06-13T13:44:18.726248Z",
     "start_time": "2024-06-13T13:44:18.434552Z"
    }
   },
   "id": "e2e51d2ed8aee9d3"
  },
  {
   "cell_type": "code",
   "execution_count": 27,
   "outputs": [
    {
     "name": "stderr",
     "output_type": "stream",
     "text": [
      "                                                                                \r"
     ]
    },
    {
     "name": "stdout",
     "output_type": "stream",
     "text": [
      "+-------+------+------------+\n",
      "|movieId|userId|  prediction|\n",
      "+-------+------+------------+\n",
      "|     22|    11|     4.02939|\n",
      "|     77|    11|    3.696883|\n",
      "|     47|    11|   3.4542265|\n",
      "|     18|    11|   2.7679029|\n",
      "|     12|    11|   2.5746477|\n",
      "|      6|    11|    2.482323|\n",
      "|     59|    11|   2.4171772|\n",
      "|     16|    11|   2.3616102|\n",
      "|     23|    11|   2.0331204|\n",
      "|     13|    11|   1.5594766|\n",
      "|     48|    11|   1.5316263|\n",
      "|     86|    11|   1.3266013|\n",
      "|     45|    11|    1.008357|\n",
      "|     67|    11|   0.8548553|\n",
      "|     89|    11|-0.071447566|\n",
      "+-------+------+------------+\n"
     ]
    }
   ],
   "source": [
    "reccomendations = model.transform(single_user)\n",
    "reccomendations.orderBy('prediction',ascending=False).show()"
   ],
   "metadata": {
    "collapsed": false,
    "ExecuteTime": {
     "end_time": "2024-06-13T13:44:32.157636Z",
     "start_time": "2024-06-13T13:44:30.032803Z"
    }
   },
   "id": "69430496664d4108"
  },
  {
   "cell_type": "code",
   "execution_count": null,
   "outputs": [],
   "source": [],
   "metadata": {
    "collapsed": false
   },
   "id": "6cbda63729029e70"
  }
 ],
 "metadata": {
  "kernelspec": {
   "display_name": "Python 3",
   "language": "python",
   "name": "python3"
  },
  "language_info": {
   "codemirror_mode": {
    "name": "ipython",
    "version": 2
   },
   "file_extension": ".py",
   "mimetype": "text/x-python",
   "name": "python",
   "nbconvert_exporter": "python",
   "pygments_lexer": "ipython2",
   "version": "2.7.6"
  }
 },
 "nbformat": 4,
 "nbformat_minor": 5
}
