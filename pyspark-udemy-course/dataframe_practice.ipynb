{
 "cells": [
  {
   "cell_type": "markdown",
   "id": "1536b53f-fa75-4e14-80a2-39a8b09c98f9",
   "metadata": {},
   "source": [
    "# Spark and PySpark Udemy Course"
   ]
  },
  {
   "cell_type": "markdown",
   "source": [
    "## Introduction"
   ],
   "metadata": {
    "collapsed": false
   },
   "id": "c94f71c229b58a18"
  },
  {
   "cell_type": "code",
   "execution_count": 1,
   "id": "c04fd163-d924-4a0d-a0ca-7cb9cf332d14",
   "metadata": {
    "editable": true,
    "slideshow": {
     "slide_type": ""
    },
    "tags": [],
    "ExecuteTime": {
     "end_time": "2024-06-05T13:02:34.220988Z",
     "start_time": "2024-06-05T13:02:34.141078Z"
    }
   },
   "outputs": [],
   "source": [
    "from pyspark.sql import SparkSession"
   ]
  },
  {
   "cell_type": "code",
   "execution_count": 2,
   "id": "70dc773d-3c3a-4f10-b5a4-f1a8b52fa344",
   "metadata": {
    "ExecuteTime": {
     "end_time": "2024-06-05T13:02:40.862806Z",
     "start_time": "2024-06-05T13:02:34.197183Z"
    }
   },
   "outputs": [
    {
     "name": "stderr",
     "output_type": "stream",
     "text": [
      "24/06/05 20:02:37 WARN Utils: Your hostname, agusrichard.local resolves to a loopback address: 127.0.0.1; using 192.168.0.103 instead (on interface en0)\n",
      "24/06/05 20:02:37 WARN Utils: Set SPARK_LOCAL_IP if you need to bind to another address\n",
      "Setting default log level to \"WARN\".\n",
      "To adjust logging level use sc.setLogLevel(newLevel). For SparkR, use setLogLevel(newLevel).\n",
      "24/06/05 20:02:38 WARN NativeCodeLoader: Unable to load native-hadoop library for your platform... using builtin-java classes where applicable\n"
     ]
    }
   ],
   "source": [
    "spark = SparkSession.builder.appName(\"basics\").getOrCreate()"
   ]
  },
  {
   "cell_type": "code",
   "execution_count": 3,
   "id": "028d2d26-67d8-414a-8b79-5ea0837d0b8f",
   "metadata": {
    "ExecuteTime": {
     "end_time": "2024-06-05T13:02:49.660973Z",
     "start_time": "2024-06-05T13:02:41.600521Z"
    }
   },
   "outputs": [
    {
     "name": "stderr",
     "output_type": "stream",
     "text": [
      "                                                                                \r"
     ]
    }
   ],
   "source": [
    "df = spark.read.csv(\"./files/mydata.csv\", header='true')"
   ]
  },
  {
   "cell_type": "code",
   "execution_count": 4,
   "id": "da32eb3c-c570-42b7-9092-04e14642b3be",
   "metadata": {
    "ExecuteTime": {
     "end_time": "2024-06-05T13:02:50.221799Z",
     "start_time": "2024-06-05T13:02:49.657809Z"
    }
   },
   "outputs": [
    {
     "name": "stdout",
     "output_type": "stream",
     "text": [
      "+-----+-----+\n",
      "| name|sales|\n",
      "+-----+-----+\n",
      "| John|  100|\n",
      "|Cindy|   86|\n",
      "| Carl|  230|\n",
      "+-----+-----+\n"
     ]
    }
   ],
   "source": [
    "df.show()"
   ]
  },
  {
   "cell_type": "code",
   "execution_count": 5,
   "id": "3d1ce17f-551e-47d5-a65a-60c45c36ad9c",
   "metadata": {
    "ExecuteTime": {
     "end_time": "2024-06-05T13:02:50.252782Z",
     "start_time": "2024-06-05T13:02:50.222569Z"
    }
   },
   "outputs": [
    {
     "name": "stdout",
     "output_type": "stream",
     "text": [
      "root\n",
      " |-- name: string (nullable = true)\n",
      " |-- sales: string (nullable = true)\n"
     ]
    }
   ],
   "source": [
    "df.printSchema()"
   ]
  },
  {
   "cell_type": "code",
   "execution_count": 6,
   "id": "64b288f1-6e39-4848-8485-1912336a1e81",
   "metadata": {
    "ExecuteTime": {
     "end_time": "2024-06-05T13:02:53.250664Z",
     "start_time": "2024-06-05T13:02:50.227816Z"
    }
   },
   "outputs": [
    {
     "name": "stderr",
     "output_type": "stream",
     "text": [
      "                                                                                \r"
     ]
    },
    {
     "name": "stdout",
     "output_type": "stream",
     "text": [
      "+-------+----+------------------+\n",
      "|summary|name|             sales|\n",
      "+-------+----+------------------+\n",
      "|  count|   3|                 3|\n",
      "|   mean|NULL|138.66666666666666|\n",
      "| stddev|NULL| 79.40612906654835|\n",
      "|    min|Carl|               100|\n",
      "|    max|John|                86|\n",
      "+-------+----+------------------+\n"
     ]
    }
   ],
   "source": [
    "df.describe().show()"
   ]
  },
  {
   "cell_type": "code",
   "execution_count": 7,
   "id": "38735758-514d-45b5-80dd-63292db67010",
   "metadata": {
    "ExecuteTime": {
     "end_time": "2024-06-05T13:02:53.250998Z",
     "start_time": "2024-06-05T13:02:53.228229Z"
    }
   },
   "outputs": [],
   "source": [
    "from pyspark.sql.types import (\n",
    "    StructType, StructField,\n",
    "    StringType, IntegerType\n",
    ")"
   ]
  },
  {
   "cell_type": "code",
   "execution_count": 8,
   "id": "0cf1e72e-0883-443d-8132-bf4d257556f2",
   "metadata": {
    "ExecuteTime": {
     "end_time": "2024-06-05T13:02:53.251120Z",
     "start_time": "2024-06-05T13:02:53.231921Z"
    }
   },
   "outputs": [],
   "source": [
    "columns_schema = [\n",
    "    StructField('name', StringType(), True),\n",
    "    StructField('sales', IntegerType(), True)\n",
    "]"
   ]
  },
  {
   "cell_type": "code",
   "execution_count": 9,
   "id": "5b47d60f-f55b-4f8a-a4cc-6d245f00a89c",
   "metadata": {
    "ExecuteTime": {
     "end_time": "2024-06-05T13:02:53.251319Z",
     "start_time": "2024-06-05T13:02:53.236084Z"
    }
   },
   "outputs": [],
   "source": [
    "schema = StructType(fields=columns_schema)"
   ]
  },
  {
   "cell_type": "code",
   "execution_count": 10,
   "id": "772bcc22-08e9-4e4e-be28-00ae6881335a",
   "metadata": {
    "ExecuteTime": {
     "end_time": "2024-06-05T13:02:53.363322Z",
     "start_time": "2024-06-05T13:02:53.239320Z"
    }
   },
   "outputs": [],
   "source": [
    "df = spark.read.csv(\"./files/mydata.csv\", header=True, schema=schema)"
   ]
  },
  {
   "cell_type": "code",
   "execution_count": 11,
   "id": "75698113-67cb-4b7b-a229-874fab0eef91",
   "metadata": {
    "ExecuteTime": {
     "end_time": "2024-06-05T13:02:53.556441Z",
     "start_time": "2024-06-05T13:02:53.319082Z"
    }
   },
   "outputs": [
    {
     "name": "stdout",
     "output_type": "stream",
     "text": [
      "+-----+-----+\n",
      "| name|sales|\n",
      "+-----+-----+\n",
      "| John|  100|\n",
      "|Cindy|   86|\n",
      "| Carl|  230|\n",
      "+-----+-----+\n"
     ]
    }
   ],
   "source": [
    "df.show()"
   ]
  },
  {
   "cell_type": "markdown",
   "source": [
    "## Select colums"
   ],
   "metadata": {
    "collapsed": false
   },
   "id": "1dd8a324ec39ea72"
  },
  {
   "cell_type": "code",
   "execution_count": 13,
   "id": "5c031e92-9e71-4c1f-b32f-a26cce6c48d7",
   "metadata": {
    "ExecuteTime": {
     "end_time": "2024-06-05T13:03:32.083455Z",
     "start_time": "2024-06-05T13:03:31.330449Z"
    }
   },
   "outputs": [
    {
     "name": "stdout",
     "output_type": "stream",
     "text": [
      "+-----+\n",
      "|sales|\n",
      "+-----+\n",
      "|  100|\n",
      "|   86|\n",
      "|  230|\n",
      "+-----+\n"
     ]
    }
   ],
   "source": [
    "df.select('sales').show()"
   ]
  },
  {
   "cell_type": "code",
   "execution_count": 14,
   "outputs": [
    {
     "name": "stdout",
     "output_type": "stream",
     "text": [
      "+-----+-----+\n",
      "| name|sales|\n",
      "+-----+-----+\n",
      "| John|  100|\n",
      "|Cindy|   86|\n",
      "| Carl|  230|\n",
      "+-----+-----+\n"
     ]
    }
   ],
   "source": [
    "df.select(['name', 'sales']).show()"
   ],
   "metadata": {
    "collapsed": false,
    "ExecuteTime": {
     "end_time": "2024-06-05T13:03:47.551870Z",
     "start_time": "2024-06-05T13:03:47.326942Z"
    }
   },
   "id": "ca01ee35e0f0ec3f"
  },
  {
   "cell_type": "markdown",
   "source": [
    "## Create a new column"
   ],
   "metadata": {
    "collapsed": false
   },
   "id": "9c0b565683e1558d"
  },
  {
   "cell_type": "code",
   "execution_count": 15,
   "outputs": [
    {
     "name": "stdout",
     "output_type": "stream",
     "text": [
      "+-----+-----+------------+\n",
      "| name|sales|double_sales|\n",
      "+-----+-----+------------+\n",
      "| John|  100|         200|\n",
      "|Cindy|   86|         172|\n",
      "| Carl|  230|         460|\n",
      "+-----+-----+------------+\n"
     ]
    }
   ],
   "source": [
    "df_new = df.withColumn('double_sales', df['sales']*2)\n",
    "df_new.show()"
   ],
   "metadata": {
    "collapsed": false,
    "ExecuteTime": {
     "end_time": "2024-06-05T13:04:28.960135Z",
     "start_time": "2024-06-05T13:04:28.394003Z"
    }
   },
   "id": "306b4e9f2d696e92"
  },
  {
   "cell_type": "code",
   "execution_count": 25,
   "outputs": [],
   "source": [
    "sales_average = df.agg({'sales': 'mean'}).collect()"
   ],
   "metadata": {
    "collapsed": false,
    "ExecuteTime": {
     "end_time": "2024-06-05T13:07:55.235403Z",
     "start_time": "2024-06-05T13:07:54.594242Z"
    }
   },
   "id": "90a1c52ee5e91aa3"
  },
  {
   "cell_type": "code",
   "execution_count": 26,
   "outputs": [],
   "source": [
    "sales_average = sales_average[0].asDict()['avg(sales)']"
   ],
   "metadata": {
    "collapsed": false,
    "ExecuteTime": {
     "end_time": "2024-06-05T13:08:19.459549Z",
     "start_time": "2024-06-05T13:08:19.455735Z"
    }
   },
   "id": "9ce6a32b37d583ab"
  },
  {
   "cell_type": "code",
   "execution_count": 27,
   "outputs": [
    {
     "data": {
      "text/plain": "138.66666666666666"
     },
     "execution_count": 27,
     "metadata": {},
     "output_type": "execute_result"
    }
   ],
   "source": [
    "sales_average"
   ],
   "metadata": {
    "collapsed": false,
    "ExecuteTime": {
     "end_time": "2024-06-05T13:08:23.877289Z",
     "start_time": "2024-06-05T13:08:23.831941Z"
    }
   },
   "id": "50d543e970bb2e4"
  },
  {
   "cell_type": "code",
   "execution_count": 28,
   "outputs": [],
   "source": [
    "df_new = df_new.withColumn('greater_than_mean_sales', df['sales'] > sales_average)"
   ],
   "metadata": {
    "collapsed": false,
    "ExecuteTime": {
     "end_time": "2024-06-05T13:08:57.373941Z",
     "start_time": "2024-06-05T13:08:57.287514Z"
    }
   },
   "id": "45379e02ebc6cfd2"
  },
  {
   "cell_type": "code",
   "execution_count": 29,
   "outputs": [
    {
     "name": "stdout",
     "output_type": "stream",
     "text": [
      "+-----+-----+------------+-----------------------+\n",
      "| name|sales|double_sales|greater_than_mean_sales|\n",
      "+-----+-----+------------+-----------------------+\n",
      "| John|  100|         200|                  false|\n",
      "|Cindy|   86|         172|                  false|\n",
      "| Carl|  230|         460|                   true|\n",
      "+-----+-----+------------+-----------------------+\n"
     ]
    }
   ],
   "source": [
    "df_new.show()"
   ],
   "metadata": {
    "collapsed": false,
    "ExecuteTime": {
     "end_time": "2024-06-05T13:09:00.431970Z",
     "start_time": "2024-06-05T13:09:00.082027Z"
    }
   },
   "id": "2b6a248da264179e"
  },
  {
   "cell_type": "markdown",
   "source": [
    "## Use SQL query to select data"
   ],
   "metadata": {
    "collapsed": false
   },
   "id": "3b6301cb5c83fa5f"
  },
  {
   "cell_type": "code",
   "execution_count": 30,
   "outputs": [],
   "source": [
    "df.createOrReplaceTempView('sales')"
   ],
   "metadata": {
    "collapsed": false,
    "ExecuteTime": {
     "end_time": "2024-06-05T13:09:27.489111Z",
     "start_time": "2024-06-05T13:09:27.321484Z"
    }
   },
   "id": "522e19cb8a793d5d"
  },
  {
   "cell_type": "code",
   "execution_count": 31,
   "outputs": [
    {
     "name": "stdout",
     "output_type": "stream",
     "text": [
      "+-----+-----+\n",
      "| name|sales|\n",
      "+-----+-----+\n",
      "| John|  100|\n",
      "|Cindy|   86|\n",
      "| Carl|  230|\n",
      "+-----+-----+\n"
     ]
    },
    {
     "name": "stderr",
     "output_type": "stream",
     "text": [
      "                                                                                \r"
     ]
    }
   ],
   "source": [
    "df_result = spark.sql(\"SELECT * FROM sales\")\n",
    "df_result.show()"
   ],
   "metadata": {
    "collapsed": false,
    "ExecuteTime": {
     "end_time": "2024-06-05T13:09:59.866704Z",
     "start_time": "2024-06-05T13:09:58.894431Z"
    }
   },
   "id": "79df9c8ac8c1c2a1"
  },
  {
   "cell_type": "code",
   "execution_count": 32,
   "outputs": [
    {
     "name": "stdout",
     "output_type": "stream",
     "text": [
      "+----+-----+\n",
      "|name|sales|\n",
      "+----+-----+\n",
      "|Carl|  230|\n",
      "+----+-----+\n"
     ]
    }
   ],
   "source": [
    "spark.sql(\"SELECT * FROM sales WHERE sales > 100\").show()"
   ],
   "metadata": {
    "collapsed": false,
    "ExecuteTime": {
     "end_time": "2024-06-05T13:10:24.692194Z",
     "start_time": "2024-06-05T13:10:23.891552Z"
    }
   },
   "id": "2ef3cdd33b61f444"
  },
  {
   "cell_type": "markdown",
   "source": [
    "## Filtering data"
   ],
   "metadata": {
    "collapsed": false
   },
   "id": "640f23ac1751d89b"
  },
  {
   "cell_type": "code",
   "execution_count": 33,
   "outputs": [
    {
     "name": "stderr",
     "output_type": "stream",
     "text": [
      "24/06/05 20:12:41 WARN SparkSession: Using an existing Spark session; only runtime SQL configurations will take effect.\n"
     ]
    }
   ],
   "source": [
    "spark = SparkSession.builder.appName(\"operations\").getOrCreate()"
   ],
   "metadata": {
    "collapsed": false,
    "ExecuteTime": {
     "end_time": "2024-06-05T13:12:41.910109Z",
     "start_time": "2024-06-05T13:12:41.810121Z"
    }
   },
   "id": "577869aab0df6ae4"
  },
  {
   "cell_type": "code",
   "execution_count": 34,
   "outputs": [],
   "source": [
    "df = spark.read.csv(\"./files/appl_stock.csv\", header=True, inferSchema=True)"
   ],
   "metadata": {
    "collapsed": false,
    "ExecuteTime": {
     "end_time": "2024-06-05T13:13:39.357938Z",
     "start_time": "2024-06-05T13:13:38.079112Z"
    }
   },
   "id": "4643c21143658af7"
  },
  {
   "cell_type": "code",
   "execution_count": 35,
   "outputs": [
    {
     "name": "stdout",
     "output_type": "stream",
     "text": [
      "root\n",
      " |-- Date: date (nullable = true)\n",
      " |-- Open: double (nullable = true)\n",
      " |-- High: double (nullable = true)\n",
      " |-- Low: double (nullable = true)\n",
      " |-- Close: double (nullable = true)\n",
      " |-- Volume: integer (nullable = true)\n",
      " |-- Adj Close: double (nullable = true)\n"
     ]
    }
   ],
   "source": [
    "df.printSchema()"
   ],
   "metadata": {
    "collapsed": false,
    "ExecuteTime": {
     "end_time": "2024-06-05T13:13:41.971745Z",
     "start_time": "2024-06-05T13:13:41.944823Z"
    }
   },
   "id": "2418dd12f01ff15e"
  },
  {
   "cell_type": "code",
   "execution_count": 37,
   "outputs": [
    {
     "name": "stdout",
     "output_type": "stream",
     "text": [
      "+----------+------------------+------------------+------------------+------------------+---------+------------------+\n",
      "|      Date|              Open|              High|               Low|             Close|   Volume|         Adj Close|\n",
      "+----------+------------------+------------------+------------------+------------------+---------+------------------+\n",
      "|2010-01-04|        213.429998|        214.499996|212.38000099999996|        214.009998|123432400|         27.727039|\n",
      "|2010-01-05|        214.599998|        215.589994|        213.249994|        214.379993|150476200|27.774976000000002|\n",
      "|2010-01-06|        214.379993|            215.23|        210.750004|        210.969995|138040000|27.333178000000004|\n",
      "|2010-01-07|            211.75|        212.000006|        209.050005|            210.58|119282800|          27.28265|\n",
      "|2010-01-08|        210.299994|        212.000006|209.06000500000002|211.98000499999998|111902700|         27.464034|\n",
      "|2010-01-11|212.79999700000002|        213.000002|        208.450005|210.11000299999998|115557400|         27.221758|\n",
      "|2010-01-12|209.18999499999998|209.76999500000002|        206.419998|        207.720001|148614900|          26.91211|\n",
      "|2010-01-13|        207.870005|210.92999500000002|        204.099998|        210.650002|151473000|          27.29172|\n",
      "|2010-01-14|210.11000299999998|210.45999700000002|        209.020004|            209.43|108223500|         27.133657|\n",
      "|2010-01-15|210.92999500000002|211.59999700000003|        205.869999|            205.93|148516900|26.680197999999997|\n",
      "|2010-01-19|        208.330002|215.18999900000003|        207.240004|        215.039995|182501900|27.860484999999997|\n",
      "|2010-01-20|        214.910006|        215.549994|        209.500002|            211.73|153038200|         27.431644|\n",
      "|2010-01-21|        212.079994|213.30999599999998|        207.210003|        208.069996|152038600|         26.957455|\n",
      "|2010-01-22|206.78000600000001|        207.499996|            197.16|            197.75|220441900|         25.620401|\n",
      "|2010-01-25|202.51000200000001|        204.699999|        200.190002|        203.070002|266424900|26.309658000000002|\n",
      "|2010-01-26|205.95000100000001|        213.710005|        202.580004|        205.940001|466777500|         26.681494|\n",
      "|2010-01-27|        206.849995|            210.58|        199.530001|        207.880005|430642100|26.932840000000002|\n",
      "|2010-01-28|        204.930004|        205.500004|        198.699995|        199.289995|293375600|25.819922000000002|\n",
      "|2010-01-29|        201.079996|        202.199995|        190.250002|        192.060003|311488100|         24.883208|\n",
      "|2010-02-01|192.36999699999998|             196.0|191.29999899999999|        194.729998|187469100|         25.229131|\n",
      "+----------+------------------+------------------+------------------+------------------+---------+------------------+\n"
     ]
    }
   ],
   "source": [
    "df.filter(\"Close < 500\").show()"
   ],
   "metadata": {
    "collapsed": false,
    "ExecuteTime": {
     "end_time": "2024-06-05T13:14:19.331514Z",
     "start_time": "2024-06-05T13:14:18.746544Z"
    }
   },
   "id": "6f8ff8e3c333ca8d"
  },
  {
   "cell_type": "code",
   "execution_count": 40,
   "outputs": [
    {
     "name": "stdout",
     "output_type": "stream",
     "text": [
      "+----------+------------------+------------------+\n",
      "|      Date|              Open|              High|\n",
      "+----------+------------------+------------------+\n",
      "|2012-02-14|        504.659988|         509.56002|\n",
      "|2012-02-15|        514.259995|        526.290016|\n",
      "|2012-02-17|        503.109993|507.77002000000005|\n",
      "|2012-02-21|506.88001299999996|        514.850021|\n",
      "|2012-02-22|        513.079994|        515.489983|\n",
      "|2012-02-23|        515.079987|        517.830009|\n",
      "|2012-02-24| 519.6699980000001|        522.899979|\n",
      "|2012-02-27|        521.309982|             528.5|\n",
      "|2012-02-28|        527.960014|        535.410011|\n",
      "|2012-02-29| 541.5600049999999| 547.6100230000001|\n",
      "|2012-03-01|        548.169983|        548.209984|\n",
      "|2012-03-02|        544.240013|        546.800018|\n",
      "|2012-03-05|        545.420013|         547.47998|\n",
      "|2012-03-06|        523.659996|        533.690025|\n",
      "|2012-03-07| 536.8000030000001|        537.779999|\n",
      "|2012-03-08| 534.6899950000001|        542.989998|\n",
      "|2012-03-09|        544.209999|        547.740013|\n",
      "|2012-03-12| 548.9799879999999|        551.999977|\n",
      "|2012-03-13|        557.540024|            568.18|\n",
      "|2012-03-14|        578.050026|        594.719994|\n",
      "+----------+------------------+------------------+\n"
     ]
    }
   ],
   "source": [
    "df.filter(\"Open > 500\").select([\"Date\", \"Open\", \"High\"]).show()"
   ],
   "metadata": {
    "collapsed": false,
    "ExecuteTime": {
     "end_time": "2024-06-05T13:15:21.078522Z",
     "start_time": "2024-06-05T13:15:20.469909Z"
    }
   },
   "id": "8cc227679aeecaa2"
  },
  {
   "cell_type": "code",
   "execution_count": 42,
   "outputs": [
    {
     "name": "stderr",
     "output_type": "stream",
     "text": [
      "[Stage 27:>                                                         (0 + 1) / 1]\r"
     ]
    },
    {
     "name": "stdout",
     "output_type": "stream",
     "text": [
      "+----------+------------------+-----------------+------------------+\n",
      "|      Date|              Open|            Close|              High|\n",
      "+----------+------------------+-----------------+------------------+\n",
      "|2012-02-14|        504.659988|       509.459991|         509.56002|\n",
      "|2012-02-15|        514.259995|       497.669975|        526.290016|\n",
      "|2012-02-17|        503.109993|        502.12001|507.77002000000005|\n",
      "|2012-02-21|506.88001299999996|       514.850021|        514.850021|\n",
      "|2012-02-22|        513.079994|       513.039993|        515.489983|\n",
      "|2012-02-23|        515.079987|516.3899769999999|        517.830009|\n",
      "|2012-02-24| 519.6699980000001|522.4099809999999|        522.899979|\n",
      "|2012-02-27|        521.309982|       525.760017|             528.5|\n",
      "|2012-02-28|        527.960014|       535.410011|        535.410011|\n",
      "|2012-02-29| 541.5600049999999|       542.440025| 547.6100230000001|\n",
      "|2012-03-01|        548.169983|544.4699780000001|        548.209984|\n",
      "|2012-03-02|        544.240013|       545.180008|        546.800018|\n",
      "|2012-03-05|        545.420013|533.1600269999999|         547.47998|\n",
      "|2012-03-06|        523.659996|       530.259987|        533.690025|\n",
      "|2012-03-07| 536.8000030000001|530.6900099999999|        537.779999|\n",
      "|2012-03-08| 534.6899950000001|       541.989975|        542.989998|\n",
      "|2012-03-09|        544.209999|       545.170021|        547.740013|\n",
      "|2012-03-12| 548.9799879999999|       551.999977|        551.999977|\n",
      "|2012-03-13|        557.540024|       568.099998|            568.18|\n",
      "|2012-03-14|        578.050026|       589.580009|        594.719994|\n",
      "+----------+------------------+-----------------+------------------+\n"
     ]
    },
    {
     "name": "stderr",
     "output_type": "stream",
     "text": [
      "                                                                                \r"
     ]
    }
   ],
   "source": [
    "df.filter(df[\"Open\"] > 500).select([\"Date\", \"Open\", \"Close\", \"High\"]).show()"
   ],
   "metadata": {
    "collapsed": false,
    "ExecuteTime": {
     "end_time": "2024-06-05T13:16:02.227806Z",
     "start_time": "2024-06-05T13:16:01.103646Z"
    }
   },
   "id": "55e87f42bc8d2e8a"
  },
  {
   "cell_type": "code",
   "execution_count": 44,
   "outputs": [
    {
     "name": "stdout",
     "output_type": "stream",
     "text": [
      "+----------+------------------+----------+----------+\n",
      "|      Date|              Open|     Close|      High|\n",
      "+----------+------------------+----------+----------+\n",
      "|2010-01-22|206.78000600000001|    197.75|207.499996|\n",
      "|2010-01-28|        204.930004|199.289995|205.500004|\n",
      "|2010-01-29|        201.079996|192.060003|202.199995|\n",
      "+----------+------------------+----------+----------+\n"
     ]
    }
   ],
   "source": [
    "df.filter((df[\"Open\"] > 200) & (df[\"Close\"] < 200)).select([\"Date\", \"Open\", \"Close\", \"High\"]).show()"
   ],
   "metadata": {
    "collapsed": false,
    "ExecuteTime": {
     "end_time": "2024-06-05T13:17:15.073394Z",
     "start_time": "2024-06-05T13:17:14.423087Z"
    }
   },
   "id": "30cc55697c207b37"
  },
  {
   "cell_type": "code",
   "execution_count": 45,
   "outputs": [
    {
     "name": "stdout",
     "output_type": "stream",
     "text": [
      "+----------+------------------+----------+------+------+---------+---------+\n",
      "|      Date|              Open|      High|   Low| Close|   Volume|Adj Close|\n",
      "+----------+------------------+----------+------+------+---------+---------+\n",
      "|2010-01-22|206.78000600000001|207.499996|197.16|197.75|220441900|25.620401|\n",
      "+----------+------------------+----------+------+------+---------+---------+\n"
     ]
    }
   ],
   "source": [
    "df.filter(df[\"Low\"] == 197.16).show()"
   ],
   "metadata": {
    "collapsed": false,
    "ExecuteTime": {
     "end_time": "2024-06-05T13:17:28.894295Z",
     "start_time": "2024-06-05T13:17:28.445216Z"
    }
   },
   "id": "444d3052ca1e2507"
  },
  {
   "cell_type": "code",
   "execution_count": 46,
   "outputs": [],
   "source": [
    "result = df.filter(df[\"Low\"] == 197.16).collect()[0]"
   ],
   "metadata": {
    "collapsed": false,
    "ExecuteTime": {
     "end_time": "2024-06-05T13:17:53.709185Z",
     "start_time": "2024-06-05T13:17:53.316136Z"
    }
   },
   "id": "8d829be8474eb26b"
  },
  {
   "cell_type": "code",
   "execution_count": 47,
   "outputs": [
    {
     "data": {
      "text/plain": "{'Date': datetime.date(2010, 1, 22),\n 'Open': 206.78000600000001,\n 'High': 207.499996,\n 'Low': 197.16,\n 'Close': 197.75,\n 'Volume': 220441900,\n 'Adj Close': 25.620401}"
     },
     "execution_count": 47,
     "metadata": {},
     "output_type": "execute_result"
    }
   ],
   "source": [
    "result.asDict()"
   ],
   "metadata": {
    "collapsed": false,
    "ExecuteTime": {
     "end_time": "2024-06-05T13:17:56.278225Z",
     "start_time": "2024-06-05T13:17:56.222471Z"
    }
   },
   "id": "77411861645ec364"
  },
  {
   "cell_type": "markdown",
   "source": [
    "## Group by and aggregate functions"
   ],
   "metadata": {
    "collapsed": false
   },
   "id": "eff0962769df98a4"
  },
  {
   "cell_type": "code",
   "execution_count": 48,
   "outputs": [
    {
     "name": "stderr",
     "output_type": "stream",
     "text": [
      "24/06/05 20:20:03 WARN SparkSession: Using an existing Spark session; only runtime SQL configurations will take effect.\n"
     ]
    }
   ],
   "source": [
    "spark = SparkSession.builder.appName(\"aggregate\").getOrCreate()\n",
    "df = spark.read.csv('./files/sales_info.csv', header=True, inferSchema=True)"
   ],
   "metadata": {
    "collapsed": false,
    "ExecuteTime": {
     "end_time": "2024-06-05T13:20:04.673161Z",
     "start_time": "2024-06-05T13:20:03.280400Z"
    }
   },
   "id": "de2981d6d4eb8031"
  },
  {
   "cell_type": "code",
   "execution_count": 49,
   "outputs": [
    {
     "name": "stdout",
     "output_type": "stream",
     "text": [
      "+-------+-------+-----+\n",
      "|Company| Person|Sales|\n",
      "+-------+-------+-----+\n",
      "|   GOOG|    Sam|200.0|\n",
      "|   GOOG|Charlie|120.0|\n",
      "|   GOOG|  Frank|340.0|\n",
      "|   MSFT|   Tina|600.0|\n",
      "|   MSFT|    Amy|124.0|\n",
      "|   MSFT|Vanessa|243.0|\n",
      "|     FB|   Carl|870.0|\n",
      "|     FB|  Sarah|350.0|\n",
      "|   APPL|   John|250.0|\n",
      "|   APPL|  Linda|130.0|\n",
      "|   APPL|   Mike|750.0|\n",
      "|   APPL|  Chris|350.0|\n",
      "+-------+-------+-----+\n"
     ]
    }
   ],
   "source": [
    "df.show()"
   ],
   "metadata": {
    "collapsed": false,
    "ExecuteTime": {
     "end_time": "2024-06-05T13:20:05.931542Z",
     "start_time": "2024-06-05T13:20:05.211627Z"
    }
   },
   "id": "f71e844110698cc7"
  },
  {
   "cell_type": "code",
   "execution_count": 50,
   "outputs": [
    {
     "data": {
      "text/plain": "GroupedData[grouping expressions: [Company], value: [Company: string, Person: string ... 1 more field], type: GroupBy]"
     },
     "execution_count": 50,
     "metadata": {},
     "output_type": "execute_result"
    }
   ],
   "source": [
    "df.groupBy(\"Company\")"
   ],
   "metadata": {
    "collapsed": false,
    "ExecuteTime": {
     "end_time": "2024-06-05T13:20:24.008081Z",
     "start_time": "2024-06-05T13:20:23.934459Z"
    }
   },
   "id": "ee859be6af802931"
  },
  {
   "cell_type": "code",
   "execution_count": 52,
   "outputs": [
    {
     "name": "stdout",
     "output_type": "stream",
     "text": [
      "+-------+-----------------+\n",
      "|Company|       avg(Sales)|\n",
      "+-------+-----------------+\n",
      "|   APPL|            370.0|\n",
      "|   GOOG|            220.0|\n",
      "|     FB|            610.0|\n",
      "|   MSFT|322.3333333333333|\n",
      "+-------+-----------------+\n"
     ]
    }
   ],
   "source": [
    "df.groupBy(\"Company\").mean().show()"
   ],
   "metadata": {
    "collapsed": false,
    "ExecuteTime": {
     "end_time": "2024-06-05T13:20:44.236464Z",
     "start_time": "2024-06-05T13:20:42.416333Z"
    }
   },
   "id": "c1b81000b9ffbb0e"
  },
  {
   "cell_type": "code",
   "execution_count": 53,
   "outputs": [
    {
     "name": "stdout",
     "output_type": "stream",
     "text": [
      "+-------+----------+\n",
      "|Company|max(Sales)|\n",
      "+-------+----------+\n",
      "|   APPL|     750.0|\n",
      "|   GOOG|     340.0|\n",
      "|     FB|     870.0|\n",
      "|   MSFT|     600.0|\n",
      "+-------+----------+\n"
     ]
    }
   ],
   "source": [
    "df.groupBy(\"Company\").max().show()"
   ],
   "metadata": {
    "collapsed": false,
    "ExecuteTime": {
     "end_time": "2024-06-05T13:21:01.002667Z",
     "start_time": "2024-06-05T13:21:00.044689Z"
    }
   },
   "id": "4a77406376110789"
  },
  {
   "cell_type": "code",
   "execution_count": 54,
   "outputs": [
    {
     "name": "stdout",
     "output_type": "stream",
     "text": [
      "+-------+-----------------+-------------+\n",
      "|Company|       avg(Sales)|count(Person)|\n",
      "+-------+-----------------+-------------+\n",
      "|   APPL|            370.0|            4|\n",
      "|   GOOG|            220.0|            3|\n",
      "|     FB|            610.0|            2|\n",
      "|   MSFT|322.3333333333333|            3|\n",
      "+-------+-----------------+-------------+\n"
     ]
    }
   ],
   "source": [
    "df.groupBy(\"Company\").agg({\"Sales\": \"mean\", \"Person\": \"count\"}).show()"
   ],
   "metadata": {
    "collapsed": false,
    "ExecuteTime": {
     "end_time": "2024-06-05T13:22:14.281973Z",
     "start_time": "2024-06-05T13:22:13.488690Z"
    }
   },
   "id": "eaa8c4491430b2c0"
  },
  {
   "cell_type": "markdown",
   "source": [
    "## Aggregate functions"
   ],
   "metadata": {
    "collapsed": false
   },
   "id": "f4dc35b327ba2c96"
  },
  {
   "cell_type": "code",
   "execution_count": 60,
   "outputs": [],
   "source": [
    "from pyspark.sql.functions import count_distinct, avg, stddev, format_number"
   ],
   "metadata": {
    "collapsed": false,
    "ExecuteTime": {
     "end_time": "2024-06-05T13:25:42.427416Z",
     "start_time": "2024-06-05T13:25:42.418009Z"
    }
   },
   "id": "ee68d61ca06fb3a8"
  },
  {
   "cell_type": "code",
   "execution_count": 56,
   "outputs": [
    {
     "name": "stderr",
     "output_type": "stream",
     "text": [
      "[Stage 43:>                                                         (0 + 1) / 1]\r"
     ]
    },
    {
     "name": "stdout",
     "output_type": "stream",
     "text": [
      "+---------------------+\n",
      "|count(DISTINCT Sales)|\n",
      "+---------------------+\n",
      "|                   11|\n",
      "+---------------------+\n"
     ]
    },
    {
     "name": "stderr",
     "output_type": "stream",
     "text": [
      "                                                                                \r"
     ]
    }
   ],
   "source": [
    "df.select(count_distinct('Sales')).show()"
   ],
   "metadata": {
    "collapsed": false,
    "ExecuteTime": {
     "end_time": "2024-06-05T13:23:30.921569Z",
     "start_time": "2024-06-05T13:23:29.459585Z"
    }
   },
   "id": "351e80ed748b2c19"
  },
  {
   "cell_type": "code",
   "execution_count": 57,
   "outputs": [
    {
     "name": "stdout",
     "output_type": "stream",
     "text": [
      "+--------------------+\n",
      "|count_distinct_sales|\n",
      "+--------------------+\n",
      "|                  11|\n",
      "+--------------------+\n"
     ]
    }
   ],
   "source": [
    "df.select(count_distinct('Sales').alias('count_distinct_sales')).show()"
   ],
   "metadata": {
    "collapsed": false,
    "ExecuteTime": {
     "end_time": "2024-06-05T13:23:53.631455Z",
     "start_time": "2024-06-05T13:23:53.018553Z"
    }
   },
   "id": "b879fe5491d141c0"
  },
  {
   "cell_type": "code",
   "execution_count": 58,
   "outputs": [
    {
     "name": "stdout",
     "output_type": "stream",
     "text": [
      "+-----------------+\n",
      "|        avg_sales|\n",
      "+-----------------+\n",
      "|360.5833333333333|\n",
      "+-----------------+\n"
     ]
    }
   ],
   "source": [
    "df.select(avg('Sales').alias('avg_sales')).show()"
   ],
   "metadata": {
    "collapsed": false,
    "ExecuteTime": {
     "end_time": "2024-06-05T13:24:19.185308Z",
     "start_time": "2024-06-05T13:24:17.790108Z"
    }
   },
   "id": "2861f1d8e9dac001"
  },
  {
   "cell_type": "code",
   "execution_count": 59,
   "outputs": [
    {
     "name": "stdout",
     "output_type": "stream",
     "text": [
      "+------------------+\n",
      "|         std_sales|\n",
      "+------------------+\n",
      "|250.08742410799007|\n",
      "+------------------+\n"
     ]
    }
   ],
   "source": [
    "df.select(stddev('Sales').alias('std_sales')).show()"
   ],
   "metadata": {
    "collapsed": false,
    "ExecuteTime": {
     "end_time": "2024-06-05T13:24:40.735335Z",
     "start_time": "2024-06-05T13:24:40.132803Z"
    }
   },
   "id": "f8fe4f8a99dccbff"
  },
  {
   "cell_type": "code",
   "execution_count": 61,
   "outputs": [
    {
     "name": "stdout",
     "output_type": "stream",
     "text": [
      "+---------------------------+\n",
      "|format_number(avg_sales, 2)|\n",
      "+---------------------------+\n",
      "|                     360.58|\n",
      "+---------------------------+\n"
     ]
    }
   ],
   "source": [
    "avg_sales = df.select(avg('Sales').alias('avg_sales'))\n",
    "avg_sales.select(format_number('avg_sales', 2)).show()"
   ],
   "metadata": {
    "collapsed": false,
    "ExecuteTime": {
     "end_time": "2024-06-05T13:26:16.728309Z",
     "start_time": "2024-06-05T13:26:15.673420Z"
    }
   },
   "id": "95f645609595ba2b"
  },
  {
   "cell_type": "markdown",
   "source": [
    "## Order by"
   ],
   "metadata": {
    "collapsed": false
   },
   "id": "3f74191d7224ad14"
  },
  {
   "cell_type": "code",
   "execution_count": 62,
   "outputs": [
    {
     "name": "stdout",
     "output_type": "stream",
     "text": [
      "+-------+-------+-----+\n",
      "|Company| Person|Sales|\n",
      "+-------+-------+-----+\n",
      "|   GOOG|Charlie|120.0|\n",
      "|   MSFT|    Amy|124.0|\n",
      "|   APPL|  Linda|130.0|\n",
      "|   GOOG|    Sam|200.0|\n",
      "|   MSFT|Vanessa|243.0|\n",
      "|   APPL|   John|250.0|\n",
      "|   GOOG|  Frank|340.0|\n",
      "|     FB|  Sarah|350.0|\n",
      "|   APPL|  Chris|350.0|\n",
      "|   MSFT|   Tina|600.0|\n",
      "|   APPL|   Mike|750.0|\n",
      "|     FB|   Carl|870.0|\n",
      "+-------+-------+-----+\n"
     ]
    }
   ],
   "source": [
    "df.orderBy('Sales').show()"
   ],
   "metadata": {
    "collapsed": false,
    "ExecuteTime": {
     "end_time": "2024-06-05T13:26:43.655441Z",
     "start_time": "2024-06-05T13:26:42.406417Z"
    }
   },
   "id": "f40955417586aa9"
  },
  {
   "cell_type": "code",
   "execution_count": 63,
   "outputs": [
    {
     "name": "stdout",
     "output_type": "stream",
     "text": [
      "+-------+-------+-----+\n",
      "|Company| Person|Sales|\n",
      "+-------+-------+-----+\n",
      "|     FB|   Carl|870.0|\n",
      "|   APPL|   Mike|750.0|\n",
      "|   MSFT|   Tina|600.0|\n",
      "|     FB|  Sarah|350.0|\n",
      "|   APPL|  Chris|350.0|\n",
      "|   GOOG|  Frank|340.0|\n",
      "|   APPL|   John|250.0|\n",
      "|   MSFT|Vanessa|243.0|\n",
      "|   GOOG|    Sam|200.0|\n",
      "|   APPL|  Linda|130.0|\n",
      "|   MSFT|    Amy|124.0|\n",
      "|   GOOG|Charlie|120.0|\n",
      "+-------+-------+-----+\n"
     ]
    }
   ],
   "source": [
    "df.orderBy(df['Sales'].desc()).show()"
   ],
   "metadata": {
    "collapsed": false,
    "ExecuteTime": {
     "end_time": "2024-06-05T13:27:03.012333Z",
     "start_time": "2024-06-05T13:27:02.694107Z"
    }
   },
   "id": "f21f77c7866e61af"
  },
  {
   "cell_type": "markdown",
   "source": [
    "## Handle missing data"
   ],
   "metadata": {
    "collapsed": false
   },
   "id": "1d0ab44aefd90b40"
  },
  {
   "cell_type": "code",
   "execution_count": 64,
   "outputs": [
    {
     "name": "stderr",
     "output_type": "stream",
     "text": [
      "24/06/05 20:32:28 WARN SparkSession: Using an existing Spark session; only runtime SQL configurations will take effect.\n"
     ]
    },
    {
     "name": "stdout",
     "output_type": "stream",
     "text": [
      "+----+-----+-----+\n",
      "|  Id| Name|Sales|\n",
      "+----+-----+-----+\n",
      "|emp1| John| NULL|\n",
      "|emp2| NULL| NULL|\n",
      "|emp3| NULL|345.0|\n",
      "|emp4|Cindy|456.0|\n",
      "+----+-----+-----+\n"
     ]
    }
   ],
   "source": [
    "spark = SparkSession.builder.appName(\"missing_data\").getOrCreate()\n",
    "df = spark.read.csv(\"./files/ContainsNull.csv\", header=True, inferSchema=True)\n",
    "df.show()"
   ],
   "metadata": {
    "collapsed": false,
    "ExecuteTime": {
     "end_time": "2024-06-05T13:32:30.735650Z",
     "start_time": "2024-06-05T13:32:28.967312Z"
    }
   },
   "id": "3991decf0b958b9b"
  },
  {
   "cell_type": "markdown",
   "source": [
    "## Drop missing data"
   ],
   "metadata": {
    "collapsed": false
   },
   "id": "35ce5965e185697d"
  },
  {
   "cell_type": "code",
   "execution_count": 66,
   "outputs": [
    {
     "name": "stdout",
     "output_type": "stream",
     "text": [
      "+----+-----+-----+\n",
      "|  Id| Name|Sales|\n",
      "+----+-----+-----+\n",
      "|emp4|Cindy|456.0|\n",
      "+----+-----+-----+\n"
     ]
    }
   ],
   "source": [
    "df.na.drop().show()"
   ],
   "metadata": {
    "collapsed": false,
    "ExecuteTime": {
     "end_time": "2024-06-05T13:33:13.274151Z",
     "start_time": "2024-06-05T13:33:12.033194Z"
    }
   },
   "id": "41dfefc9746a7eb1"
  },
  {
   "cell_type": "code",
   "execution_count": 67,
   "outputs": [
    {
     "name": "stdout",
     "output_type": "stream",
     "text": [
      "+----+-----+-----+\n",
      "|  Id| Name|Sales|\n",
      "+----+-----+-----+\n",
      "|emp1| John| NULL|\n",
      "|emp3| NULL|345.0|\n",
      "|emp4|Cindy|456.0|\n",
      "+----+-----+-----+\n"
     ]
    }
   ],
   "source": [
    "# Has to have at least 2 NON-null values\n",
    "df.na.drop(thresh=2).show()"
   ],
   "metadata": {
    "collapsed": false,
    "ExecuteTime": {
     "end_time": "2024-06-05T13:33:19.735549Z",
     "start_time": "2024-06-05T13:33:19.219515Z"
    }
   },
   "id": "746de42c91974d3b"
  },
  {
   "cell_type": "code",
   "execution_count": 68,
   "outputs": [
    {
     "name": "stdout",
     "output_type": "stream",
     "text": [
      "+----+-----+-----+\n",
      "|  Id| Name|Sales|\n",
      "+----+-----+-----+\n",
      "|emp3| NULL|345.0|\n",
      "|emp4|Cindy|456.0|\n",
      "+----+-----+-----+\n"
     ]
    }
   ],
   "source": [
    "df.na.drop(subset=[\"Sales\"]).show()"
   ],
   "metadata": {
    "collapsed": false,
    "ExecuteTime": {
     "end_time": "2024-06-05T13:33:28.867829Z",
     "start_time": "2024-06-05T13:33:27.896382Z"
    }
   },
   "id": "405be5afbc80bec"
  },
  {
   "cell_type": "markdown",
   "source": [
    "## Fill missing values"
   ],
   "metadata": {
    "collapsed": false
   },
   "id": "2d9b5f63194c3425"
  },
  {
   "cell_type": "code",
   "execution_count": 69,
   "outputs": [
    {
     "name": "stdout",
     "output_type": "stream",
     "text": [
      "+----+---------+-----+\n",
      "|  Id|     Name|Sales|\n",
      "+----+---------+-----+\n",
      "|emp1|     John| NULL|\n",
      "|emp2|NEW VALUE| NULL|\n",
      "|emp3|NEW VALUE|345.0|\n",
      "|emp4|    Cindy|456.0|\n",
      "+----+---------+-----+\n"
     ]
    }
   ],
   "source": [
    "df.na.fill('NEW VALUE').show()"
   ],
   "metadata": {
    "collapsed": false,
    "ExecuteTime": {
     "end_time": "2024-06-05T13:33:54.575484Z",
     "start_time": "2024-06-05T13:33:53.266785Z"
    }
   },
   "id": "3491f1c984a73f05"
  },
  {
   "cell_type": "code",
   "execution_count": 70,
   "outputs": [
    {
     "name": "stdout",
     "output_type": "stream",
     "text": [
      "+----+-----+-----+\n",
      "|  Id| Name|Sales|\n",
      "+----+-----+-----+\n",
      "|emp1| John|  0.0|\n",
      "|emp2| NULL|  0.0|\n",
      "|emp3| NULL|345.0|\n",
      "|emp4|Cindy|456.0|\n",
      "+----+-----+-----+\n"
     ]
    }
   ],
   "source": [
    "df.na.fill(0).show()"
   ],
   "metadata": {
    "collapsed": false,
    "ExecuteTime": {
     "end_time": "2024-06-05T13:34:04.790421Z",
     "start_time": "2024-06-05T13:34:03.901952Z"
    }
   },
   "id": "7d2f4e7f2cde3139"
  },
  {
   "cell_type": "code",
   "execution_count": 71,
   "outputs": [
    {
     "name": "stdout",
     "output_type": "stream",
     "text": [
      "+----+-----+-----+\n",
      "|  Id| Name|Sales|\n",
      "+----+-----+-----+\n",
      "|emp1| John|  0.0|\n",
      "|emp2| NULL|  0.0|\n",
      "|emp3| NULL|345.0|\n",
      "|emp4|Cindy|456.0|\n",
      "+----+-----+-----+\n"
     ]
    }
   ],
   "source": [
    "df.na.fill(0, subset=['Sales']).show()"
   ],
   "metadata": {
    "collapsed": false,
    "ExecuteTime": {
     "end_time": "2024-06-05T13:34:22.489024Z",
     "start_time": "2024-06-05T13:34:21.574194Z"
    }
   },
   "id": "e490b76af6b50823"
  },
  {
   "cell_type": "code",
   "execution_count": 75,
   "outputs": [
    {
     "name": "stdout",
     "output_type": "stream",
     "text": [
      "+----+-----+-----+\n",
      "|  Id| Name|Sales|\n",
      "+----+-----+-----+\n",
      "|emp1| John| NULL|\n",
      "|emp2|  N/A| NULL|\n",
      "|emp3|  N/A|345.0|\n",
      "|emp4|Cindy|456.0|\n",
      "+----+-----+-----+\n"
     ]
    }
   ],
   "source": [
    "df.na.fill('N/A', subset=['Name']).show()"
   ],
   "metadata": {
    "collapsed": false,
    "ExecuteTime": {
     "end_time": "2024-06-05T13:35:46.066571Z",
     "start_time": "2024-06-05T13:35:45.390716Z"
    }
   },
   "id": "44786685fe100355"
  },
  {
   "cell_type": "code",
   "execution_count": 77,
   "outputs": [
    {
     "name": "stderr",
     "output_type": "stream",
     "text": [
      "                                                                                \r"
     ]
    }
   ],
   "source": [
    "avg_sales = df.select(avg('Sales').alias('avg_sales')).collect()\n",
    "avg_sales = avg_sales[0].asDict()[\"avg_sales\"]"
   ],
   "metadata": {
    "collapsed": false,
    "ExecuteTime": {
     "end_time": "2024-06-05T13:37:11.576454Z",
     "start_time": "2024-06-05T13:37:10.291234Z"
    }
   },
   "id": "c7f0bbcfea6f722b"
  },
  {
   "cell_type": "code",
   "execution_count": 78,
   "outputs": [
    {
     "name": "stdout",
     "output_type": "stream",
     "text": [
      "+----+-----+-----+\n",
      "|  Id| Name|Sales|\n",
      "+----+-----+-----+\n",
      "|emp1| John|400.5|\n",
      "|emp2| NULL|400.5|\n",
      "|emp3| NULL|345.0|\n",
      "|emp4|Cindy|456.0|\n",
      "+----+-----+-----+\n"
     ]
    }
   ],
   "source": [
    "df.na.fill(avg_sales, subset=['Sales']).show()"
   ],
   "metadata": {
    "collapsed": false,
    "ExecuteTime": {
     "end_time": "2024-06-05T13:37:30.934516Z",
     "start_time": "2024-06-05T13:37:30.097722Z"
    }
   },
   "id": "8c5a05a37f0241b6"
  },
  {
   "cell_type": "markdown",
   "source": [
    "## Dates and Timestamps"
   ],
   "metadata": {
    "collapsed": false
   },
   "id": "4eefcf746dadcf00"
  },
  {
   "cell_type": "code",
   "execution_count": 79,
   "outputs": [
    {
     "name": "stderr",
     "output_type": "stream",
     "text": [
      "24/06/05 20:39:44 WARN SparkSession: Using an existing Spark session; only runtime SQL configurations will take effect.\n"
     ]
    },
    {
     "name": "stdout",
     "output_type": "stream",
     "text": [
      "+----------+------------------+------------------+------------------+------------------+---------+------------------+\n",
      "|      Date|              Open|              High|               Low|             Close|   Volume|         Adj Close|\n",
      "+----------+------------------+------------------+------------------+------------------+---------+------------------+\n",
      "|2010-01-04|        213.429998|        214.499996|212.38000099999996|        214.009998|123432400|         27.727039|\n",
      "|2010-01-05|        214.599998|        215.589994|        213.249994|        214.379993|150476200|27.774976000000002|\n",
      "|2010-01-06|        214.379993|            215.23|        210.750004|        210.969995|138040000|27.333178000000004|\n",
      "|2010-01-07|            211.75|        212.000006|        209.050005|            210.58|119282800|          27.28265|\n",
      "|2010-01-08|        210.299994|        212.000006|209.06000500000002|211.98000499999998|111902700|         27.464034|\n",
      "|2010-01-11|212.79999700000002|        213.000002|        208.450005|210.11000299999998|115557400|         27.221758|\n",
      "|2010-01-12|209.18999499999998|209.76999500000002|        206.419998|        207.720001|148614900|          26.91211|\n",
      "|2010-01-13|        207.870005|210.92999500000002|        204.099998|        210.650002|151473000|          27.29172|\n",
      "|2010-01-14|210.11000299999998|210.45999700000002|        209.020004|            209.43|108223500|         27.133657|\n",
      "|2010-01-15|210.92999500000002|211.59999700000003|        205.869999|            205.93|148516900|26.680197999999997|\n",
      "|2010-01-19|        208.330002|215.18999900000003|        207.240004|        215.039995|182501900|27.860484999999997|\n",
      "|2010-01-20|        214.910006|        215.549994|        209.500002|            211.73|153038200|         27.431644|\n",
      "|2010-01-21|        212.079994|213.30999599999998|        207.210003|        208.069996|152038600|         26.957455|\n",
      "|2010-01-22|206.78000600000001|        207.499996|            197.16|            197.75|220441900|         25.620401|\n",
      "|2010-01-25|202.51000200000001|        204.699999|        200.190002|        203.070002|266424900|26.309658000000002|\n",
      "|2010-01-26|205.95000100000001|        213.710005|        202.580004|        205.940001|466777500|         26.681494|\n",
      "|2010-01-27|        206.849995|            210.58|        199.530001|        207.880005|430642100|26.932840000000002|\n",
      "|2010-01-28|        204.930004|        205.500004|        198.699995|        199.289995|293375600|25.819922000000002|\n",
      "|2010-01-29|        201.079996|        202.199995|        190.250002|        192.060003|311488100|         24.883208|\n",
      "|2010-02-01|192.36999699999998|             196.0|191.29999899999999|        194.729998|187469100|         25.229131|\n",
      "+----------+------------------+------------------+------------------+------------------+---------+------------------+\n"
     ]
    }
   ],
   "source": [
    "spark = SparkSession.builder.appName(\"dates\").getOrCreate()\n",
    "df = spark.read.csv(\"./files/appl_stock.csv\", header=True, inferSchema=True)\n",
    "df.show()"
   ],
   "metadata": {
    "collapsed": false,
    "ExecuteTime": {
     "end_time": "2024-06-05T13:39:46.930103Z",
     "start_time": "2024-06-05T13:39:44.518666Z"
    }
   },
   "id": "392e26f0c4066b94"
  },
  {
   "cell_type": "code",
   "execution_count": 80,
   "outputs": [],
   "source": [
    "from pyspark.sql.functions import dayofmonth, dayofyear, hour, month, year"
   ],
   "metadata": {
    "collapsed": false,
    "ExecuteTime": {
     "end_time": "2024-06-05T13:40:24.192631Z",
     "start_time": "2024-06-05T13:40:24.145465Z"
    }
   },
   "id": "6256b13354b008ee"
  },
  {
   "cell_type": "code",
   "execution_count": 81,
   "outputs": [
    {
     "name": "stdout",
     "output_type": "stream",
     "text": [
      "+---------------+\n",
      "|dayofyear(Date)|\n",
      "+---------------+\n",
      "|              4|\n",
      "|              5|\n",
      "|              6|\n",
      "|              7|\n",
      "|              8|\n",
      "|             11|\n",
      "|             12|\n",
      "|             13|\n",
      "|             14|\n",
      "|             15|\n",
      "|             19|\n",
      "|             20|\n",
      "|             21|\n",
      "|             22|\n",
      "|             25|\n",
      "|             26|\n",
      "|             27|\n",
      "|             28|\n",
      "|             29|\n",
      "|             32|\n",
      "+---------------+\n"
     ]
    },
    {
     "name": "stderr",
     "output_type": "stream",
     "text": [
      "                                                                                \r"
     ]
    }
   ],
   "source": [
    "df.select(dayofyear('Date')).show()"
   ],
   "metadata": {
    "collapsed": false,
    "ExecuteTime": {
     "end_time": "2024-06-05T13:40:45.030723Z",
     "start_time": "2024-06-05T13:40:43.660082Z"
    }
   },
   "id": "10217199ddf6782a"
  },
  {
   "cell_type": "code",
   "execution_count": 82,
   "outputs": [
    {
     "name": "stdout",
     "output_type": "stream",
     "text": [
      "+----------+------------------+------------------+------------------+------------------+---------+------------------+----+\n",
      "|      Date|              Open|              High|               Low|             Close|   Volume|         Adj Close|Year|\n",
      "+----------+------------------+------------------+------------------+------------------+---------+------------------+----+\n",
      "|2010-01-04|        213.429998|        214.499996|212.38000099999996|        214.009998|123432400|         27.727039|2010|\n",
      "|2010-01-05|        214.599998|        215.589994|        213.249994|        214.379993|150476200|27.774976000000002|2010|\n",
      "|2010-01-06|        214.379993|            215.23|        210.750004|        210.969995|138040000|27.333178000000004|2010|\n",
      "|2010-01-07|            211.75|        212.000006|        209.050005|            210.58|119282800|          27.28265|2010|\n",
      "|2010-01-08|        210.299994|        212.000006|209.06000500000002|211.98000499999998|111902700|         27.464034|2010|\n",
      "|2010-01-11|212.79999700000002|        213.000002|        208.450005|210.11000299999998|115557400|         27.221758|2010|\n",
      "|2010-01-12|209.18999499999998|209.76999500000002|        206.419998|        207.720001|148614900|          26.91211|2010|\n",
      "|2010-01-13|        207.870005|210.92999500000002|        204.099998|        210.650002|151473000|          27.29172|2010|\n",
      "|2010-01-14|210.11000299999998|210.45999700000002|        209.020004|            209.43|108223500|         27.133657|2010|\n",
      "|2010-01-15|210.92999500000002|211.59999700000003|        205.869999|            205.93|148516900|26.680197999999997|2010|\n",
      "|2010-01-19|        208.330002|215.18999900000003|        207.240004|        215.039995|182501900|27.860484999999997|2010|\n",
      "|2010-01-20|        214.910006|        215.549994|        209.500002|            211.73|153038200|         27.431644|2010|\n",
      "|2010-01-21|        212.079994|213.30999599999998|        207.210003|        208.069996|152038600|         26.957455|2010|\n",
      "|2010-01-22|206.78000600000001|        207.499996|            197.16|            197.75|220441900|         25.620401|2010|\n",
      "|2010-01-25|202.51000200000001|        204.699999|        200.190002|        203.070002|266424900|26.309658000000002|2010|\n",
      "|2010-01-26|205.95000100000001|        213.710005|        202.580004|        205.940001|466777500|         26.681494|2010|\n",
      "|2010-01-27|        206.849995|            210.58|        199.530001|        207.880005|430642100|26.932840000000002|2010|\n",
      "|2010-01-28|        204.930004|        205.500004|        198.699995|        199.289995|293375600|25.819922000000002|2010|\n",
      "|2010-01-29|        201.079996|        202.199995|        190.250002|        192.060003|311488100|         24.883208|2010|\n",
      "|2010-02-01|192.36999699999998|             196.0|191.29999899999999|        194.729998|187469100|         25.229131|2010|\n",
      "+----------+------------------+------------------+------------------+------------------+---------+------------------+----+\n"
     ]
    }
   ],
   "source": [
    "df = df.withColumn('Year', year(df['Date']))\n",
    "df.show()"
   ],
   "metadata": {
    "collapsed": false,
    "ExecuteTime": {
     "end_time": "2024-06-05T13:41:39.747015Z",
     "start_time": "2024-06-05T13:41:38.342956Z"
    }
   },
   "id": "dc1c649f32e3f171"
  },
  {
   "cell_type": "code",
   "execution_count": 84,
   "outputs": [
    {
     "name": "stdout",
     "output_type": "stream",
     "text": [
      "+----+------------------+------------------+\n",
      "|Year|         avg(Open)|        avg(Close)|\n",
      "+----+------------------+------------------+\n",
      "|2015|120.17575393253965|120.03999980555547|\n",
      "|2013| 473.1281355634922| 472.6348802857143|\n",
      "|2014| 295.1426195357143| 295.4023416507935|\n",
      "|2012|     576.652720788| 576.0497195640002|\n",
      "|2016|104.50777772619044|104.60400786904763|\n",
      "|2010| 259.9576190992064| 259.8424600000002|\n",
      "|2011|364.06142773412705|364.00432532142867|\n",
      "+----+------------------+------------------+\n"
     ]
    },
    {
     "name": "stderr",
     "output_type": "stream",
     "text": [
      "                                                                                \r"
     ]
    }
   ],
   "source": [
    "df.groupBy('Year').avg().select([\"Year\", \"avg(Open)\", \"avg(Close)\"]).show()"
   ],
   "metadata": {
    "collapsed": false,
    "ExecuteTime": {
     "end_time": "2024-06-05T13:42:54.053621Z",
     "start_time": "2024-06-05T13:42:52.064798Z"
    }
   },
   "id": "11ebf1f7368e7a25"
  }
 ],
 "metadata": {
  "kernelspec": {
   "display_name": "Python 3 (ipykernel)",
   "language": "python",
   "name": "python3"
  },
  "language_info": {
   "codemirror_mode": {
    "name": "ipython",
    "version": 3
   },
   "file_extension": ".py",
   "mimetype": "text/x-python",
   "name": "python",
   "nbconvert_exporter": "python",
   "pygments_lexer": "ipython3",
   "version": "3.11.9"
  }
 },
 "nbformat": 4,
 "nbformat_minor": 5
}
